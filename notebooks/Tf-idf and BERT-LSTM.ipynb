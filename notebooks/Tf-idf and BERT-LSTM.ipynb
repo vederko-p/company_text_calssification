{
  "nbformat": 4,
  "nbformat_minor": 0,
  "metadata": {
    "colab": {
      "provenance": [],
      "collapsed_sections": [],
      "toc_visible": true
    },
    "kernelspec": {
      "name": "python3",
      "display_name": "Python 3"
    },
    "language_info": {
      "name": "python"
    }
  },
  "cells": [
    {
      "cell_type": "markdown",
      "source": [
        "## BERT"
      ],
      "metadata": {
        "id": "hcIqc53uQ3-E"
      }
    },
    {
      "cell_type": "code",
      "source": [
        "!pip install pytorch-transformers"
      ],
      "metadata": {
        "colab": {
          "base_uri": "https://localhost:8080/"
        },
        "id": "zO0LwPDrR50Z",
        "outputId": "78bec206-7767-4a5b-e0b5-78490d31c553"
      },
      "execution_count": null,
      "outputs": [
        {
          "output_type": "stream",
          "name": "stdout",
          "text": [
            "Looking in indexes: https://pypi.org/simple, https://us-python.pkg.dev/colab-wheels/public/simple/\n",
            "Collecting pytorch-transformers\n",
            "  Downloading pytorch_transformers-1.2.0-py3-none-any.whl (176 kB)\n",
            "\u001b[K     |████████████████████████████████| 176 kB 26.1 MB/s \n",
            "\u001b[?25hCollecting boto3\n",
            "  Downloading boto3-1.24.92-py3-none-any.whl (132 kB)\n",
            "\u001b[K     |████████████████████████████████| 132 kB 67.5 MB/s \n",
            "\u001b[?25hRequirement already satisfied: regex in /usr/local/lib/python3.7/dist-packages (from pytorch-transformers) (2022.6.2)\n",
            "Collecting sacremoses\n",
            "  Downloading sacremoses-0.0.53.tar.gz (880 kB)\n",
            "\u001b[K     |████████████████████████████████| 880 kB 33.5 MB/s \n",
            "\u001b[?25hCollecting sentencepiece\n",
            "  Downloading sentencepiece-0.1.97-cp37-cp37m-manylinux_2_17_x86_64.manylinux2014_x86_64.whl (1.3 MB)\n",
            "\u001b[K     |████████████████████████████████| 1.3 MB 38.9 MB/s \n",
            "\u001b[?25hRequirement already satisfied: tqdm in /usr/local/lib/python3.7/dist-packages (from pytorch-transformers) (4.64.1)\n",
            "Requirement already satisfied: requests in /usr/local/lib/python3.7/dist-packages (from pytorch-transformers) (2.23.0)\n",
            "Requirement already satisfied: torch>=1.0.0 in /usr/local/lib/python3.7/dist-packages (from pytorch-transformers) (1.12.1+cu113)\n",
            "Requirement already satisfied: numpy in /usr/local/lib/python3.7/dist-packages (from pytorch-transformers) (1.21.6)\n",
            "Requirement already satisfied: typing-extensions in /usr/local/lib/python3.7/dist-packages (from torch>=1.0.0->pytorch-transformers) (4.1.1)\n",
            "Collecting s3transfer<0.7.0,>=0.6.0\n",
            "  Downloading s3transfer-0.6.0-py3-none-any.whl (79 kB)\n",
            "\u001b[K     |████████████████████████████████| 79 kB 7.4 MB/s \n",
            "\u001b[?25hCollecting botocore<1.28.0,>=1.27.92\n",
            "  Downloading botocore-1.27.92-py3-none-any.whl (9.3 MB)\n",
            "\u001b[K     |████████████████████████████████| 9.3 MB 47.3 MB/s \n",
            "\u001b[?25hCollecting jmespath<2.0.0,>=0.7.1\n",
            "  Downloading jmespath-1.0.1-py3-none-any.whl (20 kB)\n",
            "Collecting urllib3<1.27,>=1.25.4\n",
            "  Downloading urllib3-1.26.12-py2.py3-none-any.whl (140 kB)\n",
            "\u001b[K     |████████████████████████████████| 140 kB 47.0 MB/s \n",
            "\u001b[?25hRequirement already satisfied: python-dateutil<3.0.0,>=2.1 in /usr/local/lib/python3.7/dist-packages (from botocore<1.28.0,>=1.27.92->boto3->pytorch-transformers) (2.8.2)\n",
            "Requirement already satisfied: six>=1.5 in /usr/local/lib/python3.7/dist-packages (from python-dateutil<3.0.0,>=2.1->botocore<1.28.0,>=1.27.92->boto3->pytorch-transformers) (1.15.0)\n",
            "Requirement already satisfied: chardet<4,>=3.0.2 in /usr/local/lib/python3.7/dist-packages (from requests->pytorch-transformers) (3.0.4)\n",
            "Requirement already satisfied: certifi>=2017.4.17 in /usr/local/lib/python3.7/dist-packages (from requests->pytorch-transformers) (2022.9.24)\n",
            "Requirement already satisfied: idna<3,>=2.5 in /usr/local/lib/python3.7/dist-packages (from requests->pytorch-transformers) (2.10)\n",
            "  Downloading urllib3-1.25.11-py2.py3-none-any.whl (127 kB)\n",
            "\u001b[K     |████████████████████████████████| 127 kB 44.4 MB/s \n",
            "\u001b[?25hRequirement already satisfied: click in /usr/local/lib/python3.7/dist-packages (from sacremoses->pytorch-transformers) (7.1.2)\n",
            "Requirement already satisfied: joblib in /usr/local/lib/python3.7/dist-packages (from sacremoses->pytorch-transformers) (1.2.0)\n",
            "Building wheels for collected packages: sacremoses\n",
            "  Building wheel for sacremoses (setup.py) ... \u001b[?25l\u001b[?25hdone\n",
            "  Created wheel for sacremoses: filename=sacremoses-0.0.53-py3-none-any.whl size=895260 sha256=ceb81cf48e03cfa2cc934596890657f55f575465d47398f1a063aa98898b5bdf\n",
            "  Stored in directory: /root/.cache/pip/wheels/87/39/dd/a83eeef36d0bf98e7a4d1933a4ad2d660295a40613079bafc9\n",
            "Successfully built sacremoses\n",
            "Installing collected packages: urllib3, jmespath, botocore, s3transfer, sentencepiece, sacremoses, boto3, pytorch-transformers\n",
            "  Attempting uninstall: urllib3\n",
            "    Found existing installation: urllib3 1.24.3\n",
            "    Uninstalling urllib3-1.24.3:\n",
            "      Successfully uninstalled urllib3-1.24.3\n",
            "Successfully installed boto3-1.24.92 botocore-1.27.92 jmespath-1.0.1 pytorch-transformers-1.2.0 s3transfer-0.6.0 sacremoses-0.0.53 sentencepiece-0.1.97 urllib3-1.25.11\n"
          ]
        }
      ]
    },
    {
      "cell_type": "code",
      "source": [
        "import torch\n",
        "from pytorch_transformers import *\n",
        "import numpy as np\n",
        "from sklearn.model_selection import train_test_split\n",
        "\n",
        "import pandas as pd\n",
        "from tensorflow.keras.preprocessing.text import Tokenizer,text_to_word_sequence\n",
        "import matplotlib.pyplot as plt"
      ],
      "metadata": {
        "id": "XwOo8aCBQ7wk"
      },
      "execution_count": null,
      "outputs": []
    },
    {
      "cell_type": "code",
      "source": [
        "df = pd.read_csv('/content/drive/MyDrive/Similar_company/train_data.csv')"
      ],
      "metadata": {
        "id": "KJE35Yckro7_"
      },
      "execution_count": null,
      "outputs": []
    },
    {
      "cell_type": "code",
      "source": [
        "df.head()"
      ],
      "metadata": {
        "colab": {
          "base_uri": "https://localhost:8080/",
          "height": 206
        },
        "id": "mc0bAok0SIiA",
        "outputId": "8d601bb5-558d-42fa-e98f-483630e408bf"
      },
      "execution_count": null,
      "outputs": [
        {
          "output_type": "execute_result",
          "data": {
            "text/plain": [
              "                               name_1  \\\n",
              "0                Texxon Chemicals Inc   \n",
              "1  Morgan Polimer Seals S De Rl De Cv   \n",
              "2                              Weiler   \n",
              "3                   M Company NYSEMMM   \n",
              "4               Hershey Trading Gmb H   \n",
              "\n",
              "                                             name_2  is_duplicate  \n",
              "0                                                AL             0  \n",
              "1                                               Usa             0  \n",
              "2  Shanghai Jixiang Automobile Roof Trimming Co Ltd             0  \n",
              "3                                           ROGITEX             0  \n",
              "4                                                MB             0  "
            ],
            "text/html": [
              "\n",
              "  <div id=\"df-271b620f-fd6b-44ff-b94a-1b58cb4a4789\">\n",
              "    <div class=\"colab-df-container\">\n",
              "      <div>\n",
              "<style scoped>\n",
              "    .dataframe tbody tr th:only-of-type {\n",
              "        vertical-align: middle;\n",
              "    }\n",
              "\n",
              "    .dataframe tbody tr th {\n",
              "        vertical-align: top;\n",
              "    }\n",
              "\n",
              "    .dataframe thead th {\n",
              "        text-align: right;\n",
              "    }\n",
              "</style>\n",
              "<table border=\"1\" class=\"dataframe\">\n",
              "  <thead>\n",
              "    <tr style=\"text-align: right;\">\n",
              "      <th></th>\n",
              "      <th>name_1</th>\n",
              "      <th>name_2</th>\n",
              "      <th>is_duplicate</th>\n",
              "    </tr>\n",
              "  </thead>\n",
              "  <tbody>\n",
              "    <tr>\n",
              "      <th>0</th>\n",
              "      <td>Texxon Chemicals Inc</td>\n",
              "      <td>AL</td>\n",
              "      <td>0</td>\n",
              "    </tr>\n",
              "    <tr>\n",
              "      <th>1</th>\n",
              "      <td>Morgan Polimer Seals S De Rl De Cv</td>\n",
              "      <td>Usa</td>\n",
              "      <td>0</td>\n",
              "    </tr>\n",
              "    <tr>\n",
              "      <th>2</th>\n",
              "      <td>Weiler</td>\n",
              "      <td>Shanghai Jixiang Automobile Roof Trimming Co Ltd</td>\n",
              "      <td>0</td>\n",
              "    </tr>\n",
              "    <tr>\n",
              "      <th>3</th>\n",
              "      <td>M Company NYSEMMM</td>\n",
              "      <td>ROGITEX</td>\n",
              "      <td>0</td>\n",
              "    </tr>\n",
              "    <tr>\n",
              "      <th>4</th>\n",
              "      <td>Hershey Trading Gmb H</td>\n",
              "      <td>MB</td>\n",
              "      <td>0</td>\n",
              "    </tr>\n",
              "  </tbody>\n",
              "</table>\n",
              "</div>\n",
              "      <button class=\"colab-df-convert\" onclick=\"convertToInteractive('df-271b620f-fd6b-44ff-b94a-1b58cb4a4789')\"\n",
              "              title=\"Convert this dataframe to an interactive table.\"\n",
              "              style=\"display:none;\">\n",
              "        \n",
              "  <svg xmlns=\"http://www.w3.org/2000/svg\" height=\"24px\"viewBox=\"0 0 24 24\"\n",
              "       width=\"24px\">\n",
              "    <path d=\"M0 0h24v24H0V0z\" fill=\"none\"/>\n",
              "    <path d=\"M18.56 5.44l.94 2.06.94-2.06 2.06-.94-2.06-.94-.94-2.06-.94 2.06-2.06.94zm-11 1L8.5 8.5l.94-2.06 2.06-.94-2.06-.94L8.5 2.5l-.94 2.06-2.06.94zm10 10l.94 2.06.94-2.06 2.06-.94-2.06-.94-.94-2.06-.94 2.06-2.06.94z\"/><path d=\"M17.41 7.96l-1.37-1.37c-.4-.4-.92-.59-1.43-.59-.52 0-1.04.2-1.43.59L10.3 9.45l-7.72 7.72c-.78.78-.78 2.05 0 2.83L4 21.41c.39.39.9.59 1.41.59.51 0 1.02-.2 1.41-.59l7.78-7.78 2.81-2.81c.8-.78.8-2.07 0-2.86zM5.41 20L4 18.59l7.72-7.72 1.47 1.35L5.41 20z\"/>\n",
              "  </svg>\n",
              "      </button>\n",
              "      \n",
              "  <style>\n",
              "    .colab-df-container {\n",
              "      display:flex;\n",
              "      flex-wrap:wrap;\n",
              "      gap: 12px;\n",
              "    }\n",
              "\n",
              "    .colab-df-convert {\n",
              "      background-color: #E8F0FE;\n",
              "      border: none;\n",
              "      border-radius: 50%;\n",
              "      cursor: pointer;\n",
              "      display: none;\n",
              "      fill: #1967D2;\n",
              "      height: 32px;\n",
              "      padding: 0 0 0 0;\n",
              "      width: 32px;\n",
              "    }\n",
              "\n",
              "    .colab-df-convert:hover {\n",
              "      background-color: #E2EBFA;\n",
              "      box-shadow: 0px 1px 2px rgba(60, 64, 67, 0.3), 0px 1px 3px 1px rgba(60, 64, 67, 0.15);\n",
              "      fill: #174EA6;\n",
              "    }\n",
              "\n",
              "    [theme=dark] .colab-df-convert {\n",
              "      background-color: #3B4455;\n",
              "      fill: #D2E3FC;\n",
              "    }\n",
              "\n",
              "    [theme=dark] .colab-df-convert:hover {\n",
              "      background-color: #434B5C;\n",
              "      box-shadow: 0px 1px 3px 1px rgba(0, 0, 0, 0.15);\n",
              "      filter: drop-shadow(0px 1px 2px rgba(0, 0, 0, 0.3));\n",
              "      fill: #FFFFFF;\n",
              "    }\n",
              "  </style>\n",
              "\n",
              "      <script>\n",
              "        const buttonEl =\n",
              "          document.querySelector('#df-271b620f-fd6b-44ff-b94a-1b58cb4a4789 button.colab-df-convert');\n",
              "        buttonEl.style.display =\n",
              "          google.colab.kernel.accessAllowed ? 'block' : 'none';\n",
              "\n",
              "        async function convertToInteractive(key) {\n",
              "          const element = document.querySelector('#df-271b620f-fd6b-44ff-b94a-1b58cb4a4789');\n",
              "          const dataTable =\n",
              "            await google.colab.kernel.invokeFunction('convertToInteractive',\n",
              "                                                     [key], {});\n",
              "          if (!dataTable) return;\n",
              "\n",
              "          const docLinkHtml = 'Like what you see? Visit the ' +\n",
              "            '<a target=\"_blank\" href=https://colab.research.google.com/notebooks/data_table.ipynb>data table notebook</a>'\n",
              "            + ' to learn more about interactive tables.';\n",
              "          element.innerHTML = '';\n",
              "          dataTable['output_type'] = 'display_data';\n",
              "          await google.colab.output.renderOutput(dataTable, element);\n",
              "          const docLink = document.createElement('div');\n",
              "          docLink.innerHTML = docLinkHtml;\n",
              "          element.appendChild(docLink);\n",
              "        }\n",
              "      </script>\n",
              "    </div>\n",
              "  </div>\n",
              "  "
            ]
          },
          "metadata": {},
          "execution_count": 7
        }
      ]
    },
    {
      "cell_type": "code",
      "source": [
        "df_true = df.loc[df.is_duplicate==1]"
      ],
      "metadata": {
        "id": "9cN7vsQ112Yq"
      },
      "execution_count": null,
      "outputs": []
    },
    {
      "cell_type": "code",
      "source": [
        "df_true.shape"
      ],
      "metadata": {
        "colab": {
          "base_uri": "https://localhost:8080/"
        },
        "id": "D2boasbd2HJs",
        "outputId": "012e179f-5456-4c86-a587-693273df138e"
      },
      "execution_count": null,
      "outputs": [
        {
          "output_type": "execute_result",
          "data": {
            "text/plain": [
              "(3118, 3)"
            ]
          },
          "metadata": {},
          "execution_count": 23
        }
      ]
    },
    {
      "cell_type": "code",
      "source": [
        "df_false = df.loc[df.is_duplicate==0]\n",
        "df_false = df_false.iloc[:6000, :]"
      ],
      "metadata": {
        "id": "Tfz-jWMe2KPx"
      },
      "execution_count": null,
      "outputs": []
    },
    {
      "cell_type": "code",
      "source": [
        "df_new = pd.concat((df_true, df_false))"
      ],
      "metadata": {
        "id": "g0IBwpz82KM8"
      },
      "execution_count": null,
      "outputs": []
    },
    {
      "cell_type": "code",
      "source": [
        "df_new.shape"
      ],
      "metadata": {
        "colab": {
          "base_uri": "https://localhost:8080/"
        },
        "id": "qtNyqKQp2KJy",
        "outputId": "f5231f93-7be1-4854-a44c-d304c0dc430d"
      },
      "execution_count": null,
      "outputs": [
        {
          "output_type": "execute_result",
          "data": {
            "text/plain": [
              "(9118, 3)"
            ]
          },
          "metadata": {},
          "execution_count": 26
        }
      ]
    },
    {
      "cell_type": "code",
      "source": [
        "x_train, x_test, y_train, y_test = train_test_split(df_new[['name_1', 'name_2']], df_new.is_duplicate, test_size=0.25, random_state=222, shuffle=True, stratify=df_new.is_duplicate)"
      ],
      "metadata": {
        "id": "b-5fsr-d2KG5"
      },
      "execution_count": null,
      "outputs": []
    },
    {
      "cell_type": "code",
      "source": [
        "model_class, tokenizer_class, pretrained_weights = (DistilBertModel, DistilBertTokenizer, 'distilbert-base-uncased')\n",
        "\n",
        "# Загрузка предобученной модели/токенизатора \n",
        "tokenizer = tokenizer_class.from_pretrained(pretrained_weights)\n",
        "model = model_class.from_pretrained(pretrained_weights)"
      ],
      "metadata": {
        "id": "VJHR-qW9Q7uC",
        "colab": {
          "base_uri": "https://localhost:8080/"
        },
        "outputId": "566387ce-7f6f-40df-e068-c24f080fe18f"
      },
      "execution_count": null,
      "outputs": [
        {
          "output_type": "stream",
          "name": "stderr",
          "text": [
            "100%|██████████| 231508/231508 [00:00<00:00, 15945463.26B/s]\n",
            "100%|██████████| 442/442 [00:00<00:00, 147943.69B/s]\n",
            "100%|██████████| 267967963/267967963 [00:10<00:00, 26437883.60B/s]\n"
          ]
        }
      ]
    },
    {
      "cell_type": "code",
      "source": [],
      "metadata": {
        "id": "RIuAR_yNvyb9"
      },
      "execution_count": null,
      "outputs": []
    },
    {
      "cell_type": "code",
      "source": [
        "#преобразуем каждый отзыв в список идентификаторов.\n",
        "# tokenized = df.iloc[:,0].apply((lambda x: tokenizer.encode(x, add_special_tokens=True)))\n",
        "\n",
        "train_name1 = x_train.iloc[:,0].apply((lambda x: tokenizer.encode(x, add_special_tokens=True)))\n",
        "train_name2 = x_train.iloc[:,1].apply((lambda x: tokenizer.encode(x, add_special_tokens=True)))"
      ],
      "metadata": {
        "id": "-EMMGa69Q7rl"
      },
      "execution_count": null,
      "outputs": []
    },
    {
      "cell_type": "code",
      "source": [],
      "metadata": {
        "id": "M6Hf3GJ74t6t"
      },
      "execution_count": null,
      "outputs": []
    },
    {
      "cell_type": "code",
      "source": [
        "#добавим в конец нули, чтобы выровнять по длине отзывы\n",
        "max_len = 0\n",
        "for i in train_name1.values:\n",
        "    if len(i) > max_len:\n",
        "        max_len = len(i)\n",
        "        \n",
        "for i in train_name2.values:\n",
        "    if len(i) > max_len:\n",
        "        max_len = len(i)\n",
        "\n",
        "padded_name1 = np.array([i + [0]*(max_len-len(i)) for i in train_name1.values])\n",
        "padded_name2 = np.array([i + [0]*(max_len-len(i)) for i in train_name2.values])"
      ],
      "metadata": {
        "id": "WkevWJfmQ7pN"
      },
      "execution_count": null,
      "outputs": []
    },
    {
      "cell_type": "code",
      "source": [],
      "metadata": {
        "id": "qZcRhPchcY0u"
      },
      "execution_count": null,
      "outputs": []
    },
    {
      "cell_type": "code",
      "source": [
        "# создадим входной вектор из матрицы токенов и передадим его в DistilBERT\n",
        "input_ids1 = torch.tensor(np.array(padded_name1)).to(torch.int64)\n",
        "input_ids2 = torch.tensor(np.array(padded_name2)).to(torch.int64)\n",
        "\n"
      ],
      "metadata": {
        "id": "HSaZm5m5Q7mq"
      },
      "execution_count": null,
      "outputs": []
    },
    {
      "cell_type": "code",
      "source": [
        "input_ids1[:2]"
      ],
      "metadata": {
        "colab": {
          "base_uri": "https://localhost:8080/"
        },
        "id": "YnZtTbL39lcT",
        "outputId": "5cac410f-a801-4ab1-d906-1912f6499d67"
      },
      "execution_count": null,
      "outputs": [
        {
          "output_type": "execute_result",
          "data": {
            "text/plain": [
              "tensor([[  101,  2561, 14955,  8337, 11867,  1062,  1051,  2080,   102,     0,\n",
              "             0,     0,     0,     0,     0,     0,     0,     0,     0,     0,\n",
              "             0,     0,     0,     0,     0,     0,     0,     0,     0],\n",
              "        [  101, 26822,  2248,   102,     0,     0,     0,     0,     0,     0,\n",
              "             0,     0,     0,     0,     0,     0,     0,     0,     0,     0,\n",
              "             0,     0,     0,     0,     0,     0,     0,     0,     0]])"
            ]
          },
          "metadata": {},
          "execution_count": 16
        }
      ]
    },
    {
      "cell_type": "code",
      "source": [
        "embedding1=[]\n",
        "\n",
        "for i in range(0,6838,26):\n",
        "    dd = input_ids1[i:i+26]      \n",
        "    with torch.no_grad():\n",
        "        last_hidden_states1 = model(dd)\n",
        "    embedding1.extend(last_hidden_states1[0].numpy())"
      ],
      "metadata": {
        "id": "5NxanHiZ6IyD"
      },
      "execution_count": null,
      "outputs": []
    },
    {
      "cell_type": "code",
      "source": [
        "embedding2=[]\n",
        "\n",
        "for i in range(0,6838,26):\n",
        "    dd = input_ids2[i:i+26]      \n",
        "    with torch.no_grad():\n",
        "        last_hidden_states2 = model(dd)\n",
        "    embedding2.extend(last_hidden_states2[0].numpy())"
      ],
      "metadata": {
        "id": "Oe-k0rUMsjWb"
      },
      "execution_count": null,
      "outputs": []
    },
    {
      "cell_type": "code",
      "source": [
        "np.array(embedding1).shape"
      ],
      "metadata": {
        "colab": {
          "base_uri": "https://localhost:8080/"
        },
        "id": "i74bKMUusDdd",
        "outputId": "40a67080-cc49-4aff-86b1-ec34957491a7"
      },
      "execution_count": null,
      "outputs": [
        {
          "output_type": "execute_result",
          "data": {
            "text/plain": [
              "(6838, 29, 768)"
            ]
          },
          "metadata": {},
          "execution_count": 34
        }
      ]
    },
    {
      "cell_type": "code",
      "source": [
        "from tensorflow.keras.layers import Input, Dense, LSTM, Dropout, BatchNormalization, Bidirectional, Add, Activation, Lambda\n",
        "from tensorflow.keras.models import Model\n",
        "from tensorflow.keras.optimizers import Adam\n",
        "from tensorflow.keras.activations import relu\n",
        "from keras import regularizers"
      ],
      "metadata": {
        "id": "sy2V5enXQ7kS"
      },
      "execution_count": null,
      "outputs": []
    },
    {
      "cell_type": "code",
      "source": [
        "import keras.backend as K\n",
        "import tensorflow as tf\n",
        "\n",
        "def energy_loss(y_true, y_pred):\n",
        "    return K.exp(-K.abs(y_true - y_pred))\n",
        "\n",
        "\n",
        "class Diff(Add):\n",
        "    def _merge_function(self, inputs):\n",
        "        return K.sum(K.abs(inputs[1] - inputs[0]), axis=-1, keepdims=True)\n",
        "\n",
        "    # def _compute_elemwise_op_output_shape(self, shape1, shape2):\n",
        "    #     return None, None, 1\n",
        "\n",
        "    def compute_output_shape(self, input_shape):\n",
        "        output_shape = (1,)\n",
        "\n",
        "        batch_sizes = [s[0] for s in input_shape if s is not None]\n",
        "        batch_sizes = set(batch_sizes)\n",
        "        batch_sizes -= {None}\n",
        "        if len(batch_sizes) == 1:\n",
        "            output_shape = (list(batch_sizes)[0],) + output_shape\n",
        "        else:\n",
        "            output_shape = (None,) + output_shape\n",
        "        return output_shape\n",
        "\n",
        "\n",
        "class ExpDiff(Diff):\n",
        "    def _merge_function(self, inputs):\n",
        "        diff = K.abs(inputs[1] - inputs[0])\n",
        "        sdiff = K.sqrt(K.sum(K.square(diff), axis=-1, keepdims=True))\n",
        "        score = K.exp(-sdiff)\n",
        "        neg_score = 1 - score\n",
        "        return K.concatenate([score, neg_score])\n",
        "        # return K.exp(-diff)\n",
        "\n",
        "    def compute_output_shape(self, input_shape):\n",
        "        output_shape = (2,)\n",
        "\n",
        "        batch_sizes = [s[0] for s in input_shape if s is not None]\n",
        "        batch_sizes = set(batch_sizes)\n",
        "        batch_sizes -= {None}\n",
        "        if len(batch_sizes) == 1:\n",
        "            output_shape = (list(batch_sizes)[0],) + output_shape\n",
        "        else:\n",
        "            output_shape = (None,) + output_shape\n",
        "        return output_shape\n",
        "\n",
        "class CosineDist(Diff):\n",
        "    def _merge_function(self, inputs):\n",
        "        l, r = inputs[0], inputs[1]\n",
        "        num = K.sum((l * r), keepdims=True, axis=-1)\n",
        "        den = K.sqrt(K.sum(K.square(l), keepdims=True, axis=-1)) * K.sqrt(K.sum(K.square(r), keepdims=True, axis=-1))\n",
        "        den = K.clip(den, min_value=1e-4, max_value=float('inf'))\n",
        "        sim = num / den\n",
        "        return K.ones_like(sim) - sim\n",
        "\n",
        "    def _compute_elemwise_op_output_shape(self, shape1, shape2):\n",
        "        return None, 1\n",
        "\n",
        "    def compute_output_shape(self, input_shape):\n",
        "        return None, 1\n",
        "\n",
        "\n",
        "@tf.function\n",
        "def mean_rectified_infinity_loss(y_true, y_pred):\n",
        "\n",
        "    k = 5.0\n",
        "    cond = K.equal(y_true, K.zeros_like(y_true))        \n",
        "    err = tf.where(cond, K.square(y_pred),\n",
        "                   k/K.square(K.clip(y_pred, min_value=K.epsilon(), max_value=float('inf'))))\n",
        "\n",
        "    return K.mean(err, axis=-1)"
      ],
      "metadata": {
        "id": "TnvNH_2LaQ3s"
      },
      "execution_count": null,
      "outputs": []
    },
    {
      "cell_type": "code",
      "source": [
        "from keras import backend as K\n",
        "\n",
        "\n",
        "def cos_dist_output_shape(shapes):\n",
        "    shape1, shape2 = shapes\n",
        "    return (shape1[0],1)\n",
        "\n",
        "\n",
        "@tf.function\n",
        "def cosine_vectorized(vec):\n",
        "    array1, array2 = vec\n",
        "    sumyy = K.sum(array2**2, axis=1, keepdims=1)\n",
        "    sumxx = K.sum(array1**2, axis=1, keepdims=1)\n",
        "    sumxy = K.dot(array1, K.transpose(array2))\n",
        "    sumxy = tf.linalg.diag_part(sumxy)\n",
        "    sumxy = tf.reshape(sumxy, [-1,1])\n",
        "    return (sumxy/K.sqrt(sumxx))/K.sqrt(sumyy)\n",
        "\n",
        "\n"
      ],
      "metadata": {
        "id": "UEFEg6D7tYpb"
      },
      "execution_count": null,
      "outputs": []
    },
    {
      "cell_type": "code",
      "source": [
        "input_1 = Input((29,768))\n",
        "input_2 = Input((29,768))\n",
        "\n",
        "x1 = (Bidirectional(LSTM(256, implementation=1,\n",
        "                         return_sequences=True,\n",
        "                         dropout=0.1,\n",
        "                         activation='tanh',\n",
        "                         recurrent_dropout=0.1,\n",
        "                         kernel_regularizer=regularizers.l2(0.03))))(input_1)\n",
        "\n",
        "x1 = (Bidirectional(LSTM(128, implementation=1,\n",
        "                         return_sequences=True,\n",
        "                         dropout=0.1,\n",
        "                         activation='tanh',\n",
        "                         recurrent_dropout=0.1,\n",
        "                         kernel_regularizer=regularizers.l2(0.03))))(x1)\n",
        "\n",
        "x1 = (Bidirectional(LSTM(64, implementation=1,\n",
        "                         return_sequences=False,\n",
        "                         dropout=0.1,\n",
        "                         activation='sigmoid',\n",
        "                         recurrent_dropout=0.1,\n",
        "                         kernel_regularizer=regularizers.l2(0.03))))(x1)\n",
        "\n",
        "x1 = Dense(128, activation='linear', kernel_regularizer=regularizers.l2(0.03))(x1)            \n",
        "\n",
        "\n",
        "x2 = (Bidirectional(LSTM(256, implementation=1,\n",
        "                         return_sequences=True,\n",
        "                         dropout=0.1,\n",
        "                         activation='tanh',\n",
        "                         recurrent_dropout=0.1,\n",
        "                         kernel_regularizer=regularizers.l2(0.03))))(input_2)\n",
        "\n",
        "x2 = (Bidirectional(LSTM(128, implementation=1,\n",
        "                         return_sequences=True,\n",
        "                         dropout=0.1,\n",
        "                         activation='tanh',\n",
        "                         recurrent_dropout=0.1,\n",
        "                         kernel_regularizer=regularizers.l2(0.03))))(x2)\n",
        "\n",
        "x2 = (Bidirectional(LSTM(64, implementation=1,\n",
        "                         return_sequences=False,\n",
        "                         dropout=0.1,\n",
        "                         activation='sigmoid',\n",
        "                         recurrent_dropout=0.1,\n",
        "                         kernel_regularizer=regularizers.l2(0.03))))(x2)\n",
        "\n",
        "x2 = Dense(128, activation='linear', kernel_regularizer=regularizers.l2(0.03))(x2)    \n",
        "\n",
        "\n",
        "# Diff_layer = Diff()\n",
        "# merged = Diff_layer([x1, x2])\n",
        "out = Lambda(cosine_vectorized, output_shape=cos_dist_output_shape)([x1, x2])\n",
        "# out = Dense(1, 'sigmoid')(out)\n",
        "model = Model(inputs=(input_1, input_2), outputs=out)"
      ],
      "metadata": {
        "id": "HF7wjz_IRJBA"
      },
      "execution_count": null,
      "outputs": []
    },
    {
      "cell_type": "code",
      "source": [
        "model.compile(optimizer=Adam(0.001), loss='binary_crossentropy', metrics=['accuracy'])"
      ],
      "metadata": {
        "id": "9HchZws7RI-r"
      },
      "execution_count": null,
      "outputs": []
    },
    {
      "cell_type": "code",
      "source": [
        "embedding1 = np.array(embedding1)\n",
        "embedding2 = np.array(embedding2)"
      ],
      "metadata": {
        "id": "PBRi8dR-g0pA"
      },
      "execution_count": null,
      "outputs": []
    },
    {
      "cell_type": "code",
      "source": [
        "model.fit([embedding1, embedding2], y_train.values, epochs=20, batch_size=24, validation_split=0.2)"
      ],
      "metadata": {
        "colab": {
          "base_uri": "https://localhost:8080/",
          "height": 436
        },
        "id": "ifSrnWJ1RI8U",
        "outputId": "7c57ea08-9ec9-4845-d44a-7aa875c7dce3"
      },
      "execution_count": null,
      "outputs": [
        {
          "output_type": "stream",
          "name": "stdout",
          "text": [
            "Epoch 1/20\n",
            "228/228 [==============================] - 530s 2s/step - loss: 19.6620 - accuracy: 0.6435 - val_loss: 0.6651 - val_accuracy: 0.6857\n",
            "Epoch 2/20\n",
            "228/228 [==============================] - 479s 2s/step - loss: 0.6669 - accuracy: 0.6410 - val_loss: 0.6401 - val_accuracy: 0.6857\n",
            "Epoch 3/20\n",
            "185/228 [=======================>......] - ETA: 1:25 - loss: 0.6550 - accuracy: 0.6505"
          ]
        },
        {
          "output_type": "error",
          "ename": "KeyboardInterrupt",
          "evalue": "ignored",
          "traceback": [
            "\u001b[0;31m---------------------------------------------------------------------------\u001b[0m",
            "\u001b[0;31mKeyboardInterrupt\u001b[0m                         Traceback (most recent call last)",
            "\u001b[0;32m<ipython-input-181-155772d812e6>\u001b[0m in \u001b[0;36m<module>\u001b[0;34m\u001b[0m\n\u001b[0;32m----> 1\u001b[0;31m \u001b[0mmodel\u001b[0m\u001b[0;34m.\u001b[0m\u001b[0mfit\u001b[0m\u001b[0;34m(\u001b[0m\u001b[0;34m[\u001b[0m\u001b[0membedding1\u001b[0m\u001b[0;34m,\u001b[0m \u001b[0membedding2\u001b[0m\u001b[0;34m]\u001b[0m\u001b[0;34m,\u001b[0m \u001b[0my_train\u001b[0m\u001b[0;34m.\u001b[0m\u001b[0mvalues\u001b[0m\u001b[0;34m,\u001b[0m \u001b[0mepochs\u001b[0m\u001b[0;34m=\u001b[0m\u001b[0;36m20\u001b[0m\u001b[0;34m,\u001b[0m \u001b[0mbatch_size\u001b[0m\u001b[0;34m=\u001b[0m\u001b[0;36m24\u001b[0m\u001b[0;34m,\u001b[0m \u001b[0mvalidation_split\u001b[0m\u001b[0;34m=\u001b[0m\u001b[0;36m0.2\u001b[0m\u001b[0;34m)\u001b[0m\u001b[0;34m\u001b[0m\u001b[0;34m\u001b[0m\u001b[0m\n\u001b[0m",
            "\u001b[0;32m/usr/local/lib/python3.7/dist-packages/keras/utils/traceback_utils.py\u001b[0m in \u001b[0;36merror_handler\u001b[0;34m(*args, **kwargs)\u001b[0m\n\u001b[1;32m     62\u001b[0m     \u001b[0mfiltered_tb\u001b[0m \u001b[0;34m=\u001b[0m \u001b[0;32mNone\u001b[0m\u001b[0;34m\u001b[0m\u001b[0;34m\u001b[0m\u001b[0m\n\u001b[1;32m     63\u001b[0m     \u001b[0;32mtry\u001b[0m\u001b[0;34m:\u001b[0m\u001b[0;34m\u001b[0m\u001b[0;34m\u001b[0m\u001b[0m\n\u001b[0;32m---> 64\u001b[0;31m       \u001b[0;32mreturn\u001b[0m \u001b[0mfn\u001b[0m\u001b[0;34m(\u001b[0m\u001b[0;34m*\u001b[0m\u001b[0margs\u001b[0m\u001b[0;34m,\u001b[0m \u001b[0;34m**\u001b[0m\u001b[0mkwargs\u001b[0m\u001b[0;34m)\u001b[0m\u001b[0;34m\u001b[0m\u001b[0;34m\u001b[0m\u001b[0m\n\u001b[0m\u001b[1;32m     65\u001b[0m     \u001b[0;32mexcept\u001b[0m \u001b[0mException\u001b[0m \u001b[0;32mas\u001b[0m \u001b[0me\u001b[0m\u001b[0;34m:\u001b[0m  \u001b[0;31m# pylint: disable=broad-except\u001b[0m\u001b[0;34m\u001b[0m\u001b[0;34m\u001b[0m\u001b[0m\n\u001b[1;32m     66\u001b[0m       \u001b[0mfiltered_tb\u001b[0m \u001b[0;34m=\u001b[0m \u001b[0m_process_traceback_frames\u001b[0m\u001b[0;34m(\u001b[0m\u001b[0me\u001b[0m\u001b[0;34m.\u001b[0m\u001b[0m__traceback__\u001b[0m\u001b[0;34m)\u001b[0m\u001b[0;34m\u001b[0m\u001b[0;34m\u001b[0m\u001b[0m\n",
            "\u001b[0;32m/usr/local/lib/python3.7/dist-packages/keras/engine/training.py\u001b[0m in \u001b[0;36mfit\u001b[0;34m(self, x, y, batch_size, epochs, verbose, callbacks, validation_split, validation_data, shuffle, class_weight, sample_weight, initial_epoch, steps_per_epoch, validation_steps, validation_batch_size, validation_freq, max_queue_size, workers, use_multiprocessing)\u001b[0m\n\u001b[1;32m   1407\u001b[0m                 _r=1):\n\u001b[1;32m   1408\u001b[0m               \u001b[0mcallbacks\u001b[0m\u001b[0;34m.\u001b[0m\u001b[0mon_train_batch_begin\u001b[0m\u001b[0;34m(\u001b[0m\u001b[0mstep\u001b[0m\u001b[0;34m)\u001b[0m\u001b[0;34m\u001b[0m\u001b[0;34m\u001b[0m\u001b[0m\n\u001b[0;32m-> 1409\u001b[0;31m               \u001b[0mtmp_logs\u001b[0m \u001b[0;34m=\u001b[0m \u001b[0mself\u001b[0m\u001b[0;34m.\u001b[0m\u001b[0mtrain_function\u001b[0m\u001b[0;34m(\u001b[0m\u001b[0miterator\u001b[0m\u001b[0;34m)\u001b[0m\u001b[0;34m\u001b[0m\u001b[0;34m\u001b[0m\u001b[0m\n\u001b[0m\u001b[1;32m   1410\u001b[0m               \u001b[0;32mif\u001b[0m \u001b[0mdata_handler\u001b[0m\u001b[0;34m.\u001b[0m\u001b[0mshould_sync\u001b[0m\u001b[0;34m:\u001b[0m\u001b[0;34m\u001b[0m\u001b[0;34m\u001b[0m\u001b[0m\n\u001b[1;32m   1411\u001b[0m                 \u001b[0mcontext\u001b[0m\u001b[0;34m.\u001b[0m\u001b[0masync_wait\u001b[0m\u001b[0;34m(\u001b[0m\u001b[0;34m)\u001b[0m\u001b[0;34m\u001b[0m\u001b[0;34m\u001b[0m\u001b[0m\n",
            "\u001b[0;32m/usr/local/lib/python3.7/dist-packages/tensorflow/python/util/traceback_utils.py\u001b[0m in \u001b[0;36merror_handler\u001b[0;34m(*args, **kwargs)\u001b[0m\n\u001b[1;32m    148\u001b[0m     \u001b[0mfiltered_tb\u001b[0m \u001b[0;34m=\u001b[0m \u001b[0;32mNone\u001b[0m\u001b[0;34m\u001b[0m\u001b[0;34m\u001b[0m\u001b[0m\n\u001b[1;32m    149\u001b[0m     \u001b[0;32mtry\u001b[0m\u001b[0;34m:\u001b[0m\u001b[0;34m\u001b[0m\u001b[0;34m\u001b[0m\u001b[0m\n\u001b[0;32m--> 150\u001b[0;31m       \u001b[0;32mreturn\u001b[0m \u001b[0mfn\u001b[0m\u001b[0;34m(\u001b[0m\u001b[0;34m*\u001b[0m\u001b[0margs\u001b[0m\u001b[0;34m,\u001b[0m \u001b[0;34m**\u001b[0m\u001b[0mkwargs\u001b[0m\u001b[0;34m)\u001b[0m\u001b[0;34m\u001b[0m\u001b[0;34m\u001b[0m\u001b[0m\n\u001b[0m\u001b[1;32m    151\u001b[0m     \u001b[0;32mexcept\u001b[0m \u001b[0mException\u001b[0m \u001b[0;32mas\u001b[0m \u001b[0me\u001b[0m\u001b[0;34m:\u001b[0m\u001b[0;34m\u001b[0m\u001b[0;34m\u001b[0m\u001b[0m\n\u001b[1;32m    152\u001b[0m       \u001b[0mfiltered_tb\u001b[0m \u001b[0;34m=\u001b[0m \u001b[0m_process_traceback_frames\u001b[0m\u001b[0;34m(\u001b[0m\u001b[0me\u001b[0m\u001b[0;34m.\u001b[0m\u001b[0m__traceback__\u001b[0m\u001b[0;34m)\u001b[0m\u001b[0;34m\u001b[0m\u001b[0;34m\u001b[0m\u001b[0m\n",
            "\u001b[0;32m/usr/local/lib/python3.7/dist-packages/tensorflow/python/eager/def_function.py\u001b[0m in \u001b[0;36m__call__\u001b[0;34m(self, *args, **kwds)\u001b[0m\n\u001b[1;32m    913\u001b[0m \u001b[0;34m\u001b[0m\u001b[0m\n\u001b[1;32m    914\u001b[0m       \u001b[0;32mwith\u001b[0m \u001b[0mOptionalXlaContext\u001b[0m\u001b[0;34m(\u001b[0m\u001b[0mself\u001b[0m\u001b[0;34m.\u001b[0m\u001b[0m_jit_compile\u001b[0m\u001b[0;34m)\u001b[0m\u001b[0;34m:\u001b[0m\u001b[0;34m\u001b[0m\u001b[0;34m\u001b[0m\u001b[0m\n\u001b[0;32m--> 915\u001b[0;31m         \u001b[0mresult\u001b[0m \u001b[0;34m=\u001b[0m \u001b[0mself\u001b[0m\u001b[0;34m.\u001b[0m\u001b[0m_call\u001b[0m\u001b[0;34m(\u001b[0m\u001b[0;34m*\u001b[0m\u001b[0margs\u001b[0m\u001b[0;34m,\u001b[0m \u001b[0;34m**\u001b[0m\u001b[0mkwds\u001b[0m\u001b[0;34m)\u001b[0m\u001b[0;34m\u001b[0m\u001b[0;34m\u001b[0m\u001b[0m\n\u001b[0m\u001b[1;32m    916\u001b[0m \u001b[0;34m\u001b[0m\u001b[0m\n\u001b[1;32m    917\u001b[0m       \u001b[0mnew_tracing_count\u001b[0m \u001b[0;34m=\u001b[0m \u001b[0mself\u001b[0m\u001b[0;34m.\u001b[0m\u001b[0mexperimental_get_tracing_count\u001b[0m\u001b[0;34m(\u001b[0m\u001b[0;34m)\u001b[0m\u001b[0;34m\u001b[0m\u001b[0;34m\u001b[0m\u001b[0m\n",
            "\u001b[0;32m/usr/local/lib/python3.7/dist-packages/tensorflow/python/eager/def_function.py\u001b[0m in \u001b[0;36m_call\u001b[0;34m(self, *args, **kwds)\u001b[0m\n\u001b[1;32m    945\u001b[0m       \u001b[0;31m# In this case we have created variables on the first call, so we run the\u001b[0m\u001b[0;34m\u001b[0m\u001b[0;34m\u001b[0m\u001b[0;34m\u001b[0m\u001b[0m\n\u001b[1;32m    946\u001b[0m       \u001b[0;31m# defunned version which is guaranteed to never create variables.\u001b[0m\u001b[0;34m\u001b[0m\u001b[0;34m\u001b[0m\u001b[0;34m\u001b[0m\u001b[0m\n\u001b[0;32m--> 947\u001b[0;31m       \u001b[0;32mreturn\u001b[0m \u001b[0mself\u001b[0m\u001b[0;34m.\u001b[0m\u001b[0m_stateless_fn\u001b[0m\u001b[0;34m(\u001b[0m\u001b[0;34m*\u001b[0m\u001b[0margs\u001b[0m\u001b[0;34m,\u001b[0m \u001b[0;34m**\u001b[0m\u001b[0mkwds\u001b[0m\u001b[0;34m)\u001b[0m  \u001b[0;31m# pylint: disable=not-callable\u001b[0m\u001b[0;34m\u001b[0m\u001b[0;34m\u001b[0m\u001b[0m\n\u001b[0m\u001b[1;32m    948\u001b[0m     \u001b[0;32melif\u001b[0m \u001b[0mself\u001b[0m\u001b[0;34m.\u001b[0m\u001b[0m_stateful_fn\u001b[0m \u001b[0;32mis\u001b[0m \u001b[0;32mnot\u001b[0m \u001b[0;32mNone\u001b[0m\u001b[0;34m:\u001b[0m\u001b[0;34m\u001b[0m\u001b[0;34m\u001b[0m\u001b[0m\n\u001b[1;32m    949\u001b[0m       \u001b[0;31m# Release the lock early so that multiple threads can perform the call\u001b[0m\u001b[0;34m\u001b[0m\u001b[0;34m\u001b[0m\u001b[0;34m\u001b[0m\u001b[0m\n",
            "\u001b[0;32m/usr/local/lib/python3.7/dist-packages/tensorflow/python/eager/function.py\u001b[0m in \u001b[0;36m__call__\u001b[0;34m(self, *args, **kwargs)\u001b[0m\n\u001b[1;32m   2452\u001b[0m        filtered_flat_args) = self._maybe_define_function(args, kwargs)\n\u001b[1;32m   2453\u001b[0m     return graph_function._call_flat(\n\u001b[0;32m-> 2454\u001b[0;31m         filtered_flat_args, captured_inputs=graph_function.captured_inputs)  # pylint: disable=protected-access\n\u001b[0m\u001b[1;32m   2455\u001b[0m \u001b[0;34m\u001b[0m\u001b[0m\n\u001b[1;32m   2456\u001b[0m   \u001b[0;34m@\u001b[0m\u001b[0mproperty\u001b[0m\u001b[0;34m\u001b[0m\u001b[0;34m\u001b[0m\u001b[0m\n",
            "\u001b[0;32m/usr/local/lib/python3.7/dist-packages/tensorflow/python/eager/function.py\u001b[0m in \u001b[0;36m_call_flat\u001b[0;34m(self, args, captured_inputs, cancellation_manager)\u001b[0m\n\u001b[1;32m   1859\u001b[0m       \u001b[0;31m# No tape is watching; skip to running the function.\u001b[0m\u001b[0;34m\u001b[0m\u001b[0;34m\u001b[0m\u001b[0;34m\u001b[0m\u001b[0m\n\u001b[1;32m   1860\u001b[0m       return self._build_call_outputs(self._inference_function.call(\n\u001b[0;32m-> 1861\u001b[0;31m           ctx, args, cancellation_manager=cancellation_manager))\n\u001b[0m\u001b[1;32m   1862\u001b[0m     forward_backward = self._select_forward_and_backward_functions(\n\u001b[1;32m   1863\u001b[0m         \u001b[0margs\u001b[0m\u001b[0;34m,\u001b[0m\u001b[0;34m\u001b[0m\u001b[0;34m\u001b[0m\u001b[0m\n",
            "\u001b[0;32m/usr/local/lib/python3.7/dist-packages/tensorflow/python/eager/function.py\u001b[0m in \u001b[0;36mcall\u001b[0;34m(self, ctx, args, cancellation_manager)\u001b[0m\n\u001b[1;32m    500\u001b[0m               \u001b[0minputs\u001b[0m\u001b[0;34m=\u001b[0m\u001b[0margs\u001b[0m\u001b[0;34m,\u001b[0m\u001b[0;34m\u001b[0m\u001b[0;34m\u001b[0m\u001b[0m\n\u001b[1;32m    501\u001b[0m               \u001b[0mattrs\u001b[0m\u001b[0;34m=\u001b[0m\u001b[0mattrs\u001b[0m\u001b[0;34m,\u001b[0m\u001b[0;34m\u001b[0m\u001b[0;34m\u001b[0m\u001b[0m\n\u001b[0;32m--> 502\u001b[0;31m               ctx=ctx)\n\u001b[0m\u001b[1;32m    503\u001b[0m         \u001b[0;32melse\u001b[0m\u001b[0;34m:\u001b[0m\u001b[0;34m\u001b[0m\u001b[0;34m\u001b[0m\u001b[0m\n\u001b[1;32m    504\u001b[0m           outputs = execute.execute_with_cancellation(\n",
            "\u001b[0;32m/usr/local/lib/python3.7/dist-packages/tensorflow/python/eager/execute.py\u001b[0m in \u001b[0;36mquick_execute\u001b[0;34m(op_name, num_outputs, inputs, attrs, ctx, name)\u001b[0m\n\u001b[1;32m     53\u001b[0m     \u001b[0mctx\u001b[0m\u001b[0;34m.\u001b[0m\u001b[0mensure_initialized\u001b[0m\u001b[0;34m(\u001b[0m\u001b[0;34m)\u001b[0m\u001b[0;34m\u001b[0m\u001b[0;34m\u001b[0m\u001b[0m\n\u001b[1;32m     54\u001b[0m     tensors = pywrap_tfe.TFE_Py_Execute(ctx._handle, device_name, op_name,\n\u001b[0;32m---> 55\u001b[0;31m                                         inputs, attrs, num_outputs)\n\u001b[0m\u001b[1;32m     56\u001b[0m   \u001b[0;32mexcept\u001b[0m \u001b[0mcore\u001b[0m\u001b[0;34m.\u001b[0m\u001b[0m_NotOkStatusException\u001b[0m \u001b[0;32mas\u001b[0m \u001b[0me\u001b[0m\u001b[0;34m:\u001b[0m\u001b[0;34m\u001b[0m\u001b[0;34m\u001b[0m\u001b[0m\n\u001b[1;32m     57\u001b[0m     \u001b[0;32mif\u001b[0m \u001b[0mname\u001b[0m \u001b[0;32mis\u001b[0m \u001b[0;32mnot\u001b[0m \u001b[0;32mNone\u001b[0m\u001b[0;34m:\u001b[0m\u001b[0;34m\u001b[0m\u001b[0;34m\u001b[0m\u001b[0m\n",
            "\u001b[0;31mKeyboardInterrupt\u001b[0m: "
          ]
        }
      ]
    },
    {
      "cell_type": "code",
      "source": [
        "a = model.predict([embedding1[:15], embedding2[:15]])"
      ],
      "metadata": {
        "id": "kNQmbi5QRI6C",
        "colab": {
          "base_uri": "https://localhost:8080/"
        },
        "outputId": "f3ba11e0-ced6-4f63-cc9b-a45e3e4880ca"
      },
      "execution_count": null,
      "outputs": [
        {
          "output_type": "stream",
          "name": "stderr",
          "text": [
            "WARNING:tensorflow:6 out of the last 17 calls to <function Model.make_predict_function.<locals>.predict_function at 0x7f664f0804d0> triggered tf.function retracing. Tracing is expensive and the excessive number of tracings could be due to (1) creating @tf.function repeatedly in a loop, (2) passing tensors with different shapes, (3) passing Python objects instead of tensors. For (1), please define your @tf.function outside of the loop. For (2), @tf.function has reduce_retracing=True option that can avoid unnecessary retracing. For (3), please refer to https://www.tensorflow.org/guide/function#controlling_retracing and https://www.tensorflow.org/api_docs/python/tf/function for  more details.\n"
          ]
        },
        {
          "output_type": "stream",
          "name": "stdout",
          "text": [
            "1/1 [==============================] - 4s 4s/step\n"
          ]
        }
      ]
    },
    {
      "cell_type": "code",
      "source": [
        "a"
      ],
      "metadata": {
        "id": "TZbJ8YXXyp2e",
        "colab": {
          "base_uri": "https://localhost:8080/"
        },
        "outputId": "88447761-cd3a-4c4e-f56c-81162396f169"
      },
      "execution_count": null,
      "outputs": [
        {
          "output_type": "execute_result",
          "data": {
            "text/plain": [
              "array([[0.36449817],\n",
              "       [0.36449817],\n",
              "       [0.36449817],\n",
              "       [0.36449817],\n",
              "       [0.36449817],\n",
              "       [0.36449817],\n",
              "       [0.36449817],\n",
              "       [0.36449817],\n",
              "       [0.36449817],\n",
              "       [0.36449817],\n",
              "       [0.36449817],\n",
              "       [0.36449817],\n",
              "       [0.36449814],\n",
              "       [0.36449814],\n",
              "       [0.36449814]], dtype=float32)"
            ]
          },
          "metadata": {},
          "execution_count": 185
        }
      ]
    },
    {
      "cell_type": "code",
      "source": [
        "from tensorflow.keras.utils import plot_model\n",
        "plot_model(model, show_shapes=True)"
      ],
      "metadata": {
        "colab": {
          "base_uri": "https://localhost:8080/",
          "height": 644
        },
        "id": "oNdrPy1YLUzP",
        "outputId": "6b3c6160-cbdc-4949-fea6-93e2d1fff761"
      },
      "execution_count": null,
      "outputs": [
        {
          "output_type": "execute_result",
          "data": {
            "image/png": "[encoded data removed]",
            "text/plain": [
              "<IPython.core.display.Image object>"
            ]
          },
          "metadata": {},
          "execution_count": 19
        }
      ]
    },
    {
      "cell_type": "code",
      "source": [
        "def cosine_vectorized(array1, array2):\n",
        "    sumyy = (array2**2).sum(1,keepdims=1)\n",
        "    sumxx = (array1**2).sum(1,keepdims=1)\n",
        "    sumxy = array1.dot(array2.T)\n",
        "    sumxy = np.diagonal(sumxy).reshape((-1,1))\n",
        "    return (sumxy/np.sqrt(sumxx))/np.sqrt(sumyy)"
      ],
      "metadata": {
        "id": "dV_qoGzI_wr7"
      },
      "execution_count": null,
      "outputs": []
    },
    {
      "cell_type": "code",
      "source": [
        "cosine_vectorized(embedding1[20][:10], embedding2[20][:10])"
      ],
      "metadata": {
        "colab": {
          "base_uri": "https://localhost:8080/"
        },
        "id": "J_pYdKZF_wjj",
        "outputId": "5f6750d5-e6ce-40a3-bcb7-995961e4f37e"
      },
      "execution_count": null,
      "outputs": [
        {
          "output_type": "execute_result",
          "data": {
            "text/plain": [
              "array([[0.964063  ],\n",
              "       [0.537345  ],\n",
              "       [0.46890563],\n",
              "       [0.5098118 ],\n",
              "       [0.34043968],\n",
              "       [0.31986386],\n",
              "       [0.56831455],\n",
              "       [0.98877907],\n",
              "       [0.96391267],\n",
              "       [0.96990794]], dtype=float32)"
            ]
          },
          "metadata": {},
          "execution_count": 169
        }
      ]
    },
    {
      "cell_type": "markdown",
      "source": [
        "## Tf-idf"
      ],
      "metadata": {
        "id": "zlFYzql7Yx6q"
      }
    },
    {
      "cell_type": "code",
      "source": [
        "import pandas as pd\n",
        "import numpy as np\n",
        "import matplotlib.pyplot as plt\n",
        "from nltk import WordNetLemmatizer\n",
        "from nltk.stem import PorterStemmer\n",
        "import re\n",
        "from sklearn.feature_extraction.text import TfidfTransformer, CountVectorizer, TfidfVectorizer \n",
        "from sklearn.model_selection import train_test_split\n",
        "from tensorflow.keras.preprocessing.text import Tokenizer,text_to_word_sequence\n",
        "from sklearn.metrics import precision_score, recall_score\n",
        "\n",
        "import warnings\n",
        "warnings.filterwarnings(\"ignore\")"
      ],
      "metadata": {
        "id": "40VWLp0dBHl-"
      },
      "execution_count": null,
      "outputs": []
    },
    {
      "cell_type": "code",
      "source": [
        "df = pd.read_csv('/content/drive/MyDrive/Similar_company/train_data.csv')"
      ],
      "metadata": {
        "id": "dKhoCjzv-SDD"
      },
      "execution_count": null,
      "outputs": []
    },
    {
      "cell_type": "code",
      "source": [
        "x_train, x_test, y_train, y_test = train_test_split(df[['name_1', 'name_2']], df.is_duplicate, test_size=0.25, random_state=222, shuffle=True, stratify=df.is_duplicate)"
      ],
      "metadata": {
        "id": "v4_gzi1dAr2p"
      },
      "execution_count": null,
      "outputs": []
    },
    {
      "cell_type": "code",
      "source": [
        "x_train.head()"
      ],
      "metadata": {
        "colab": {
          "base_uri": "https://localhost:8080/",
          "height": 206
        },
        "id": "dg_lDzZZAwYR",
        "outputId": "e7437670-8f1e-4901-811c-177aac8de89b"
      },
      "execution_count": null,
      "outputs": [
        {
          "output_type": "execute_result",
          "data": {
            "text/plain": [
              "                                 name_1                            name_2\n",
              "125504              HYDROTECH MEMBRANES                PUMA ENERGY ESPANA\n",
              "273742                     Dc Logistics  Suzhou Kintetsu Logistics Co Ltd\n",
              "150308                Chand Engineering              Venus Engineering Co\n",
              "199756  Shenzhen Green Sun Mould Co Ltd          Ncm International Co Ltd\n",
              "395769            Thermwell Products Co                  HR International"
            ],
            "text/html": [
              "\n",
              "  <div id=\"df-fbd7c287-eca0-4faf-8012-980ee7616c6d\">\n",
              "    <div class=\"colab-df-container\">\n",
              "      <div>\n",
              "<style scoped>\n",
              "    .dataframe tbody tr th:only-of-type {\n",
              "        vertical-align: middle;\n",
              "    }\n",
              "\n",
              "    .dataframe tbody tr th {\n",
              "        vertical-align: top;\n",
              "    }\n",
              "\n",
              "    .dataframe thead th {\n",
              "        text-align: right;\n",
              "    }\n",
              "</style>\n",
              "<table border=\"1\" class=\"dataframe\">\n",
              "  <thead>\n",
              "    <tr style=\"text-align: right;\">\n",
              "      <th></th>\n",
              "      <th>name_1</th>\n",
              "      <th>name_2</th>\n",
              "    </tr>\n",
              "  </thead>\n",
              "  <tbody>\n",
              "    <tr>\n",
              "      <th>125504</th>\n",
              "      <td>HYDROTECH MEMBRANES</td>\n",
              "      <td>PUMA ENERGY ESPANA</td>\n",
              "    </tr>\n",
              "    <tr>\n",
              "      <th>273742</th>\n",
              "      <td>Dc Logistics</td>\n",
              "      <td>Suzhou Kintetsu Logistics Co Ltd</td>\n",
              "    </tr>\n",
              "    <tr>\n",
              "      <th>150308</th>\n",
              "      <td>Chand Engineering</td>\n",
              "      <td>Venus Engineering Co</td>\n",
              "    </tr>\n",
              "    <tr>\n",
              "      <th>199756</th>\n",
              "      <td>Shenzhen Green Sun Mould Co Ltd</td>\n",
              "      <td>Ncm International Co Ltd</td>\n",
              "    </tr>\n",
              "    <tr>\n",
              "      <th>395769</th>\n",
              "      <td>Thermwell Products Co</td>\n",
              "      <td>HR International</td>\n",
              "    </tr>\n",
              "  </tbody>\n",
              "</table>\n",
              "</div>\n",
              "      <button class=\"colab-df-convert\" onclick=\"convertToInteractive('df-fbd7c287-eca0-4faf-8012-980ee7616c6d')\"\n",
              "              title=\"Convert this dataframe to an interactive table.\"\n",
              "              style=\"display:none;\">\n",
              "        \n",
              "  <svg xmlns=\"http://www.w3.org/2000/svg\" height=\"24px\"viewBox=\"0 0 24 24\"\n",
              "       width=\"24px\">\n",
              "    <path d=\"M0 0h24v24H0V0z\" fill=\"none\"/>\n",
              "    <path d=\"M18.56 5.44l.94 2.06.94-2.06 2.06-.94-2.06-.94-.94-2.06-.94 2.06-2.06.94zm-11 1L8.5 8.5l.94-2.06 2.06-.94-2.06-.94L8.5 2.5l-.94 2.06-2.06.94zm10 10l.94 2.06.94-2.06 2.06-.94-2.06-.94-.94-2.06-.94 2.06-2.06.94z\"/><path d=\"M17.41 7.96l-1.37-1.37c-.4-.4-.92-.59-1.43-.59-.52 0-1.04.2-1.43.59L10.3 9.45l-7.72 7.72c-.78.78-.78 2.05 0 2.83L4 21.41c.39.39.9.59 1.41.59.51 0 1.02-.2 1.41-.59l7.78-7.78 2.81-2.81c.8-.78.8-2.07 0-2.86zM5.41 20L4 18.59l7.72-7.72 1.47 1.35L5.41 20z\"/>\n",
              "  </svg>\n",
              "      </button>\n",
              "      \n",
              "  <style>\n",
              "    .colab-df-container {\n",
              "      display:flex;\n",
              "      flex-wrap:wrap;\n",
              "      gap: 12px;\n",
              "    }\n",
              "\n",
              "    .colab-df-convert {\n",
              "      background-color: #E8F0FE;\n",
              "      border: none;\n",
              "      border-radius: 50%;\n",
              "      cursor: pointer;\n",
              "      display: none;\n",
              "      fill: #1967D2;\n",
              "      height: 32px;\n",
              "      padding: 0 0 0 0;\n",
              "      width: 32px;\n",
              "    }\n",
              "\n",
              "    .colab-df-convert:hover {\n",
              "      background-color: #E2EBFA;\n",
              "      box-shadow: 0px 1px 2px rgba(60, 64, 67, 0.3), 0px 1px 3px 1px rgba(60, 64, 67, 0.15);\n",
              "      fill: #174EA6;\n",
              "    }\n",
              "\n",
              "    [theme=dark] .colab-df-convert {\n",
              "      background-color: #3B4455;\n",
              "      fill: #D2E3FC;\n",
              "    }\n",
              "\n",
              "    [theme=dark] .colab-df-convert:hover {\n",
              "      background-color: #434B5C;\n",
              "      box-shadow: 0px 1px 3px 1px rgba(0, 0, 0, 0.15);\n",
              "      filter: drop-shadow(0px 1px 2px rgba(0, 0, 0, 0.3));\n",
              "      fill: #FFFFFF;\n",
              "    }\n",
              "  </style>\n",
              "\n",
              "      <script>\n",
              "        const buttonEl =\n",
              "          document.querySelector('#df-fbd7c287-eca0-4faf-8012-980ee7616c6d button.colab-df-convert');\n",
              "        buttonEl.style.display =\n",
              "          google.colab.kernel.accessAllowed ? 'block' : 'none';\n",
              "\n",
              "        async function convertToInteractive(key) {\n",
              "          const element = document.querySelector('#df-fbd7c287-eca0-4faf-8012-980ee7616c6d');\n",
              "          const dataTable =\n",
              "            await google.colab.kernel.invokeFunction('convertToInteractive',\n",
              "                                                     [key], {});\n",
              "          if (!dataTable) return;\n",
              "\n",
              "          const docLinkHtml = 'Like what you see? Visit the ' +\n",
              "            '<a target=\"_blank\" href=https://colab.research.google.com/notebooks/data_table.ipynb>data table notebook</a>'\n",
              "            + ' to learn more about interactive tables.';\n",
              "          element.innerHTML = '';\n",
              "          dataTable['output_type'] = 'display_data';\n",
              "          await google.colab.output.renderOutput(dataTable, element);\n",
              "          const docLink = document.createElement('div');\n",
              "          docLink.innerHTML = docLinkHtml;\n",
              "          element.appendChild(docLink);\n",
              "        }\n",
              "      </script>\n",
              "    </div>\n",
              "  </div>\n",
              "  "
            ]
          },
          "metadata": {},
          "execution_count": 23
        }
      ]
    },
    {
      "cell_type": "code",
      "source": [
        "x_train['is_duplicate'] = y_train"
      ],
      "metadata": {
        "id": "QowT3RXZaSqM"
      },
      "execution_count": null,
      "outputs": []
    },
    {
      "cell_type": "code",
      "source": [
        "df_for_tfidf = np.hstack([x_train.name_1.values, x_train.name_2.values])"
      ],
      "metadata": {
        "id": "q-y59Nms-wBF"
      },
      "execution_count": null,
      "outputs": []
    },
    {
      "cell_type": "code",
      "source": [
        "tfv = TfidfVectorizer(min_df=5, max_df=2000)\n",
        "tfv.fit(df_for_tfidf)\n",
        "# tf_idf_1 = tfv.transform(x_train.name_1)\n",
        "# tf_idf_2 = tfv.transform(x_train.name_2)\n",
        "dict_words = tfv.vocabulary_\n",
        "key_words = dict_words.keys()"
      ],
      "metadata": {
        "id": "G6hne5TRypz_"
      },
      "execution_count": null,
      "outputs": []
    },
    {
      "cell_type": "code",
      "source": [
        "# def frequency_filter(df, key_words):\n",
        "#     duplicate=[]\n",
        "#     not_duplicate=[]\n",
        "#     for name_1, name_2, dub in df.values:\n",
        "#         n=0\n",
        "#         for word in name_1.lower().split():        \n",
        "#             if (word in key_words) and (word in name_2.lower().split()): \n",
        "#                 n+=1\n",
        "#         if n > 0:\n",
        "#             duplicate.append([name_1, name_2, dub])\n",
        "#         else:\n",
        "#             not_duplicate.append([name_1, name_2, dub])\n",
        "#     return (pd.DataFrame(duplicate, columns=df.columns), pd.DataFrame(not_duplicate, columns=df.columns))"
      ],
      "metadata": {
        "id": "NsO7LLsnDNwe"
      },
      "execution_count": null,
      "outputs": []
    },
    {
      "cell_type": "code",
      "source": [
        "def frequency_filter(df, key_words):\n",
        "    labels = []\n",
        "    for name_1, name_2, dub in df.values:\n",
        "        n=0\n",
        "        for word in name_1.lower().split():        \n",
        "            if (word in key_words) and (word in name_2.lower().split()): \n",
        "                n+=1\n",
        "        if n > 0:\n",
        "            labels.append(1)\n",
        "        else:\n",
        "            labels.append(0)\n",
        "    df['predict'] = labels\n",
        "    return df"
      ],
      "metadata": {
        "id": "lebanWD2h6Jw"
      },
      "execution_count": null,
      "outputs": []
    },
    {
      "cell_type": "code",
      "source": [
        "# duplicate, not_duplicate = frequency_filter(x_train, key_words)"
      ],
      "metadata": {
        "id": "7uZmez7cp1gy"
      },
      "execution_count": null,
      "outputs": []
    },
    {
      "cell_type": "code",
      "source": [
        "df_after_tfidf = frequency_filter(x_train, key_words)"
      ],
      "metadata": {
        "id": "zqARdk-qieKH"
      },
      "execution_count": null,
      "outputs": []
    },
    {
      "cell_type": "code",
      "source": [
        "# def get_result(duplicate, not_duplicate):\n",
        "\n",
        "#     print('Всего отфильтрованных, как разные: ' , not_duplicate.shape[0])\n",
        "#     print('Из них ошибочно отфильтрованы, как разные: ' , not_duplicate.is_duplicate.sum())\n",
        "#     print()\n",
        "#     print('Всего отфильтрованных, как одинаковые: ' , duplicate.shape[0])\n",
        "#     print('Из них правильно отфильтрованы, как одинаковые: ' , duplicate.is_duplicate.sum())\n",
        "#     pass"
      ],
      "metadata": {
        "id": "JG-dF04nm-YN"
      },
      "execution_count": null,
      "outputs": []
    },
    {
      "cell_type": "code",
      "source": [
        "def get_result(df):\n",
        "\n",
        "    print('Всего отфильтрованных, как разные: ' , df.loc[df.predict==0, 'predict'].shape[0])\n",
        "    print('Из них ошибочно отфильтрованы, как разные: ' , df.loc[(df.predict==0)&(df.is_duplicate==1)].shape[0])\n",
        "    print()\n",
        "    print('Всего отфильтрованных, как одинаковые: ' , df.loc[df.predict==1, 'predict'].shape[0])\n",
        "    print('Из них правильно отфильтрованы, как одинаковые: ' , df.loc[(df.predict==1)&(df.is_duplicate==1)].shape[0])\n",
        "    pass"
      ],
      "metadata": {
        "id": "RZ9qEiXzimJx"
      },
      "execution_count": null,
      "outputs": []
    },
    {
      "cell_type": "code",
      "source": [
        "get_result(df_after_tfidf)"
      ],
      "metadata": {
        "id": "cwGCNT-vDce-",
        "colab": {
          "base_uri": "https://localhost:8080/"
        },
        "outputId": "14c91c4b-a6ed-4aa7-c021-f8164494247e"
      },
      "execution_count": null,
      "outputs": [
        {
          "output_type": "stream",
          "name": "stdout",
          "text": [
            "Всего отфильтрованных, как разные:  317023\n",
            "Из них ошибочно отфильтрованы, как разные:  77\n",
            "\n",
            "Всего отфильтрованных, как одинаковые:  13801\n",
            "Из них правильно отфильтрованы, как одинаковые:  2261\n"
          ]
        }
      ]
    },
    {
      "cell_type": "code",
      "source": [
        "words=''\n",
        "for name_1, name_2 in df_after_tfidf.loc[df_after_tfidf.predict==1, ['name_1', 'name_2']].values:\n",
        "    words = words + name_1 + ' ' + name_2 + ' '\n",
        "\n",
        "words = set(words.lower().split())"
      ],
      "metadata": {
        "id": "DhqrYNeEVrJ1"
      },
      "execution_count": null,
      "outputs": []
    },
    {
      "cell_type": "code",
      "source": [
        "def word_count_in_title(words, df, duplicate=True) -> dict:\n",
        "    word_count_dict={}\n",
        "    for word in words:\n",
        "        cnt=0\n",
        "        for company_name in df.loc[(df.predict==1)&(df.is_duplicate==duplicate), ['name_1']].values:\n",
        "            company_name = company_name[0].lower().split()\n",
        "            if word in company_name:\n",
        "                cnt+=1\n",
        "        word_count_dict[word] = cnt  \n",
        "    return word_count_dict\n",
        "\n",
        "\n",
        "dict_positive = word_count_in_title(words, df_after_tfidf)\n",
        "dict_negative = word_count_in_title(words, df_after_tfidf, False)\n"
      ],
      "metadata": {
        "id": "qmrWVz0PVrJ2"
      },
      "execution_count": null,
      "outputs": []
    },
    {
      "cell_type": "code",
      "source": [
        "word_importance = {}\n",
        "for word in words:\n",
        "    try: \n",
        "        value = dict_positive[word] / (dict_positive[word] + dict_negative[word])\n",
        "    except ZeroDivisionError: \n",
        "        value = 0\n",
        "    word_importance[word] = value"
      ],
      "metadata": {
        "id": "Th7nz-LHVrJ2"
      },
      "execution_count": null,
      "outputs": []
    },
    {
      "cell_type": "code",
      "source": [
        "# def filter_by_importance(df, dict_importance):\n",
        "#     duplicate=[]\n",
        "#     not_duplicate=[]\n",
        "#     for name_1, name_2, dub, pred in df.values:\n",
        "#         n=0\n",
        "#         words = name_1.lower().split() \n",
        "#         # max_value = np.argmax([dict_value[word] for word in i_name])  \n",
        "#         if (dict_importance.setdefault(words[0], 0) > 0.4) and (words[0] in name_2.lower().split()):\n",
        "#             n+=1\n",
        "#         else:\n",
        "#             for word in words[1:]:\n",
        "#                 if (dict_importance.setdefault(words[0], 0) > 0.7) and (word in name_2.lower().split()):\n",
        "#                     n+=1\n",
        "\n",
        "#         if n>0:\n",
        "#             duplicate.append([name_1, name_2, dub])\n",
        "#         else:\n",
        "#             not_duplicate.append([name_1, name_2, dub])\n",
        "\n",
        "#     return (pd.DataFrame(duplicate, columns=df.columns), pd.DataFrame(not_duplicate, columns=df.columns))"
      ],
      "metadata": {
        "id": "C4sovZcQVrJ2"
      },
      "execution_count": null,
      "outputs": []
    },
    {
      "cell_type": "code",
      "source": [
        "def filter_by_importance(df, dict_importance):\n",
        "    labels=[]\n",
        "    for name_1, name_2, dub, _ in df.loc[df.predict==1].values:\n",
        "        n=0\n",
        "        words = name_1.lower().split() \n",
        "        # max_value = np.argmax([dict_value[word] for word in i_name])  \n",
        "        if (dict_importance.setdefault(words[0], 0) > 0.4) and (words[0] in name_2.lower().split()):\n",
        "            n+=1\n",
        "        else:\n",
        "            for word in words[1:]:\n",
        "                if (dict_importance.setdefault(words[0], 0) > 0.7) and (word in name_2.lower().split()):\n",
        "                    n+=1\n",
        "\n",
        "        if n>0:\n",
        "            labels.append(1)\n",
        "        else:\n",
        "            labels.append(0)\n",
        "    df.loc[df.predict==1, 'predict'] = labels\n",
        "\n",
        "    return df"
      ],
      "metadata": {
        "id": "BM0E9Z1HlHBF"
      },
      "execution_count": null,
      "outputs": []
    },
    {
      "cell_type": "code",
      "source": [
        "df_with_predict = filter_by_importance(df_after_tfidf, word_importance)"
      ],
      "metadata": {
        "id": "Kt_mEyUnqYyQ"
      },
      "execution_count": null,
      "outputs": []
    },
    {
      "cell_type": "code",
      "source": [
        "get_result(df_with_predict)"
      ],
      "metadata": {
        "colab": {
          "base_uri": "https://localhost:8080/"
        },
        "id": "Y-AM4u9omKjD",
        "outputId": "008d52a7-52c9-4d60-9158-ccfffd268f21"
      },
      "execution_count": null,
      "outputs": [
        {
          "output_type": "stream",
          "name": "stdout",
          "text": [
            "Всего отфильтрованных, как разные:  328542\n",
            "Из них ошибочно отфильтрованы, как разные:  234\n",
            "\n",
            "Всего отфильтрованных, как одинаковые:  2282\n",
            "Из них правильно отфильтрованы, как одинаковые:  2104\n"
          ]
        }
      ]
    },
    {
      "cell_type": "code",
      "source": [
        "print('Precision: ', precision_score(df_with_predict['is_duplicate'], df_with_predict['predict']))\n",
        "print('Recall: ', recall_score(df_with_predict['is_duplicate'], df_with_predict['predict']))"
      ],
      "metadata": {
        "colab": {
          "base_uri": "https://localhost:8080/"
        },
        "id": "gotmMeBEor2V",
        "outputId": "505c73ba-302f-4fc0-dc2e-10813dc33d86"
      },
      "execution_count": null,
      "outputs": [
        {
          "output_type": "stream",
          "name": "stdout",
          "text": [
            "Precision:  0.9219982471516214\n",
            "Recall:  0.8999144568006844\n"
          ]
        }
      ]
    },
    {
      "cell_type": "markdown",
      "source": [
        "### Проверка на тестовой выборке"
      ],
      "metadata": {
        "id": "BwwnidQun2ys"
      }
    },
    {
      "cell_type": "code",
      "source": [
        "x_test.head()"
      ],
      "metadata": {
        "colab": {
          "base_uri": "https://localhost:8080/",
          "height": 206
        },
        "id": "sWTV3qSXqthK",
        "outputId": "2976f3a7-bf04-4537-db25-4d51345800fd"
      },
      "execution_count": null,
      "outputs": [
        {
          "output_type": "execute_result",
          "data": {
            "text/plain": [
              "                               name_1                               name_2  \\\n",
              "165460   North American Wood Products                Iris Products SADe CV   \n",
              "196743     Gestion Soprema Canada Inc                         VALLI ZABBAN   \n",
              "406708  Les Tricots Duval And Raymond                               Tes Uk   \n",
              "30669                    Ss Trade Inc  Foshan City Yi Si High Trade Co Ltd   \n",
              "323247     Hangzhou Industrial Co Ltd            Gti International Pvt Ltd   \n",
              "\n",
              "        is_duplicate  predict  \n",
              "165460             0        0  \n",
              "196743             0        0  \n",
              "406708             0        0  \n",
              "30669              0        0  \n",
              "323247             0        0  "
            ],
            "text/html": [
              "\n",
              "  <div id=\"df-09b6eb3d-cdb8-4d88-a592-eb0815f6e79e\">\n",
              "    <div class=\"colab-df-container\">\n",
              "      <div>\n",
              "<style scoped>\n",
              "    .dataframe tbody tr th:only-of-type {\n",
              "        vertical-align: middle;\n",
              "    }\n",
              "\n",
              "    .dataframe tbody tr th {\n",
              "        vertical-align: top;\n",
              "    }\n",
              "\n",
              "    .dataframe thead th {\n",
              "        text-align: right;\n",
              "    }\n",
              "</style>\n",
              "<table border=\"1\" class=\"dataframe\">\n",
              "  <thead>\n",
              "    <tr style=\"text-align: right;\">\n",
              "      <th></th>\n",
              "      <th>name_1</th>\n",
              "      <th>name_2</th>\n",
              "      <th>is_duplicate</th>\n",
              "      <th>predict</th>\n",
              "    </tr>\n",
              "  </thead>\n",
              "  <tbody>\n",
              "    <tr>\n",
              "      <th>165460</th>\n",
              "      <td>North American Wood Products</td>\n",
              "      <td>Iris Products SADe CV</td>\n",
              "      <td>0</td>\n",
              "      <td>0</td>\n",
              "    </tr>\n",
              "    <tr>\n",
              "      <th>196743</th>\n",
              "      <td>Gestion Soprema Canada Inc</td>\n",
              "      <td>VALLI ZABBAN</td>\n",
              "      <td>0</td>\n",
              "      <td>0</td>\n",
              "    </tr>\n",
              "    <tr>\n",
              "      <th>406708</th>\n",
              "      <td>Les Tricots Duval And Raymond</td>\n",
              "      <td>Tes Uk</td>\n",
              "      <td>0</td>\n",
              "      <td>0</td>\n",
              "    </tr>\n",
              "    <tr>\n",
              "      <th>30669</th>\n",
              "      <td>Ss Trade Inc</td>\n",
              "      <td>Foshan City Yi Si High Trade Co Ltd</td>\n",
              "      <td>0</td>\n",
              "      <td>0</td>\n",
              "    </tr>\n",
              "    <tr>\n",
              "      <th>323247</th>\n",
              "      <td>Hangzhou Industrial Co Ltd</td>\n",
              "      <td>Gti International Pvt Ltd</td>\n",
              "      <td>0</td>\n",
              "      <td>0</td>\n",
              "    </tr>\n",
              "  </tbody>\n",
              "</table>\n",
              "</div>\n",
              "      <button class=\"colab-df-convert\" onclick=\"convertToInteractive('df-09b6eb3d-cdb8-4d88-a592-eb0815f6e79e')\"\n",
              "              title=\"Convert this dataframe to an interactive table.\"\n",
              "              style=\"display:none;\">\n",
              "        \n",
              "  <svg xmlns=\"http://www.w3.org/2000/svg\" height=\"24px\"viewBox=\"0 0 24 24\"\n",
              "       width=\"24px\">\n",
              "    <path d=\"M0 0h24v24H0V0z\" fill=\"none\"/>\n",
              "    <path d=\"M18.56 5.44l.94 2.06.94-2.06 2.06-.94-2.06-.94-.94-2.06-.94 2.06-2.06.94zm-11 1L8.5 8.5l.94-2.06 2.06-.94-2.06-.94L8.5 2.5l-.94 2.06-2.06.94zm10 10l.94 2.06.94-2.06 2.06-.94-2.06-.94-.94-2.06-.94 2.06-2.06.94z\"/><path d=\"M17.41 7.96l-1.37-1.37c-.4-.4-.92-.59-1.43-.59-.52 0-1.04.2-1.43.59L10.3 9.45l-7.72 7.72c-.78.78-.78 2.05 0 2.83L4 21.41c.39.39.9.59 1.41.59.51 0 1.02-.2 1.41-.59l7.78-7.78 2.81-2.81c.8-.78.8-2.07 0-2.86zM5.41 20L4 18.59l7.72-7.72 1.47 1.35L5.41 20z\"/>\n",
              "  </svg>\n",
              "      </button>\n",
              "      \n",
              "  <style>\n",
              "    .colab-df-container {\n",
              "      display:flex;\n",
              "      flex-wrap:wrap;\n",
              "      gap: 12px;\n",
              "    }\n",
              "\n",
              "    .colab-df-convert {\n",
              "      background-color: #E8F0FE;\n",
              "      border: none;\n",
              "      border-radius: 50%;\n",
              "      cursor: pointer;\n",
              "      display: none;\n",
              "      fill: #1967D2;\n",
              "      height: 32px;\n",
              "      padding: 0 0 0 0;\n",
              "      width: 32px;\n",
              "    }\n",
              "\n",
              "    .colab-df-convert:hover {\n",
              "      background-color: #E2EBFA;\n",
              "      box-shadow: 0px 1px 2px rgba(60, 64, 67, 0.3), 0px 1px 3px 1px rgba(60, 64, 67, 0.15);\n",
              "      fill: #174EA6;\n",
              "    }\n",
              "\n",
              "    [theme=dark] .colab-df-convert {\n",
              "      background-color: #3B4455;\n",
              "      fill: #D2E3FC;\n",
              "    }\n",
              "\n",
              "    [theme=dark] .colab-df-convert:hover {\n",
              "      background-color: #434B5C;\n",
              "      box-shadow: 0px 1px 3px 1px rgba(0, 0, 0, 0.15);\n",
              "      filter: drop-shadow(0px 1px 2px rgba(0, 0, 0, 0.3));\n",
              "      fill: #FFFFFF;\n",
              "    }\n",
              "  </style>\n",
              "\n",
              "      <script>\n",
              "        const buttonEl =\n",
              "          document.querySelector('#df-09b6eb3d-cdb8-4d88-a592-eb0815f6e79e button.colab-df-convert');\n",
              "        buttonEl.style.display =\n",
              "          google.colab.kernel.accessAllowed ? 'block' : 'none';\n",
              "\n",
              "        async function convertToInteractive(key) {\n",
              "          const element = document.querySelector('#df-09b6eb3d-cdb8-4d88-a592-eb0815f6e79e');\n",
              "          const dataTable =\n",
              "            await google.colab.kernel.invokeFunction('convertToInteractive',\n",
              "                                                     [key], {});\n",
              "          if (!dataTable) return;\n",
              "\n",
              "          const docLinkHtml = 'Like what you see? Visit the ' +\n",
              "            '<a target=\"_blank\" href=https://colab.research.google.com/notebooks/data_table.ipynb>data table notebook</a>'\n",
              "            + ' to learn more about interactive tables.';\n",
              "          element.innerHTML = '';\n",
              "          dataTable['output_type'] = 'display_data';\n",
              "          await google.colab.output.renderOutput(dataTable, element);\n",
              "          const docLink = document.createElement('div');\n",
              "          docLink.innerHTML = docLinkHtml;\n",
              "          element.appendChild(docLink);\n",
              "        }\n",
              "      </script>\n",
              "    </div>\n",
              "  </div>\n",
              "  "
            ]
          },
          "metadata": {},
          "execution_count": 30
        }
      ]
    },
    {
      "cell_type": "code",
      "source": [
        "x_test['is_duplicate'] = y_test"
      ],
      "metadata": {
        "id": "-1qZGnVZVRos"
      },
      "execution_count": null,
      "outputs": []
    },
    {
      "cell_type": "code",
      "source": [
        "test_after_tfidf = frequency_filter(x_test, key_words)"
      ],
      "metadata": {
        "id": "CUqnRsFuVROy"
      },
      "execution_count": null,
      "outputs": []
    },
    {
      "cell_type": "code",
      "source": [
        "get_result(test_after_tfidf)"
      ],
      "metadata": {
        "id": "iaktmwETYaHZ",
        "colab": {
          "base_uri": "https://localhost:8080/"
        },
        "outputId": "d6501f47-cbdc-4753-f649-6b69dc548058"
      },
      "execution_count": null,
      "outputs": [
        {
          "output_type": "stream",
          "name": "stdout",
          "text": [
            "Всего отфильтрованных, как разные:  105498\n",
            "Из них ошибочно отфильтрованы, как разные:  39\n",
            "\n",
            "Всего отфильтрованных, как одинаковые:  4777\n",
            "Из них правильно отфильтрованы, как одинаковые:  741\n"
          ]
        }
      ]
    },
    {
      "cell_type": "code",
      "source": [
        "test_with_predict = filter_by_importance(test_after_tfidf, word_importance)"
      ],
      "metadata": {
        "id": "sy8kIl_LrTfN"
      },
      "execution_count": null,
      "outputs": []
    },
    {
      "cell_type": "code",
      "source": [
        "get_result(test_with_predict)"
      ],
      "metadata": {
        "id": "-h3nwAE9VQNz",
        "colab": {
          "base_uri": "https://localhost:8080/"
        },
        "outputId": "06684919-1c1d-4543-d868-edff5d3e364f"
      },
      "execution_count": null,
      "outputs": [
        {
          "output_type": "stream",
          "name": "stdout",
          "text": [
            "Всего отфильтрованных, как разные:  4019\n",
            "Из них ошибочно отфильтрованы, как разные:  64\n",
            "\n",
            "Всего отфильтрованных, как одинаковые:  758\n",
            "Из них правильно отфильтрованы, как одинаковые:  677\n"
          ]
        }
      ]
    },
    {
      "cell_type": "code",
      "source": [
        "print('Precision: ', precision_score(test_with_predict['is_duplicate'], test_with_predict['predict']))\n",
        "print('Recall: ', recall_score(test_with_predict['is_duplicate'], test_with_predict['predict']))"
      ],
      "metadata": {
        "id": "QeFhzNTmVPXj",
        "colab": {
          "base_uri": "https://localhost:8080/"
        },
        "outputId": "86607c81-99e7-4703-b6c0-9648530612dc"
      },
      "execution_count": null,
      "outputs": [
        {
          "output_type": "stream",
          "name": "stdout",
          "text": [
            "Precision:  0.8931\n",
            "Recall:  0.8679\n"
          ]
        }
      ]
    },
    {
      "cell_type": "markdown",
      "source": [
        "## Embedding"
      ],
      "metadata": {
        "id": "RM6ZHf-LXdPP"
      }
    },
    {
      "cell_type": "code",
      "source": [],
      "metadata": {
        "id": "TsSclIDvw8CS"
      },
      "execution_count": null,
      "outputs": []
    },
    {
      "cell_type": "code",
      "source": [],
      "metadata": {
        "id": "yXoFLfWKw70S"
      },
      "execution_count": null,
      "outputs": []
    },
    {
      "cell_type": "code",
      "source": [],
      "metadata": {
        "id": "5vdK28C-w7mA"
      },
      "execution_count": null,
      "outputs": []
    },
    {
      "cell_type": "code",
      "source": [],
      "metadata": {
        "id": "i2s1N4Y0w7YO"
      },
      "execution_count": null,
      "outputs": []
    },
    {
      "cell_type": "code",
      "source": [],
      "metadata": {
        "id": "_HYPsqS-w7KZ"
      },
      "execution_count": null,
      "outputs": []
    },
    {
      "cell_type": "code",
      "source": [],
      "metadata": {
        "id": "VcVRaDRdw68p"
      },
      "execution_count": null,
      "outputs": []
    }
  ]
}