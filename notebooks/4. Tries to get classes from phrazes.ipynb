{
 "cells": [
  {
   "cell_type": "code",
   "execution_count": 129,
   "id": "01172dda",
   "metadata": {},
   "outputs": [],
   "source": [
    "import random\n",
    "\n",
    "import numpy as np\n",
    "import pandas as pd\n",
    "import matplotlib.pyplot as plt\n",
    "\n",
    "from tqdm.notebook import tqdm"
   ]
  },
  {
   "cell_type": "code",
   "execution_count": 2,
   "id": "6866a787",
   "metadata": {},
   "outputs": [],
   "source": [
    "train_data_path = '../data/train_data.csv'\n",
    "test_data_path = '../data/test_data.csv'"
   ]
  },
  {
   "cell_type": "code",
   "execution_count": 163,
   "id": "ab2fce8f",
   "metadata": {},
   "outputs": [],
   "source": [
    "train_data = pd.read_csv(train_data_path)\n",
    "test_data = pd.read_csv(test_data_path)"
   ]
  },
  {
   "cell_type": "markdown",
   "id": "b47ac5f5",
   "metadata": {},
   "source": [
    "# Индексация фраз"
   ]
  },
  {
   "cell_type": "code",
   "execution_count": 4,
   "id": "55baa417",
   "metadata": {},
   "outputs": [
    {
     "data": {
      "text/plain": [
       "(441099, 3)"
      ]
     },
     "execution_count": 4,
     "metadata": {},
     "output_type": "execute_result"
    }
   ],
   "source": [
    "train_data.shape"
   ]
  },
  {
   "cell_type": "markdown",
   "id": "b1abe12b",
   "metadata": {},
   "source": [
    "Для удобной работы закодируем уникальные фразы"
   ]
  },
  {
   "cell_type": "code",
   "execution_count": 5,
   "id": "4235748e",
   "metadata": {},
   "outputs": [],
   "source": [
    "dictionary = {}\n",
    "for col in ['name_1', 'name_2']:\n",
    "    for phraze in set(train_data[col]):\n",
    "        if dictionary.get(phraze) is None:\n",
    "            dictionary[phraze] = len(dictionary.keys())\n",
    "dictionary_out = {v: k for k,v in dictionary.items()}\n",
    "\n",
    "temp_dict = {'id': [], 'phraze': []}\n",
    "for ph, ph_id in dictionary.items():\n",
    "    temp_dict['id'].append(ph_id)\n",
    "    temp_dict['phraze'].append(ph)\n",
    "phrazes_ids = pd.DataFrame(temp_dict)"
   ]
  },
  {
   "cell_type": "code",
   "execution_count": 6,
   "id": "7bf4506f",
   "metadata": {},
   "outputs": [
    {
     "data": {
      "text/html": [
       "<div>\n",
       "<style scoped>\n",
       "    .dataframe tbody tr th:only-of-type {\n",
       "        vertical-align: middle;\n",
       "    }\n",
       "\n",
       "    .dataframe tbody tr th {\n",
       "        vertical-align: top;\n",
       "    }\n",
       "\n",
       "    .dataframe thead th {\n",
       "        text-align: right;\n",
       "    }\n",
       "</style>\n",
       "<table border=\"1\" class=\"dataframe\">\n",
       "  <thead>\n",
       "    <tr style=\"text-align: right;\">\n",
       "      <th></th>\n",
       "      <th>id</th>\n",
       "      <th>phraze</th>\n",
       "    </tr>\n",
       "  </thead>\n",
       "  <tbody>\n",
       "    <tr>\n",
       "      <th>0</th>\n",
       "      <td>0</td>\n",
       "      <td>Vins  Vignobles Llc</td>\n",
       "    </tr>\n",
       "    <tr>\n",
       "      <th>1</th>\n",
       "      <td>1</td>\n",
       "      <td>Selati Sp A</td>\n",
       "    </tr>\n",
       "    <tr>\n",
       "      <th>2</th>\n",
       "      <td>2</td>\n",
       "      <td>Kiran Shoes Manufacturers</td>\n",
       "    </tr>\n",
       "  </tbody>\n",
       "</table>\n",
       "</div>"
      ],
      "text/plain": [
       "   id                     phraze\n",
       "0   0        Vins  Vignobles Llc\n",
       "1   1                Selati Sp A\n",
       "2   2  Kiran Shoes Manufacturers"
      ]
     },
     "execution_count": 6,
     "metadata": {},
     "output_type": "execute_result"
    }
   ],
   "source": [
    "phrazes_ids.head(3)"
   ]
  },
  {
   "cell_type": "code",
   "execution_count": 7,
   "id": "6b4c2231",
   "metadata": {},
   "outputs": [
    {
     "data": {
      "text/plain": [
       "(17571, 2)"
      ]
     },
     "execution_count": 7,
     "metadata": {},
     "output_type": "execute_result"
    }
   ],
   "source": [
    "phrazes_ids.shape"
   ]
  },
  {
   "cell_type": "code",
   "execution_count": 185,
   "id": "fcc0851b",
   "metadata": {},
   "outputs": [],
   "source": [
    "# phrazes_ids.to_csv('train_phraze_id_train.csv', index=False)"
   ]
  },
  {
   "cell_type": "markdown",
   "id": "e405aa34",
   "metadata": {},
   "source": [
    "Можно знаметить, что уникальных гораздо меньше, чем уникальных пар.\n",
    "\n",
    "Попробуем сформировать \"граф\" из фраз, где ребро между фразами будет формироваться в случае, если фразы описывают одну и ту же компанию."
   ]
  },
  {
   "cell_type": "code",
   "execution_count": 83,
   "id": "e1e780ac",
   "metadata": {},
   "outputs": [],
   "source": [
    "def get_phraze_mask(df: pd.DataFrame, phraze: str,\n",
    "                    cols: list = ['name_1', 'name_2']) -> pd.DataFrame:\n",
    "    mask = df[cols[0]] == phraze\n",
    "    for col in cols[1:]:\n",
    "        mask += df[col] == phraze\n",
    "    return mask"
   ]
  },
  {
   "cell_type": "code",
   "execution_count": 63,
   "id": "51788179",
   "metadata": {},
   "outputs": [],
   "source": [
    "def get_class(df, mask) -> set:\n",
    "    unique = set()\n",
    "    ph_cols = ['name_1', 'name_2']\n",
    "    for ph_c in ph_cols:\n",
    "        unique.update(set(df[mask][df[mask]['is_duplicate'] == 1][ph_c]))\n",
    "    return unique"
   ]
  },
  {
   "cell_type": "code",
   "execution_count": 122,
   "id": "d1085074",
   "metadata": {},
   "outputs": [],
   "source": [
    "def get_class_phrazes(df, phraze):\n",
    "    class_phrazes = set()\n",
    "    new_phrazes = {phraze}\n",
    "    while new_phrazes:\n",
    "        new_phrazes_t = set()\n",
    "        for ph in new_phrazes:\n",
    "            mask = get_phraze_mask(df, ph)\n",
    "            new_phrazes_t.update(get_class(df, mask))\n",
    "            class_phrazes.add(ph)\n",
    "        new_phrazes_t -= class_phrazes\n",
    "        new_phrazes = new_phrazes_t\n",
    "    return class_phrazes"
   ]
  },
  {
   "cell_type": "code",
   "execution_count": 123,
   "id": "7106a6e1",
   "metadata": {},
   "outputs": [],
   "source": [
    "def collect_classes(phrazes_ids_df, main_data) -> pd.DataFrame:\n",
    "    class_counter = 0\n",
    "    class_dict = {'class': [], 'phraze': []}\n",
    "    for phraze in tqdm(phrazes_ids_df['phraze']):\n",
    "        if phraze not in class_dict['phraze']:\n",
    "            mask = get_phraze_mask(main_data, phraze)\n",
    "            class_i = get_class_phrazes(main_data, phraze)\n",
    "            s = len(class_i)\n",
    "            class_dict['phraze'].extend(class_i)\n",
    "            class_dict['class'].extend([class_counter]*s)\n",
    "            class_counter += 1\n",
    "    return pd.DataFrame(class_dict)"
   ]
  },
  {
   "cell_type": "code",
   "execution_count": 126,
   "id": "d2067a93",
   "metadata": {},
   "outputs": [
    {
     "data": {
      "application/vnd.jupyter.widget-view+json": {
       "model_id": "593d99b1f8a44b4c94cd5456ca255b09",
       "version_major": 2,
       "version_minor": 0
      },
      "text/plain": [
       "  0%|          | 0/17571 [00:00<?, ?it/s]"
      ]
     },
     "metadata": {},
     "output_type": "display_data"
    }
   ],
   "source": [
    "phraze_classes = collect_classes(phrazes_ids, train_data)"
   ]
  },
  {
   "cell_type": "code",
   "execution_count": 127,
   "id": "230e0869",
   "metadata": {},
   "outputs": [
    {
     "name": "stdout",
     "output_type": "stream",
     "text": [
      "(17571, 2)\n",
      "(17571, 2)\n"
     ]
    }
   ],
   "source": [
    "print(phrazes_ids.shape)\n",
    "print(phraze_classes.shape)"
   ]
  },
  {
   "cell_type": "code",
   "execution_count": 160,
   "id": "713c82b4",
   "metadata": {},
   "outputs": [],
   "source": [
    "# phraze_classes.to_csv('phraze_classes.csv', index=False)"
   ]
  },
  {
   "cell_type": "code",
   "execution_count": 128,
   "id": "f964f758",
   "metadata": {},
   "outputs": [
    {
     "data": {
      "text/plain": [
       "(16829, 1)"
      ]
     },
     "execution_count": 128,
     "metadata": {},
     "output_type": "execute_result"
    }
   ],
   "source": [
    "# число классов\n",
    "phraze_classes.groupby('class').count().shape"
   ]
  },
  {
   "cell_type": "code",
   "execution_count": 158,
   "id": "9ebfd653",
   "metadata": {},
   "outputs": [
    {
     "data": {
      "image/png": "[encoded data removed]",
      "text/plain": [
       "<Figure size 640x480 with 1 Axes>"
      ]
     },
     "metadata": {},
     "output_type": "display_data"
    }
   ],
   "source": [
    "# распределение количества наблюдений в классах\n",
    "grouped_count = phraze_classes.groupby('class').count()\n",
    "\n",
    "_ = plt.hist(grouped_count[grouped_count['phraze'] != 1]['phraze'],\n",
    "         bins=grouped_count[grouped_count['phraze'] != 1]['phraze'].max())"
   ]
  },
  {
   "cell_type": "code",
   "execution_count": 212,
   "id": "067d9bb8",
   "metadata": {},
   "outputs": [
    {
     "data": {
      "text/plain": [
       "(490111, 3)"
      ]
     },
     "execution_count": 212,
     "metadata": {},
     "output_type": "execute_result"
    }
   ],
   "source": [
    "full_data = pd.concat([train_data, test_data])\n",
    "full_data.shape"
   ]
  },
  {
   "cell_type": "code",
   "execution_count": 213,
   "id": "0ff7bc4c",
   "metadata": {},
   "outputs": [],
   "source": [
    "dictionary = {}\n",
    "for col in ['name_1', 'name_2']:\n",
    "    for phraze in set(full_data[col]):\n",
    "        if dictionary.get(phraze) is None:\n",
    "            dictionary[phraze] = len(dictionary.keys())\n",
    "dictionary_out = {v: k for k,v in dictionary.items()}\n",
    "\n",
    "temp_dict = {'id': [], 'phraze': []}\n",
    "for ph, ph_id in dictionary.items():\n",
    "    temp_dict['id'].append(ph_id)\n",
    "    temp_dict['phraze'].append(ph)\n",
    "full_data_phrazes_ids = pd.DataFrame(temp_dict)"
   ]
  },
  {
   "cell_type": "code",
   "execution_count": 222,
   "id": "51a18ad8",
   "metadata": {},
   "outputs": [],
   "source": [
    "full_data_phrazes_ids.to_csv('phraze_id_full.csv', index=False)"
   ]
  },
  {
   "cell_type": "code",
   "execution_count": 215,
   "id": "c746c482",
   "metadata": {},
   "outputs": [
    {
     "data": {
      "application/vnd.jupyter.widget-view+json": {
       "model_id": "acaaf3a653ed472b99cebfb548723eb2",
       "version_major": 2,
       "version_minor": 0
      },
      "text/plain": [
       "  0%|          | 0/17604 [00:00<?, ?it/s]"
      ]
     },
     "metadata": {},
     "output_type": "display_data"
    }
   ],
   "source": [
    "full_data_phraze_classes = collect_classes(\n",
    "    full_data_phrazes_ids, full_data)"
   ]
  },
  {
   "cell_type": "code",
   "execution_count": 216,
   "id": "e9277e1e",
   "metadata": {},
   "outputs": [
    {
     "name": "stdout",
     "output_type": "stream",
     "text": [
      "(17604, 2)\n",
      "(17604, 2)\n"
     ]
    }
   ],
   "source": [
    "print(full_data_phrazes_ids.shape)\n",
    "print(full_data_phraze_classes.shape)"
   ]
  },
  {
   "cell_type": "code",
   "execution_count": 217,
   "id": "4cf6436c",
   "metadata": {},
   "outputs": [
    {
     "data": {
      "text/html": [
       "<div>\n",
       "<style scoped>\n",
       "    .dataframe tbody tr th:only-of-type {\n",
       "        vertical-align: middle;\n",
       "    }\n",
       "\n",
       "    .dataframe tbody tr th {\n",
       "        vertical-align: top;\n",
       "    }\n",
       "\n",
       "    .dataframe thead th {\n",
       "        text-align: right;\n",
       "    }\n",
       "</style>\n",
       "<table border=\"1\" class=\"dataframe\">\n",
       "  <thead>\n",
       "    <tr style=\"text-align: right;\">\n",
       "      <th></th>\n",
       "      <th>class</th>\n",
       "      <th>phraze</th>\n",
       "    </tr>\n",
       "  </thead>\n",
       "  <tbody>\n",
       "    <tr>\n",
       "      <th>0</th>\n",
       "      <td>0</td>\n",
       "      <td>Vins  Vignobles Llc</td>\n",
       "    </tr>\n",
       "    <tr>\n",
       "      <th>1</th>\n",
       "      <td>1</td>\n",
       "      <td>Selati Sp A</td>\n",
       "    </tr>\n",
       "    <tr>\n",
       "      <th>2</th>\n",
       "      <td>2</td>\n",
       "      <td>Kiran Shoes Manufacturers</td>\n",
       "    </tr>\n",
       "  </tbody>\n",
       "</table>\n",
       "</div>"
      ],
      "text/plain": [
       "   class                     phraze\n",
       "0      0        Vins  Vignobles Llc\n",
       "1      1                Selati Sp A\n",
       "2      2  Kiran Shoes Manufacturers"
      ]
     },
     "execution_count": 217,
     "metadata": {},
     "output_type": "execute_result"
    }
   ],
   "source": [
    "full_data_phraze_classes.head(3)"
   ]
  },
  {
   "cell_type": "code",
   "execution_count": 218,
   "id": "4dcebb82",
   "metadata": {},
   "outputs": [
    {
     "data": {
      "text/plain": [
       "(16824, 1)"
      ]
     },
     "execution_count": 218,
     "metadata": {},
     "output_type": "execute_result"
    }
   ],
   "source": [
    "full_data_phraze_classes.groupby('class').count().shape"
   ]
  },
  {
   "cell_type": "code",
   "execution_count": 219,
   "id": "a65915e3",
   "metadata": {},
   "outputs": [
    {
     "data": {
      "image/png": "[encoded data removed]",
      "text/plain": [
       "<Figure size 640x480 with 1 Axes>"
      ]
     },
     "metadata": {},
     "output_type": "display_data"
    }
   ],
   "source": [
    "# распределение количества наблюдений в классах\n",
    "grouped_count_full = full_data_phraze_classes.groupby('class').count()\n",
    "\n",
    "_ = plt.hist(grouped_count_full[grouped_count_full['phraze'] != 1]['phraze'],\n",
    "         bins=grouped_count_full[grouped_count_full['phraze'] != 1]['phraze'].max())"
   ]
  },
  {
   "cell_type": "code",
   "execution_count": 221,
   "id": "530f2865",
   "metadata": {},
   "outputs": [],
   "source": [
    "# full_data_phraze_classes.to_csv('phraze_classes_full.csv', index=False)"
   ]
  },
  {
   "cell_type": "markdown",
   "id": "7c2461ca",
   "metadata": {},
   "source": [
    "**Test data**"
   ]
  },
  {
   "cell_type": "code",
   "execution_count": 223,
   "id": "ef47f653",
   "metadata": {},
   "outputs": [],
   "source": [
    "test_data_prhazes = set(test_data['name_1'])\n",
    "test_data_prhazes.update(set(test_data['name_2']))\n",
    "test_data_prhazes_s = pd.Series(list(test_data_prhazes))"
   ]
  },
  {
   "cell_type": "code",
   "execution_count": 224,
   "id": "f0a5ff03",
   "metadata": {},
   "outputs": [
    {
     "data": {
      "text/plain": [
       "(15436,)"
      ]
     },
     "execution_count": 224,
     "metadata": {},
     "output_type": "execute_result"
    }
   ],
   "source": [
    "test_data_prhazes_s.shape"
   ]
  },
  {
   "cell_type": "code",
   "execution_count": 227,
   "id": "68ed87fa",
   "metadata": {},
   "outputs": [],
   "source": [
    "full_data_phraze_classes.index = full_data_phraze_classes['phraze']"
   ]
  },
  {
   "cell_type": "code",
   "execution_count": 228,
   "id": "74bdf92f",
   "metadata": {},
   "outputs": [
    {
     "data": {
      "text/html": [
       "<div>\n",
       "<style scoped>\n",
       "    .dataframe tbody tr th:only-of-type {\n",
       "        vertical-align: middle;\n",
       "    }\n",
       "\n",
       "    .dataframe tbody tr th {\n",
       "        vertical-align: top;\n",
       "    }\n",
       "\n",
       "    .dataframe thead th {\n",
       "        text-align: right;\n",
       "    }\n",
       "</style>\n",
       "<table border=\"1\" class=\"dataframe\">\n",
       "  <thead>\n",
       "    <tr style=\"text-align: right;\">\n",
       "      <th></th>\n",
       "      <th>class</th>\n",
       "      <th>phraze</th>\n",
       "    </tr>\n",
       "    <tr>\n",
       "      <th>phraze</th>\n",
       "      <th></th>\n",
       "      <th></th>\n",
       "    </tr>\n",
       "  </thead>\n",
       "  <tbody>\n",
       "    <tr>\n",
       "      <th>Vins  Vignobles Llc</th>\n",
       "      <td>0</td>\n",
       "      <td>Vins  Vignobles Llc</td>\n",
       "    </tr>\n",
       "    <tr>\n",
       "      <th>Selati Sp A</th>\n",
       "      <td>1</td>\n",
       "      <td>Selati Sp A</td>\n",
       "    </tr>\n",
       "    <tr>\n",
       "      <th>Kiran Shoes Manufacturers</th>\n",
       "      <td>2</td>\n",
       "      <td>Kiran Shoes Manufacturers</td>\n",
       "    </tr>\n",
       "  </tbody>\n",
       "</table>\n",
       "</div>"
      ],
      "text/plain": [
       "                           class                     phraze\n",
       "phraze                                                     \n",
       "Vins  Vignobles Llc            0        Vins  Vignobles Llc\n",
       "Selati Sp A                    1                Selati Sp A\n",
       "Kiran Shoes Manufacturers      2  Kiran Shoes Manufacturers"
      ]
     },
     "execution_count": 228,
     "metadata": {},
     "output_type": "execute_result"
    }
   ],
   "source": [
    "full_data_phraze_classes.head(3)"
   ]
  },
  {
   "cell_type": "code",
   "execution_count": 235,
   "id": "5a07f7cd",
   "metadata": {},
   "outputs": [
    {
     "name": "stdout",
     "output_type": "stream",
     "text": [
      "(15436, 2)\n"
     ]
    }
   ],
   "source": [
    "test_data_phraze_classes = full_data_phraze_classes.loc[test_data_prhazes_s].copy()\n",
    "test_data_phraze_classes = test_data_phraze_classes.reset_index(drop=True)\n",
    "print(test_data_phraze_classes.shape)"
   ]
  },
  {
   "cell_type": "code",
   "execution_count": 236,
   "id": "a1d0bded",
   "metadata": {},
   "outputs": [
    {
     "data": {
      "text/html": [
       "<div>\n",
       "<style scoped>\n",
       "    .dataframe tbody tr th:only-of-type {\n",
       "        vertical-align: middle;\n",
       "    }\n",
       "\n",
       "    .dataframe tbody tr th {\n",
       "        vertical-align: top;\n",
       "    }\n",
       "\n",
       "    .dataframe thead th {\n",
       "        text-align: right;\n",
       "    }\n",
       "</style>\n",
       "<table border=\"1\" class=\"dataframe\">\n",
       "  <thead>\n",
       "    <tr style=\"text-align: right;\">\n",
       "      <th></th>\n",
       "      <th>class</th>\n",
       "      <th>phraze</th>\n",
       "    </tr>\n",
       "  </thead>\n",
       "  <tbody>\n",
       "    <tr>\n",
       "      <th>0</th>\n",
       "      <td>1</td>\n",
       "      <td>Selati Sp A</td>\n",
       "    </tr>\n",
       "    <tr>\n",
       "      <th>1</th>\n",
       "      <td>3</td>\n",
       "      <td>Vikas Multicorp Ltd</td>\n",
       "    </tr>\n",
       "    <tr>\n",
       "      <th>2</th>\n",
       "      <td>8</td>\n",
       "      <td>K Tex Llc</td>\n",
       "    </tr>\n",
       "  </tbody>\n",
       "</table>\n",
       "</div>"
      ],
      "text/plain": [
       "   class               phraze\n",
       "0      1          Selati Sp A\n",
       "1      3  Vikas Multicorp Ltd\n",
       "2      8            K Tex Llc"
      ]
     },
     "execution_count": 236,
     "metadata": {},
     "output_type": "execute_result"
    }
   ],
   "source": [
    "test_data_phraze_classes.head(3)"
   ]
  },
  {
   "cell_type": "code",
   "execution_count": 237,
   "id": "633b3725",
   "metadata": {},
   "outputs": [],
   "source": [
    "# test_data_phraze_classes.to_csv('phraze_classes_test.csv', index=False)"
   ]
  },
  {
   "cell_type": "code",
   "execution_count": 242,
   "id": "5e466ba4",
   "metadata": {},
   "outputs": [],
   "source": [
    "test_data_phraze_ids = pd.DataFrame(\n",
    "    {'id': range(test_data_phraze_classes.shape[0]),\n",
    "     'phraze': test_data_phraze_classes['phraze']}\n",
    ")"
   ]
  },
  {
   "cell_type": "code",
   "execution_count": 244,
   "id": "b8c22561",
   "metadata": {},
   "outputs": [
    {
     "name": "stdout",
     "output_type": "stream",
     "text": [
      "(15436, 2)\n"
     ]
    },
    {
     "data": {
      "text/html": [
       "<div>\n",
       "<style scoped>\n",
       "    .dataframe tbody tr th:only-of-type {\n",
       "        vertical-align: middle;\n",
       "    }\n",
       "\n",
       "    .dataframe tbody tr th {\n",
       "        vertical-align: top;\n",
       "    }\n",
       "\n",
       "    .dataframe thead th {\n",
       "        text-align: right;\n",
       "    }\n",
       "</style>\n",
       "<table border=\"1\" class=\"dataframe\">\n",
       "  <thead>\n",
       "    <tr style=\"text-align: right;\">\n",
       "      <th></th>\n",
       "      <th>id</th>\n",
       "      <th>phraze</th>\n",
       "    </tr>\n",
       "  </thead>\n",
       "  <tbody>\n",
       "    <tr>\n",
       "      <th>0</th>\n",
       "      <td>0</td>\n",
       "      <td>Selati Sp A</td>\n",
       "    </tr>\n",
       "    <tr>\n",
       "      <th>1</th>\n",
       "      <td>1</td>\n",
       "      <td>Vikas Multicorp Ltd</td>\n",
       "    </tr>\n",
       "    <tr>\n",
       "      <th>2</th>\n",
       "      <td>2</td>\n",
       "      <td>K Tex Llc</td>\n",
       "    </tr>\n",
       "  </tbody>\n",
       "</table>\n",
       "</div>"
      ],
      "text/plain": [
       "   id               phraze\n",
       "0   0          Selati Sp A\n",
       "1   1  Vikas Multicorp Ltd\n",
       "2   2            K Tex Llc"
      ]
     },
     "execution_count": 244,
     "metadata": {},
     "output_type": "execute_result"
    }
   ],
   "source": [
    "print(test_data_phraze_ids.shape)\n",
    "test_data_phraze_ids.head(3)"
   ]
  },
  {
   "cell_type": "code",
   "execution_count": 245,
   "id": "a4677b83",
   "metadata": {},
   "outputs": [],
   "source": [
    "# test_data_phraze_ids.to_csv('phraze_id_test.csv', index=False)"
   ]
  },
  {
   "cell_type": "code",
   "execution_count": null,
   "id": "f6f8f433",
   "metadata": {},
   "outputs": [],
   "source": []
  }
 ],
 "metadata": {
  "kernelspec": {
   "display_name": "Python 3 (ipykernel)",
   "language": "python",
   "name": "python3"
  },
  "language_info": {
   "codemirror_mode": {
    "name": "ipython",
    "version": 3
   },
   "file_extension": ".py",
   "mimetype": "text/x-python",
   "name": "python",
   "nbconvert_exporter": "python",
   "pygments_lexer": "ipython3",
   "version": "3.9.13"
  }
 },
 "nbformat": 4,
 "nbformat_minor": 5
}
