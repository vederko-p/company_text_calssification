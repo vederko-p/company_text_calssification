{
 "cells": [
  {
   "cell_type": "code",
   "execution_count": 129,
   "id": "20cade7d",
   "metadata": {},
   "outputs": [],
   "source": [
    "import random\n",
    "\n",
    "import numpy as np\n",
    "import pandas as pd\n",
    "import matplotlib.pyplot as plt\n",
    "\n",
    "from tqdm.notebook import tqdm"
   ]
  },
  {
   "cell_type": "code",
   "execution_count": 2,
   "id": "ce80c0d4",
   "metadata": {},
   "outputs": [],
   "source": [
    "train_data_path = '../data/train_data.csv'\n",
    "test_data_path = '../data/test_data.csv'"
   ]
  },
  {
   "cell_type": "code",
   "execution_count": 163,
   "id": "510c9148",
   "metadata": {},
   "outputs": [],
   "source": [
    "train_data = pd.read_csv(train_data_path)\n",
    "test_data = pd.read_csv(test_data_path)"
   ]
  },
  {
   "cell_type": "markdown",
   "id": "f435b763",
   "metadata": {},
   "source": [
    "# Индексация фраз"
   ]
  },
  {
   "cell_type": "code",
   "execution_count": 4,
   "id": "4844729e",
   "metadata": {},
   "outputs": [
    {
     "data": {
      "text/plain": [
       "(441099, 3)"
      ]
     },
     "execution_count": 4,
     "metadata": {},
     "output_type": "execute_result"
    }
   ],
   "source": [
    "train_data.shape"
   ]
  },
  {
   "cell_type": "markdown",
   "id": "4d52eb77",
   "metadata": {},
   "source": [
    "Для удобной работы закодируем уникальные фразы"
   ]
  },
  {
   "cell_type": "code",
   "execution_count": 5,
   "id": "d6440bf7",
   "metadata": {},
   "outputs": [],
   "source": [
    "dictionary = {}\n",
    "for col in ['name_1', 'name_2']:\n",
    "    for phraze in set(train_data[col]):\n",
    "        if dictionary.get(phraze) is None:\n",
    "            dictionary[phraze] = len(dictionary.keys())\n",
    "dictionary_out = {v: k for k,v in dictionary.items()}\n",
    "\n",
    "temp_dict = {'id': [], 'phraze': []}\n",
    "for ph, ph_id in dictionary.items():\n",
    "    temp_dict['id'].append(ph_id)\n",
    "    temp_dict['phraze'].append(ph)\n",
    "phrazes_ids = pd.DataFrame(temp_dict)"
   ]
  },
  {
   "cell_type": "code",
   "execution_count": 6,
   "id": "7d414b87",
   "metadata": {},
   "outputs": [
    {
     "data": {
      "text/html": [
       "<div>\n",
       "<style scoped>\n",
       "    .dataframe tbody tr th:only-of-type {\n",
       "        vertical-align: middle;\n",
       "    }\n",
       "\n",
       "    .dataframe tbody tr th {\n",
       "        vertical-align: top;\n",
       "    }\n",
       "\n",
       "    .dataframe thead th {\n",
       "        text-align: right;\n",
       "    }\n",
       "</style>\n",
       "<table border=\"1\" class=\"dataframe\">\n",
       "  <thead>\n",
       "    <tr style=\"text-align: right;\">\n",
       "      <th></th>\n",
       "      <th>id</th>\n",
       "      <th>phraze</th>\n",
       "    </tr>\n",
       "  </thead>\n",
       "  <tbody>\n",
       "    <tr>\n",
       "      <th>0</th>\n",
       "      <td>0</td>\n",
       "      <td>Vins  Vignobles Llc</td>\n",
       "    </tr>\n",
       "    <tr>\n",
       "      <th>1</th>\n",
       "      <td>1</td>\n",
       "      <td>Selati Sp A</td>\n",
       "    </tr>\n",
       "    <tr>\n",
       "      <th>2</th>\n",
       "      <td>2</td>\n",
       "      <td>Kiran Shoes Manufacturers</td>\n",
       "    </tr>\n",
       "  </tbody>\n",
       "</table>\n",
       "</div>"
      ],
      "text/plain": [
       "   id                     phraze\n",
       "0   0        Vins  Vignobles Llc\n",
       "1   1                Selati Sp A\n",
       "2   2  Kiran Shoes Manufacturers"
      ]
     },
     "execution_count": 6,
     "metadata": {},
     "output_type": "execute_result"
    }
   ],
   "source": [
    "phrazes_ids.head(3)"
   ]
  },
  {
   "cell_type": "code",
   "execution_count": 7,
   "id": "82c3bcd2",
   "metadata": {},
   "outputs": [
    {
     "data": {
      "text/plain": [
       "(17571, 2)"
      ]
     },
     "execution_count": 7,
     "metadata": {},
     "output_type": "execute_result"
    }
   ],
   "source": [
    "phrazes_ids.shape"
   ]
  },
  {
   "cell_type": "markdown",
   "id": "e94c57df",
   "metadata": {},
   "source": [
    "Можно знаметить, что уникальных гораздо меньше, чем уникальных пар.\n",
    "\n",
    "Попробуем сформировать \"граф\" из фраз, где ребро между фразами будет формироваться в случае, если фразы описывают одну и ту же компанию."
   ]
  },
  {
   "cell_type": "code",
   "execution_count": 83,
   "id": "47a01519",
   "metadata": {},
   "outputs": [],
   "source": [
    "def get_phraze_mask(df: pd.DataFrame, phraze: str,\n",
    "                    cols: list = ['name_1', 'name_2']) -> pd.DataFrame:\n",
    "    mask = df[cols[0]] == phraze\n",
    "    for col in cols[1:]:\n",
    "        mask += df[col] == phraze\n",
    "    return mask"
   ]
  },
  {
   "cell_type": "code",
   "execution_count": 63,
   "id": "8728aaa5",
   "metadata": {},
   "outputs": [],
   "source": [
    "def get_class(df, mask) -> set:\n",
    "    unique = set()\n",
    "    ph_cols = ['name_1', 'name_2']\n",
    "    for ph_c in ph_cols:\n",
    "        unique.update(set(df[mask][df[mask]['is_duplicate'] == 1][ph_c]))\n",
    "    return unique"
   ]
  },
  {
   "cell_type": "code",
   "execution_count": 122,
   "id": "38c35f67",
   "metadata": {},
   "outputs": [],
   "source": [
    "def get_class_phrazes(df, phraze):\n",
    "    class_phrazes = set()\n",
    "    new_phrazes = {phraze}\n",
    "    while new_phrazes:\n",
    "        new_phrazes_t = set()\n",
    "        for ph in new_phrazes:\n",
    "            mask = get_phraze_mask(df, ph)\n",
    "            new_phrazes_t.update(get_class(df, mask))\n",
    "            class_phrazes.add(ph)\n",
    "        new_phrazes_t -= class_phrazes\n",
    "        new_phrazes = new_phrazes_t\n",
    "    return class_phrazes"
   ]
  },
  {
   "cell_type": "code",
   "execution_count": 123,
   "id": "6a784672",
   "metadata": {},
   "outputs": [],
   "source": [
    "def collect_classes(phrazes_ids_df, main_data) -> pd.DataFrame:\n",
    "    class_counter = 0\n",
    "    class_dict = {'class': [], 'phraze': []}\n",
    "    for phraze in tqdm(phrazes_ids_df['phraze']):\n",
    "        if phraze not in class_dict['phraze']:\n",
    "            mask = get_phraze_mask(main_data, phraze)\n",
    "            class_i = get_class_phrazes(main_data, phraze)\n",
    "            s = len(class_i)\n",
    "            class_dict['phraze'].extend(class_i)\n",
    "            class_dict['class'].extend([class_counter]*s)\n",
    "            class_counter += 1\n",
    "    return pd.DataFrame(class_dict)"
   ]
  },
  {
   "cell_type": "code",
   "execution_count": 126,
   "id": "d85be80b",
   "metadata": {},
   "outputs": [
    {
     "data": {
      "application/vnd.jupyter.widget-view+json": {
       "model_id": "593d99b1f8a44b4c94cd5456ca255b09",
       "version_major": 2,
       "version_minor": 0
      },
      "text/plain": [
       "  0%|          | 0/17571 [00:00<?, ?it/s]"
      ]
     },
     "metadata": {},
     "output_type": "display_data"
    }
   ],
   "source": [
    "phraze_classes = collect_classes(phrazes_ids, train_data)"
   ]
  },
  {
   "cell_type": "code",
   "execution_count": 127,
   "id": "7c801d29",
   "metadata": {},
   "outputs": [
    {
     "name": "stdout",
     "output_type": "stream",
     "text": [
      "(17571, 2)\n",
      "(17571, 2)\n"
     ]
    }
   ],
   "source": [
    "print(phrazes_ids.shape)\n",
    "print(phraze_classes.shape)"
   ]
  },
  {
   "cell_type": "code",
   "execution_count": 160,
   "id": "de654590",
   "metadata": {},
   "outputs": [],
   "source": [
    "# phraze_classes.to_csv('phraze_classes.csv', index=False)"
   ]
  },
  {
   "cell_type": "code",
   "execution_count": 128,
   "id": "a676ae7a",
   "metadata": {},
   "outputs": [
    {
     "data": {
      "text/plain": [
       "(16829, 1)"
      ]
     },
     "execution_count": 128,
     "metadata": {},
     "output_type": "execute_result"
    }
   ],
   "source": [
    "# число классов\n",
    "phraze_classes.groupby('class').count().shape"
   ]
  },
  {
   "cell_type": "code",
   "execution_count": 158,
   "id": "dcad4753",
   "metadata": {},
   "outputs": [
    {
     "data": {
      "image/png": "[encoded data removed]",
      "text/plain": [
       "<Figure size 640x480 with 1 Axes>"
      ]
     },
     "metadata": {},
     "output_type": "display_data"
    }
   ],
   "source": [
    "# распределение количества наблюдений в классах\n",
    "grouped_count = phraze_classes.groupby('class').count()\n",
    "\n",
    "_ = plt.hist(grouped_count[grouped_count['phraze'] != 1]['phraze'],\n",
    "         bins=grouped_count[grouped_count['phraze'] != 1]['phraze'].max())"
   ]
  },
  {
   "cell_type": "code",
   "execution_count": null,
   "id": "49bd6a31",
   "metadata": {},
   "outputs": [],
   "source": []
  },
  {
   "cell_type": "code",
   "execution_count": 162,
   "id": "582f9424",
   "metadata": {},
   "outputs": [],
   "source": [
    "full_data_path = '../data/full_data.csv'\n",
    "full_data = pd.read_csv(full_data_path)"
   ]
  },
  {
   "cell_type": "code",
   "execution_count": 165,
   "id": "620a68fd",
   "metadata": {},
   "outputs": [],
   "source": [
    "dictionary = {}\n",
    "for col in ['name_1', 'name_2']:\n",
    "    for phraze in set(full_data[col]):\n",
    "        if dictionary.get(phraze) is None:\n",
    "            dictionary[phraze] = len(dictionary.keys())\n",
    "dictionary_out = {v: k for k,v in dictionary.items()}\n",
    "\n",
    "temp_dict = {'id': [], 'phraze': []}\n",
    "for ph, ph_id in dictionary.items():\n",
    "    temp_dict['id'].append(ph_id)\n",
    "    temp_dict['phraze'].append(ph)\n",
    "full_data_phrazes_ids = pd.DataFrame(temp_dict)"
   ]
  },
  {
   "cell_type": "code",
   "execution_count": 172,
   "id": "0609b9e4",
   "metadata": {},
   "outputs": [
    {
     "data": {
      "application/vnd.jupyter.widget-view+json": {
       "model_id": "e062dce0becf41a2befcf53464ee330a",
       "version_major": 2,
       "version_minor": 0
      },
      "text/plain": [
       "  0%|          | 0/18022 [00:00<?, ?it/s]"
      ]
     },
     "metadata": {},
     "output_type": "display_data"
    }
   ],
   "source": [
    "full_data_phraze_classes = collect_classes(\n",
    "    full_data_phrazes_ids, full_data)"
   ]
  },
  {
   "cell_type": "code",
   "execution_count": 173,
   "id": "502eb8c7",
   "metadata": {},
   "outputs": [
    {
     "name": "stdout",
     "output_type": "stream",
     "text": [
      "(18022, 2)\n",
      "(18022, 2)\n"
     ]
    }
   ],
   "source": [
    "print(full_data_phrazes_ids.shape)\n",
    "print(full_data_phraze_classes.shape)"
   ]
  },
  {
   "cell_type": "code",
   "execution_count": 175,
   "id": "48a23ddf",
   "metadata": {},
   "outputs": [
    {
     "data": {
      "text/html": [
       "<div>\n",
       "<style scoped>\n",
       "    .dataframe tbody tr th:only-of-type {\n",
       "        vertical-align: middle;\n",
       "    }\n",
       "\n",
       "    .dataframe tbody tr th {\n",
       "        vertical-align: top;\n",
       "    }\n",
       "\n",
       "    .dataframe thead th {\n",
       "        text-align: right;\n",
       "    }\n",
       "</style>\n",
       "<table border=\"1\" class=\"dataframe\">\n",
       "  <thead>\n",
       "    <tr style=\"text-align: right;\">\n",
       "      <th></th>\n",
       "      <th>class</th>\n",
       "      <th>phraze</th>\n",
       "    </tr>\n",
       "  </thead>\n",
       "  <tbody>\n",
       "    <tr>\n",
       "      <th>0</th>\n",
       "      <td>0</td>\n",
       "      <td>K &amp; J Industries Products Inc.</td>\n",
       "    </tr>\n",
       "    <tr>\n",
       "      <th>1</th>\n",
       "      <td>1</td>\n",
       "      <td>Hutramex S.A. De C.V.</td>\n",
       "    </tr>\n",
       "    <tr>\n",
       "      <th>2</th>\n",
       "      <td>2</td>\n",
       "      <td>Selati Sp A</td>\n",
       "    </tr>\n",
       "  </tbody>\n",
       "</table>\n",
       "</div>"
      ],
      "text/plain": [
       "   class                          phraze\n",
       "0      0  K & J Industries Products Inc.\n",
       "1      1           Hutramex S.A. De C.V.\n",
       "2      2                     Selati Sp A"
      ]
     },
     "execution_count": 175,
     "metadata": {},
     "output_type": "execute_result"
    }
   ],
   "source": [
    "full_data_phraze_classes.head(3)"
   ]
  },
  {
   "cell_type": "code",
   "execution_count": 177,
   "id": "3bbbdd59",
   "metadata": {},
   "outputs": [
    {
     "data": {
      "text/plain": [
       "(17074, 1)"
      ]
     },
     "execution_count": 177,
     "metadata": {},
     "output_type": "execute_result"
    }
   ],
   "source": [
    "full_data_phraze_classes.groupby('class').count().shape"
   ]
  },
  {
   "cell_type": "code",
   "execution_count": 179,
   "id": "688bdf50",
   "metadata": {},
   "outputs": [
    {
     "data": {
      "image/png": "[encoded data removed]",
      "text/plain": [
       "<Figure size 640x480 with 1 Axes>"
      ]
     },
     "metadata": {},
     "output_type": "display_data"
    }
   ],
   "source": [
    "# распределение количества наблюдений в классах\n",
    "grouped_count_full = full_data_phraze_classes.groupby('class').count()\n",
    "\n",
    "_ = plt.hist(grouped_count_full[grouped_count_full['phraze'] != 1]['phraze'],\n",
    "         bins=grouped_count_full[grouped_count_full['phraze'] != 1]['phraze'].max())"
   ]
  },
  {
   "cell_type": "code",
   "execution_count": 180,
   "id": "6c207280",
   "metadata": {},
   "outputs": [],
   "source": [
    "full_data_phraze_classes.to_csv('phraze_classes_full.csv', index=False)"
   ]
  },
  {
   "cell_type": "code",
   "execution_count": null,
   "id": "e6ae4ca9",
   "metadata": {},
   "outputs": [],
   "source": []
  }
 ],
 "metadata": {
  "kernelspec": {
   "display_name": "Python 3 (ipykernel)",
   "language": "python",
   "name": "python3"
  },
  "language_info": {
   "codemirror_mode": {
    "name": "ipython",
    "version": 3
   },
   "file_extension": ".py",
   "mimetype": "text/x-python",
   "name": "python",
   "nbconvert_exporter": "python",
   "pygments_lexer": "ipython3",
   "version": "3.9.13"
  }
 },
 "nbformat": 4,
 "nbformat_minor": 5
}
