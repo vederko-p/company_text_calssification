{
 "cells": [
  {
   "cell_type": "code",
   "execution_count": 2,
   "id": "0e1718e8",
   "metadata": {},
   "outputs": [],
   "source": [
    "import os\n",
    "import pandas as pd\n",
    "from typing import List, Tuple, Union"
   ]
  },
  {
   "cell_type": "code",
   "execution_count": 3,
   "id": "0bc38aac",
   "metadata": {},
   "outputs": [],
   "source": [
    "data_root_path = '../data'\n",
    "test_data_path = os.path.join(data_root_path, 'test_data.csv')\n",
    "phraze_classes_test_path = os.path.join(data_root_path, 'phraze_classes_test.csv')\n",
    "\n",
    "test_data = pd.read_csv(test_data_path)\n",
    "phraze_classes_test = pd.read_csv(phraze_classes_test_path)\n",
    "phraze_classes_test.index = phraze_classes_test['phraze']\n",
    "PHRAZE_CLASSES_TEST = phraze_classes_test"
   ]
  },
  {
   "cell_type": "code",
   "execution_count": 4,
   "id": "56300a73",
   "metadata": {},
   "outputs": [],
   "source": [
    "def get_phraze_class(\n",
    "    q: str,\n",
    "    phraze_classes_df: pd.DataFrame\n",
    ") -> set:\n",
    "    \"\"\"Get all phrazes of the same class as given phraze.\n",
    "    \n",
    "    Parameters\n",
    "    ----------\n",
    "    q : str\n",
    "        Phraze (query).\n",
    "    phraze_classes_df : pd.DataFrame\n",
    "        Data frame of (phraze, class), where phraze is index.\n",
    "        \n",
    "    Return\n",
    "    ------\n",
    "    class_phrazes : set\n",
    "        Unique phrazes of the same class as given phraze.\n",
    "    \"\"\"\n",
    "    \n",
    "    target_calss = phraze_classes_df.loc[q]['class']\n",
    "    class_phrazes = set(phraze_classes_df[\n",
    "        phraze_classes_df['class'] == target_calss].index)\n",
    "    return class_phrazes"
   ]
  },
  {
   "cell_type": "code",
   "execution_count": 5,
   "id": "a9573bf6",
   "metadata": {},
   "outputs": [],
   "source": [
    "# 4. Отсечь или добавить нули:\n",
    "def complete_predict(\n",
    "    n: int,\n",
    "    ordered_list_of_pred: List[Tuple[str, float]]\n",
    ") -> List[Tuple[str, float]]:\n",
    "    \"\"\"Slice by first n and complete predict with zeros.\n",
    "    \n",
    "    Parameters\n",
    "    ----------\n",
    "    n : int\n",
    "        Amount of phrazes in target class.\n",
    "    ordered_list_of_pred : List[Tuple[str, float]]\n",
    "        List of ordered predictions from model.\n",
    "        \n",
    "    Return\n",
    "    ------\n",
    "    completed : List[Tuple[str, float]]\n",
    "        Completed predict.\"\"\"\n",
    "    \n",
    "    sliced = ordered_list_of_pred[:n]\n",
    "    completed = sliced + [('', 0)]*(n-len(sliced))\n",
    "    return completed"
   ]
  },
  {
   "cell_type": "code",
   "execution_count": 6,
   "id": "e617b96a",
   "metadata": {},
   "outputs": [],
   "source": [
    "test_pred = [\n",
    "    ('pr_1', 0.4),\n",
    "    ('MFP Michelin', 0.8),\n",
    "    ('pr_3', 0.55),\n",
    "    ('Michelin India Technology Center Llp', 0.3),\n",
    "]\n",
    "\n",
    "q = 'Shanghai Michelin Tire Co Ltd'"
   ]
  },
  {
   "cell_type": "code",
   "execution_count": 7,
   "id": "154295fe",
   "metadata": {},
   "outputs": [
    {
     "data": {
      "text/plain": [
       "{'MFP Michelin',\n",
       " 'Michelin Americas Research',\n",
       " 'Michelin Espana Portugal Sa',\n",
       " 'Michelin Group',\n",
       " 'Michelin India Private Ltd',\n",
       " 'Michelin India Tamilnadu Tyres Private Ltd',\n",
       " 'Michelin India Technology Center',\n",
       " 'Michelin India Technology Center Llp',\n",
       " 'Michelin Na Asrc',\n",
       " 'Michelin North America Canada Inc',\n",
       " 'Michelin North America Inc',\n",
       " 'Michelin Research And Development Center Shanghai Co Ltd',\n",
       " 'Michelin Shenyang Tire Co Ltd',\n",
       " 'Michelin Shenyang Tyre Co Ltd',\n",
       " 'Michelin Siam Co Ltd',\n",
       " 'Michelin Tyre Plc',\n",
       " 'Shanghai Michelin Tire Co Ltd',\n",
       " 'Shanghai Michelin Warrior Tyre Co Ltd',\n",
       " 'Sociedade Michelin De Participacoes Ind E Comercio Ltda',\n",
       " 'Sociedade Michelin De Participacoes Indust E Comercio L'}"
      ]
     },
     "execution_count": 7,
     "metadata": {},
     "output_type": "execute_result"
    }
   ],
   "source": [
    "class_q = get_phraze_class(q, PHRAZE_CLASSES_TEST)\n",
    "class_q"
   ]
  },
  {
   "cell_type": "code",
   "execution_count": 8,
   "id": "06d68dca",
   "metadata": {},
   "outputs": [
    {
     "data": {
      "text/plain": [
       "[('pr_1', 0.4),\n",
       " ('MFP Michelin', 0.8),\n",
       " ('pr_3', 0.55),\n",
       " ('Michelin India Technology Center Llp', 0.3),\n",
       " ('', 0),\n",
       " ('', 0),\n",
       " ('', 0)]"
      ]
     },
     "execution_count": 8,
     "metadata": {},
     "output_type": "execute_result"
    }
   ],
   "source": [
    "q_class_n = len(class_q)\n",
    "t = complete_predict(q_class_n, test_pred)\n",
    "t[:7]"
   ]
  },
  {
   "cell_type": "code",
   "execution_count": 9,
   "id": "d701afd8",
   "metadata": {},
   "outputs": [],
   "source": [
    "# 5. Преобразовать к {0, 1} по порогу:\n",
    "def smooth_by_threshold(\n",
    "    p: float,\n",
    "    list_of_pred: List[Tuple[str, float]]\n",
    ") -> List[Tuple[str, float]]:\n",
    "    \"\"\"Smooth predicitons probabilty by given threshold.\n",
    "    \n",
    "    Parameters\n",
    "    ----------\n",
    "    p : float\n",
    "        Threshold.\n",
    "    list_of_pred : List[Tuple[str, float]]\n",
    "        List of predictions from model.\n",
    "        \n",
    "    Return\n",
    "    ------\n",
    "    smoothed : List[Tuple[str, float]]\n",
    "        Smoothed list of predicitons.\n",
    "    \"\"\"\n",
    "    \n",
    "    smoothed = [(phr, int(prob > p)) for phr, prob in list_of_pred]\n",
    "    return smoothed"
   ]
  },
  {
   "cell_type": "code",
   "execution_count": 10,
   "id": "ce9a6cd1",
   "metadata": {},
   "outputs": [
    {
     "data": {
      "text/plain": [
       "[('pr_1', 0),\n",
       " ('MFP Michelin', 1),\n",
       " ('pr_3', 1),\n",
       " ('Michelin India Technology Center Llp', 0),\n",
       " ('', 0),\n",
       " ('', 0),\n",
       " ('', 0)]"
      ]
     },
     "execution_count": 10,
     "metadata": {},
     "output_type": "execute_result"
    }
   ],
   "source": [
    "u = smooth_by_threshold(0.5, t)\n",
    "u[:7]"
   ]
  },
  {
   "cell_type": "code",
   "execution_count": 11,
   "id": "efe3211c",
   "metadata": {},
   "outputs": [],
   "source": [
    "def y_true_func(\n",
    "    true_phrazes: set,\n",
    "    list_of_pred: List[Tuple[str, float]]\n",
    ") -> List[Tuple[str, float]]:\n",
    "    \"\"\"Check if predicted phrazes invloved in true ones.\n",
    "    \n",
    "    Parameters\n",
    "    ----------\n",
    "    true_phrazes : set\n",
    "        Set of true phrazes.\n",
    "    list_of_pred : List[Tuple[str, float]]\n",
    "        List of predictions from model.\n",
    "        \n",
    "    Return\n",
    "    ------\n",
    "    checked : List[Tuple[str, float]]\n",
    "        Checked list of predicitons.\n",
    "    \"\"\"\n",
    "    \n",
    "    checked = [\n",
    "        (phr, int(phr in true_phrazes)*prob) for phr, prob in list_of_pred\n",
    "    ]\n",
    "    return checked"
   ]
  },
  {
   "cell_type": "code",
   "execution_count": 12,
   "id": "0bafe611",
   "metadata": {},
   "outputs": [
    {
     "data": {
      "text/plain": [
       "[('pr_1', 0),\n",
       " ('MFP Michelin', 1),\n",
       " ('pr_3', 0),\n",
       " ('Michelin India Technology Center Llp', 0),\n",
       " ('', 0),\n",
       " ('', 0),\n",
       " ('', 0)]"
      ]
     },
     "execution_count": 12,
     "metadata": {},
     "output_type": "execute_result"
    }
   ],
   "source": [
    "r = y_true_func(class_q, u)\n",
    "r[:7]"
   ]
  },
  {
   "cell_type": "code",
   "execution_count": 13,
   "id": "8ccd113e",
   "metadata": {},
   "outputs": [],
   "source": [
    "# 6. Presision\n",
    "def ranking_precision(\n",
    "    n: int,\n",
    "    list_of_pred: List[Tuple[str, float]]\n",
    ") -> float:\n",
    "    precision = sum([prob for _, prob in list_of_pred]) / n\n",
    "    return precision"
   ]
  },
  {
   "cell_type": "code",
   "execution_count": 14,
   "id": "e49fcbe0",
   "metadata": {},
   "outputs": [
    {
     "data": {
      "text/plain": [
       "0.05"
      ]
     },
     "execution_count": 14,
     "metadata": {},
     "output_type": "execute_result"
    }
   ],
   "source": [
    "ranking_precision(q_class_n, r)"
   ]
  },
  {
   "cell_type": "code",
   "execution_count": 15,
   "id": "de37530f",
   "metadata": {},
   "outputs": [],
   "source": [
    "def fix_precision_in_empty_case(\n",
    "    list_of_pred: List[Tuple[str, float]], k=10, m=3\n",
    "):\n",
    "    err = sum([prob for _, prob in list_of_pred])\n",
    "    fixed_precision = (1 / (1 + err))**m\n",
    "    return fixed_precision"
   ]
  },
  {
   "cell_type": "code",
   "execution_count": 16,
   "id": "f072a588",
   "metadata": {},
   "outputs": [],
   "source": [
    "class RankingPrecision:\n",
    "    def __init__(self, phraze_classes_df):\n",
    "        self.phraze_classes_df = phraze_classes_df\n",
    "    \n",
    "    @staticmethod\n",
    "    def _evaluate_single_precision(\n",
    "        class_q: set,\n",
    "        smoothed_pred: List[Tuple[str, float]]\n",
    "    ) -> float:\n",
    "        pred_vs_true = y_true_func(class_q, smoothed_pred)\n",
    "        q_class_n = len(class_q)\n",
    "        precision = ranking_precision(q_class_n, pred_vs_true)\n",
    "        return precision\n",
    "        \n",
    "    def __call__(\n",
    "        self,\n",
    "        q: str,\n",
    "        p: Union[float, List[float]],\n",
    "        list_of_preds: List[Tuple[str, float]]\n",
    "    ) -> float:\n",
    "        \"\"\"Evaluate ranking precision.\n",
    "        \n",
    "        Parameters\n",
    "        ----------\n",
    "        p : float | List[floats]\n",
    "            Threshold.\n",
    "        q : str\n",
    "            Phraze (query).\n",
    "        phraze_classes_df : pd.DataFrame\n",
    "            Data frame of (phraze, class), where phraze is index.\n",
    "        \n",
    "        Return\n",
    "        ------\n",
    "        ranking_precision : float\n",
    "            Ranking precision.\n",
    "        \"\"\"\n",
    "        \n",
    "        class_q = get_phraze_class(q, self.phraze_classes_df) - {q}\n",
    "        q_class_n = len(class_q)\n",
    "        \n",
    "        if not class_q:\n",
    "            if isinstance(p, float):\n",
    "                smoothed_pred = smooth_by_threshold(p, list_of_preds)\n",
    "                precision = fix_precision_in_empty_case(smoothed_pred)\n",
    "            else:\n",
    "                smoothed_pred = [\n",
    "                    smooth_by_threshold(pi, list_of_preds)\n",
    "                    for pi in p\n",
    "                ]\n",
    "                precision = [\n",
    "                    fix_precision_in_empty_case(sp)\n",
    "                    for sp in smoothed_pred\n",
    "                ]\n",
    "                \n",
    "        else:\n",
    "            completed_pred = complete_predict(q_class_n, list_of_preds)\n",
    "            if isinstance(p, float):\n",
    "                smoothed_pred = smooth_by_threshold(p, completed_pred)\n",
    "                precision = self._evaluate_single_precision(\n",
    "                    class_q, smoothed_pred\n",
    "                )\n",
    "            else:\n",
    "                smoothed_pred = [\n",
    "                    smooth_by_threshold(pi, completed_pred)\n",
    "                    for pi in p\n",
    "                ]\n",
    "                precision = [\n",
    "                    self._evaluate_single_precision(class_q, sp)\n",
    "                    for sp in smoothed_pred\n",
    "            ]\n",
    "        return precision"
   ]
  },
  {
   "cell_type": "code",
   "execution_count": 17,
   "id": "1007e3e1",
   "metadata": {},
   "outputs": [],
   "source": [
    "rank_prec = RankingPrecision(PHRAZE_CLASSES_TEST)"
   ]
  },
  {
   "cell_type": "code",
   "execution_count": 18,
   "id": "fe8ecadc",
   "metadata": {},
   "outputs": [
    {
     "data": {
      "text/plain": [
       "[('pr_1', 0.4),\n",
       " ('MFP Michelin', 0.8),\n",
       " ('pr_3', 0.55),\n",
       " ('Michelin India Technology Center Llp', 0.3)]"
      ]
     },
     "execution_count": 18,
     "metadata": {},
     "output_type": "execute_result"
    }
   ],
   "source": [
    "test_pred"
   ]
  },
  {
   "cell_type": "code",
   "execution_count": 19,
   "id": "82f63f1b",
   "metadata": {},
   "outputs": [
    {
     "data": {
      "text/plain": [
       "0.05263157894736842"
      ]
     },
     "execution_count": 19,
     "metadata": {},
     "output_type": "execute_result"
    }
   ],
   "source": [
    "rank_prec(q, 0.5, test_pred)"
   ]
  },
  {
   "cell_type": "code",
   "execution_count": 20,
   "id": "65cd8441",
   "metadata": {},
   "outputs": [
    {
     "data": {
      "text/plain": [
       "0.0"
      ]
     },
     "execution_count": 20,
     "metadata": {},
     "output_type": "execute_result"
    }
   ],
   "source": [
    "rank_prec(q, 0.5, [])"
   ]
  },
  {
   "cell_type": "code",
   "execution_count": 21,
   "id": "24a36400",
   "metadata": {},
   "outputs": [
    {
     "data": {
      "text/plain": [
       "[0.05263157894736842, 0.10526315789473684]"
      ]
     },
     "execution_count": 21,
     "metadata": {},
     "output_type": "execute_result"
    }
   ],
   "source": [
    "rank_prec(q, [0.5, 0.2], test_pred)"
   ]
  },
  {
   "cell_type": "code",
   "execution_count": 22,
   "id": "b85cce37",
   "metadata": {},
   "outputs": [
    {
     "data": {
      "text/plain": [
       "[0.0, 0.0]"
      ]
     },
     "execution_count": 22,
     "metadata": {},
     "output_type": "execute_result"
    }
   ],
   "source": [
    "rank_prec(q, [0.5, 0.2], [])"
   ]
  },
  {
   "cell_type": "code",
   "execution_count": 23,
   "id": "f5d2ea59",
   "metadata": {},
   "outputs": [
    {
     "data": {
      "text/plain": [
       "1.0"
      ]
     },
     "execution_count": 23,
     "metadata": {},
     "output_type": "execute_result"
    }
   ],
   "source": [
    "rank_prec('Selati Sp A', 0.5, [] )"
   ]
  },
  {
   "cell_type": "code",
   "execution_count": 25,
   "id": "4142da42",
   "metadata": {},
   "outputs": [
    {
     "data": {
      "text/plain": [
       "[0.125, 0.03703703703703703]"
      ]
     },
     "execution_count": 25,
     "metadata": {},
     "output_type": "execute_result"
    }
   ],
   "source": [
    "rank_prec(\n",
    "    'Selati Sp A', [0.5, 0.2],\n",
    "    [\n",
    "        ('MFP Michelin', 0.8),\n",
    "        ('pr_3', 0.25)\n",
    "    ])"
   ]
  },
  {
   "cell_type": "code",
   "execution_count": 31,
   "id": "4edc78aa",
   "metadata": {},
   "outputs": [
    {
     "name": "stdout",
     "output_type": "stream",
     "text": [
      "y_true: {'Sociedade Michelin De Participacoes Indust E Comercio L', 'Michelin Research And Development Center Shanghai Co Ltd', 'MFP Michelin', 'Shanghai Michelin Warrior Tyre Co Ltd', 'Michelin India Technology Center Llp', 'Michelin Espana Portugal Sa', 'Michelin India Private Ltd', 'Michelin North America Canada Inc', 'Michelin Group', 'Michelin Tyre Plc', 'Shanghai Michelin Tire Co Ltd', 'Michelin India Technology Center', 'Michelin Siam Co Ltd', 'Sociedade Michelin De Participacoes Ind E Comercio Ltda', 'Michelin Shenyang Tyre Co Ltd', 'Michelin India Tamilnadu Tyres Private Ltd', 'Michelin Americas Research', 'Michelin North America Inc', 'Michelin Na Asrc', 'Michelin Shenyang Tire Co Ltd'}\n"
     ]
    }
   ],
   "source": [
    "q = 'Michelin India Technology Center Llp'\n",
    "\n",
    "y_true = get_phraze_class(q, PHRAZE_CLASSES_TEST)\n",
    "print(f'y_true: {y_true}')\n",
    "\n",
    "y_pred = [\n",
    "    ('MFP Michelin', 0),\n",
    "    ('phraze_1', 0),\n",
    "    ('phraze_2', 0),\n",
    "    ('phraze_3', 0),\n",
    "    ('phraze_4', 0),\n",
    "]"
   ]
  },
  {
   "cell_type": "code",
   "execution_count": 32,
   "id": "129c7d22",
   "metadata": {},
   "outputs": [
    {
     "data": {
      "text/plain": [
       "[0.0, 0.0, 0.0]"
      ]
     },
     "execution_count": 32,
     "metadata": {},
     "output_type": "execute_result"
    }
   ],
   "source": [
    "rank_prec(\n",
    "    q , [0.5, 0.2, 0.99], y_pred)"
   ]
  },
  {
   "cell_type": "code",
   "execution_count": null,
   "id": "84ae18e7",
   "metadata": {},
   "outputs": [],
   "source": []
  }
 ],
 "metadata": {
  "kernelspec": {
   "display_name": "Python 3 (ipykernel)",
   "language": "python",
   "name": "python3"
  },
  "language_info": {
   "codemirror_mode": {
    "name": "ipython",
    "version": 3
   },
   "file_extension": ".py",
   "mimetype": "text/x-python",
   "name": "python",
   "nbconvert_exporter": "python",
   "pygments_lexer": "ipython3",
   "version": "3.9.13"
  }
 },
 "nbformat": 4,
 "nbformat_minor": 5
}
