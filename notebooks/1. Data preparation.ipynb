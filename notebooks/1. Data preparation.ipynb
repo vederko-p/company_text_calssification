{
 "cells": [
  {
   "cell_type": "code",
   "execution_count": 102,
   "id": "d14a0c1e",
   "metadata": {},
   "outputs": [],
   "source": [
    "import numpy as np\n",
    "import pandas as pd\n",
    "\n",
    "from tqdm.notebook import tqdm\n",
    "from sklearn.model_selection import train_test_split"
   ]
  },
  {
   "cell_type": "markdown",
   "id": "e1ae63ab",
   "metadata": {},
   "source": [
    "# Первичный анализ данных"
   ]
  },
  {
   "cell_type": "code",
   "execution_count": 2,
   "id": "8ab0265e",
   "metadata": {},
   "outputs": [],
   "source": [
    "data_path = '../data/full_data.csv'"
   ]
  },
  {
   "cell_type": "code",
   "execution_count": 3,
   "id": "250b42ae",
   "metadata": {},
   "outputs": [],
   "source": [
    "df = pd.read_csv(data_path, index_col=0)"
   ]
  },
  {
   "cell_type": "code",
   "execution_count": 4,
   "id": "daaf45c5",
   "metadata": {},
   "outputs": [
    {
     "data": {
      "text/html": [
       "<div>\n",
       "<style scoped>\n",
       "    .dataframe tbody tr th:only-of-type {\n",
       "        vertical-align: middle;\n",
       "    }\n",
       "\n",
       "    .dataframe tbody tr th {\n",
       "        vertical-align: top;\n",
       "    }\n",
       "\n",
       "    .dataframe thead th {\n",
       "        text-align: right;\n",
       "    }\n",
       "</style>\n",
       "<table border=\"1\" class=\"dataframe\">\n",
       "  <thead>\n",
       "    <tr style=\"text-align: right;\">\n",
       "      <th></th>\n",
       "      <th>name_1</th>\n",
       "      <th>name_2</th>\n",
       "      <th>is_duplicate</th>\n",
       "    </tr>\n",
       "    <tr>\n",
       "      <th>pair_id</th>\n",
       "      <th></th>\n",
       "      <th></th>\n",
       "      <th></th>\n",
       "    </tr>\n",
       "  </thead>\n",
       "  <tbody>\n",
       "    <tr>\n",
       "      <th>1</th>\n",
       "      <td>Iko Industries Ltd.</td>\n",
       "      <td>Enormous Industrial Trade Pvt., Ltd.</td>\n",
       "      <td>0</td>\n",
       "    </tr>\n",
       "    <tr>\n",
       "      <th>2</th>\n",
       "      <td>Apcotex Industries Ltd.</td>\n",
       "      <td>Technocraft Industries (India) Ltd.</td>\n",
       "      <td>0</td>\n",
       "    </tr>\n",
       "    <tr>\n",
       "      <th>3</th>\n",
       "      <td>Rishichem Distributors Pvt., Ltd.</td>\n",
       "      <td>Dsa</td>\n",
       "      <td>0</td>\n",
       "    </tr>\n",
       "    <tr>\n",
       "      <th>4</th>\n",
       "      <td>Powermax Rubber Factory</td>\n",
       "      <td>Co. One</td>\n",
       "      <td>0</td>\n",
       "    </tr>\n",
       "    <tr>\n",
       "      <th>5</th>\n",
       "      <td>Tress A/S</td>\n",
       "      <td>Longyou Industries Park Zhejiang</td>\n",
       "      <td>0</td>\n",
       "    </tr>\n",
       "  </tbody>\n",
       "</table>\n",
       "</div>"
      ],
      "text/plain": [
       "                                    name_1  \\\n",
       "pair_id                                      \n",
       "1                      Iko Industries Ltd.   \n",
       "2                  Apcotex Industries Ltd.   \n",
       "3        Rishichem Distributors Pvt., Ltd.   \n",
       "4                  Powermax Rubber Factory   \n",
       "5                                Tress A/S   \n",
       "\n",
       "                                       name_2  is_duplicate  \n",
       "pair_id                                                      \n",
       "1        Enormous Industrial Trade Pvt., Ltd.             0  \n",
       "2         Technocraft Industries (India) Ltd.             0  \n",
       "3                                         Dsa             0  \n",
       "4                                     Co. One             0  \n",
       "5            Longyou Industries Park Zhejiang             0  "
      ]
     },
     "execution_count": 4,
     "metadata": {},
     "output_type": "execute_result"
    }
   ],
   "source": [
    "df.head()"
   ]
  },
  {
   "cell_type": "markdown",
   "id": "b08d2abd",
   "metadata": {},
   "source": [
    "Оценим соотношение классов."
   ]
  },
  {
   "cell_type": "code",
   "execution_count": 6,
   "id": "0fcc3198",
   "metadata": {},
   "outputs": [
    {
     "data": {
      "text/html": [
       "<div>\n",
       "<style scoped>\n",
       "    .dataframe tbody tr th:only-of-type {\n",
       "        vertical-align: middle;\n",
       "    }\n",
       "\n",
       "    .dataframe tbody tr th {\n",
       "        vertical-align: top;\n",
       "    }\n",
       "\n",
       "    .dataframe thead th {\n",
       "        text-align: right;\n",
       "    }\n",
       "</style>\n",
       "<table border=\"1\" class=\"dataframe\">\n",
       "  <thead>\n",
       "    <tr style=\"text-align: right;\">\n",
       "      <th></th>\n",
       "      <th>name_1</th>\n",
       "      <th>name_2</th>\n",
       "    </tr>\n",
       "    <tr>\n",
       "      <th>is_duplicate</th>\n",
       "      <th></th>\n",
       "      <th></th>\n",
       "    </tr>\n",
       "  </thead>\n",
       "  <tbody>\n",
       "    <tr>\n",
       "      <th>0</th>\n",
       "      <td>494161</td>\n",
       "      <td>494161</td>\n",
       "    </tr>\n",
       "    <tr>\n",
       "      <th>1</th>\n",
       "      <td>3658</td>\n",
       "      <td>3658</td>\n",
       "    </tr>\n",
       "  </tbody>\n",
       "</table>\n",
       "</div>"
      ],
      "text/plain": [
       "              name_1  name_2\n",
       "is_duplicate                \n",
       "0             494161  494161\n",
       "1               3658    3658"
      ]
     },
     "execution_count": 6,
     "metadata": {},
     "output_type": "execute_result"
    }
   ],
   "source": [
    "df.groupby('is_duplicate').count()"
   ]
  },
  {
   "cell_type": "markdown",
   "id": "76a31317",
   "metadata": {},
   "source": [
    "Выборка сильно несбалансирована.\n",
    "\n",
    "Посмотрим, присутсвует ли что-то кроме латиницы."
   ]
  },
  {
   "cell_type": "code",
   "execution_count": 107,
   "id": "7c9b19fb",
   "metadata": {},
   "outputs": [
    {
     "data": {
      "application/vnd.jupyter.widget-view+json": {
       "model_id": "d0c5d15e0e6c47ab8e0c13fa2bf7276e",
       "version_major": 2,
       "version_minor": 0
      },
      "text/plain": [
       "  0%|          | 0/497819 [00:00<?, ?it/s]"
      ]
     },
     "metadata": {},
     "output_type": "display_data"
    },
    {
     "data": {
      "application/vnd.jupyter.widget-view+json": {
       "model_id": "17744333ac17477aba6ace13f3214ca6",
       "version_major": 2,
       "version_minor": 0
      },
      "text/plain": [
       "  0%|          | 0/497819 [00:00<?, ?it/s]"
      ]
     },
     "metadata": {},
     "output_type": "display_data"
    }
   ],
   "source": [
    "u0 = map(lambda x: list(x), df['name_1'].tolist())\n",
    "total = []\n",
    "for lst in tqdm(u0, total=df['name_1'].shape[0]):\n",
    "    total.extend(lst)\n",
    "\n",
    "u1 = map(lambda x: list(x), df['name_2'].tolist())\n",
    "for lst in tqdm(u1, total=df['name_2'].shape[0]):\n",
    "    total.extend(lst)"
   ]
  },
  {
   "cell_type": "code",
   "execution_count": 108,
   "id": "e3765cbe",
   "metadata": {},
   "outputs": [
    {
     "data": {
      "text/plain": [
       "{' ',\n",
       " '\"',\n",
       " '#',\n",
       " '%',\n",
       " '&',\n",
       " \"'\",\n",
       " '(',\n",
       " ')',\n",
       " '*',\n",
       " '+',\n",
       " ',',\n",
       " '-',\n",
       " '.',\n",
       " '/',\n",
       " '0',\n",
       " '1',\n",
       " '2',\n",
       " '3',\n",
       " '4',\n",
       " '5',\n",
       " '6',\n",
       " '7',\n",
       " '8',\n",
       " '9',\n",
       " ':',\n",
       " ';',\n",
       " '<',\n",
       " '>',\n",
       " '?',\n",
       " '@',\n",
       " 'A',\n",
       " 'B',\n",
       " 'C',\n",
       " 'D',\n",
       " 'E',\n",
       " 'F',\n",
       " 'G',\n",
       " 'H',\n",
       " 'I',\n",
       " 'J',\n",
       " 'K',\n",
       " 'L',\n",
       " 'M',\n",
       " 'N',\n",
       " 'O',\n",
       " 'P',\n",
       " 'Q',\n",
       " 'R',\n",
       " 'S',\n",
       " 'T',\n",
       " 'U',\n",
       " 'V',\n",
       " 'W',\n",
       " 'X',\n",
       " 'Y',\n",
       " 'Z',\n",
       " '[',\n",
       " '\\\\',\n",
       " ']',\n",
       " '`',\n",
       " 'a',\n",
       " 'b',\n",
       " 'c',\n",
       " 'd',\n",
       " 'e',\n",
       " 'f',\n",
       " 'g',\n",
       " 'h',\n",
       " 'i',\n",
       " 'j',\n",
       " 'k',\n",
       " 'l',\n",
       " 'm',\n",
       " 'n',\n",
       " 'o',\n",
       " 'p',\n",
       " 'q',\n",
       " 'r',\n",
       " 's',\n",
       " 't',\n",
       " 'u',\n",
       " 'v',\n",
       " 'w',\n",
       " 'x',\n",
       " 'y',\n",
       " 'z',\n",
       " '{',\n",
       " '\\xa0',\n",
       " '«',\n",
       " '±',\n",
       " '»',\n",
       " '¿',\n",
       " 'Ã',\n",
       " 'Ç',\n",
       " 'Í',\n",
       " 'Ñ',\n",
       " 'Ó',\n",
       " 'Ö',\n",
       " 'Ú',\n",
       " 'Ü',\n",
       " 'á',\n",
       " 'ç',\n",
       " 'è',\n",
       " 'é',\n",
       " 'í',\n",
       " 'ñ',\n",
       " 'ó',\n",
       " 'õ',\n",
       " 'ö',\n",
       " 'ú',\n",
       " 'ü',\n",
       " 'ę',\n",
       " 'İ',\n",
       " 'Ł',\n",
       " 'ł',\n",
       " 'ő',\n",
       " 'Ş',\n",
       " 'ű',\n",
       " 'Ё',\n",
       " 'А',\n",
       " 'Б',\n",
       " 'В',\n",
       " 'Г',\n",
       " 'Д',\n",
       " 'Е',\n",
       " 'Ж',\n",
       " 'З',\n",
       " 'И',\n",
       " 'Й',\n",
       " 'К',\n",
       " 'Л',\n",
       " 'М',\n",
       " 'Н',\n",
       " 'О',\n",
       " 'П',\n",
       " 'Р',\n",
       " 'С',\n",
       " 'Т',\n",
       " 'У',\n",
       " 'Ф',\n",
       " 'Х',\n",
       " 'Ц',\n",
       " 'Ч',\n",
       " 'Ш',\n",
       " 'Щ',\n",
       " 'Ы',\n",
       " 'Ь',\n",
       " 'Э',\n",
       " 'Ю',\n",
       " 'Я',\n",
       " 'а',\n",
       " 'б',\n",
       " 'в',\n",
       " 'г',\n",
       " 'д',\n",
       " 'е',\n",
       " 'з',\n",
       " 'и',\n",
       " 'к',\n",
       " 'л',\n",
       " 'м',\n",
       " 'н',\n",
       " 'о',\n",
       " 'п',\n",
       " 'р',\n",
       " 'с',\n",
       " 'т',\n",
       " 'у',\n",
       " 'ш',\n",
       " 'ь',\n",
       " 'э',\n",
       " 'ر',\n",
       " 'س',\n",
       " 'ف',\n",
       " 'ك',\n",
       " 'م',\n",
       " 'و',\n",
       " 'ي',\n",
       " '\\u0e00',\n",
       " '‘',\n",
       " '’',\n",
       " '\\u3000',\n",
       " '。',\n",
       " '上',\n",
       " '东',\n",
       " '京',\n",
       " '份',\n",
       " '会',\n",
       " '公',\n",
       " '北',\n",
       " '双',\n",
       " '司',\n",
       " '团',\n",
       " '式',\n",
       " '彤',\n",
       " '技',\n",
       " '料',\n",
       " '新',\n",
       " '方',\n",
       " '日',\n",
       " '有',\n",
       " '术',\n",
       " '材',\n",
       " '株',\n",
       " '水',\n",
       " '海',\n",
       " '社',\n",
       " '程',\n",
       " '股',\n",
       " '虹',\n",
       " '防',\n",
       " '限',\n",
       " '集',\n",
       " '雨',\n",
       " '﹠',\n",
       " '＆',\n",
       " '（',\n",
       " '）',\n",
       " '，'}"
      ]
     },
     "execution_count": 108,
     "metadata": {},
     "output_type": "execute_result"
    }
   ],
   "source": [
    "set(total)"
   ]
  },
  {
   "cell_type": "markdown",
   "id": "f41b7671",
   "metadata": {},
   "source": [
    "Стоит убрать мусорные символы типа \", #, % и так далее. В эти символы также можно включить цифры и скобки:"
   ]
  },
  {
   "cell_type": "code",
   "execution_count": 121,
   "id": "66caaabc",
   "metadata": {},
   "outputs": [],
   "source": [
    "trash_symbols = {\n",
    "    '\"', '#', '%', '&', \"'\", '(', ')', '*', '+', ',', '-', '.', '/',\n",
    "    '0', '1', '2', '3', '4', '5', '6', '7', '8', '9',\n",
    "    ':', ';', '<', '>', '?', '@', '[', '\\\\', ']', '`', '{', '\\xa0', '«',\n",
    "    '±', '»', '\\u0e00', '‘', '’', '\\u3000', '。', '﹠', '＆', '（', '）',\n",
    "    '，'\n",
    "}"
   ]
  },
  {
   "cell_type": "markdown",
   "id": "9219ccfa",
   "metadata": {},
   "source": [
    "Также в фразах присутсвует несколько языков:\n",
    "* Латиница\n",
    "* Кирилица\n",
    "* Иероглифы\n",
    "* Прочие\n",
    "\n",
    "Разделим их и посмотрим на соотношение языков в датасете."
   ]
  },
  {
   "cell_type": "code",
   "execution_count": 122,
   "id": "4fe2090a",
   "metadata": {},
   "outputs": [],
   "source": [
    "latin = {\n",
    "    'A', 'B', 'C', 'D', 'E', 'F', 'G', 'H', 'I', 'J', 'K', 'L', 'M',\n",
    "    'N', 'O', 'P', 'Q', 'R', 'S', 'T', 'U', 'V', 'W', 'X', 'Y', 'Z',\n",
    "    'a', 'b', 'c', 'd', 'e', 'f', 'g', 'h', 'i', 'j', 'k', 'l', 'm',\n",
    "    'n', 'o', 'p', 'q', 'r', 's', 't', 'u', 'v', 'w', 'x', 'y', 'z'\n",
    "}"
   ]
  },
  {
   "cell_type": "code",
   "execution_count": 123,
   "id": "4deebd7d",
   "metadata": {},
   "outputs": [],
   "source": [
    "cyrillic = {\n",
    "    'Ё', 'А', 'Б', 'В', 'Г', 'Д', 'Е', 'Ж', 'З', 'И', 'Й', 'К', 'Л', 'М',\n",
    "    'Н', 'О', 'П', 'Р', 'С', 'Т', 'У', 'Ф', 'Х', 'Ц', 'Ч', 'Ш', 'Щ', 'Ы',\n",
    "    'Ь', 'Э', 'Ю', 'Я', 'а', 'б', 'в', 'г', 'д', 'е', 'з', 'и', 'к', 'л',\n",
    "    'м', 'н', 'о', 'п', 'р', 'с', 'т', 'у', 'ш', 'ь', 'э'\n",
    "}"
   ]
  },
  {
   "cell_type": "code",
   "execution_count": 124,
   "id": "bc0a02ce",
   "metadata": {},
   "outputs": [],
   "source": [
    "unknown_1 = {\n",
    "    '¿', 'Ã', 'Ç', 'Í', 'Ñ', 'Ó', 'Ö', 'Ú', 'Ü', 'á', 'ç', 'è', 'é', 'í',\n",
    "    'ñ', 'ó', 'õ', 'ö', 'ú', 'ü', 'ę', 'İ', 'Ł', 'ł', 'ő', 'Ş', 'ű'\n",
    "}"
   ]
  },
  {
   "cell_type": "code",
   "execution_count": 142,
   "id": "422765d4",
   "metadata": {},
   "outputs": [],
   "source": [
    "unknown_2 = {\n",
    "    'ر', 'س', 'ف', 'ك', 'م', 'و', 'ي'\n",
    "}"
   ]
  },
  {
   "cell_type": "code",
   "execution_count": 143,
   "id": "055818a4",
   "metadata": {},
   "outputs": [],
   "source": [
    "unknown_3 = {\n",
    "    '上', '东', '京', '份', '会', '公', '北', '双', '司', '团', '式', '彤',\n",
    "    '技', '料', '新', '方', '日', '有', '术', '材', '株', '水', '海', '社',\n",
    "    '程', '股', '虹', '防', '限', '集', '雨'\n",
    "}"
   ]
  },
  {
   "cell_type": "code",
   "execution_count": 144,
   "id": "b59afb2a",
   "metadata": {},
   "outputs": [
    {
     "data": {
      "text/plain": [
       "{' '}"
      ]
     },
     "execution_count": 144,
     "metadata": {},
     "output_type": "execute_result"
    }
   ],
   "source": [
    "(set(total)\n",
    " - latin\n",
    " - cyrillic\n",
    " - unknown_1\n",
    " - unknown_2\n",
    " - unknown_3\n",
    " - trash_symbols)"
   ]
  },
  {
   "cell_type": "markdown",
   "id": "59e6171f",
   "metadata": {},
   "source": [
    "Будем смотреть, какие языки охватывает каждая пара наименований."
   ]
  },
  {
   "cell_type": "code",
   "execution_count": 156,
   "id": "374cb2fb",
   "metadata": {},
   "outputs": [],
   "source": [
    "def classify_language(\n",
    "    string: str,\n",
    "    languages_base: list,\n",
    "    trash_symbols: set\n",
    ") -> list:\n",
    "    answer = []\n",
    "    letters = set(string) - trash_symbols - {' '}\n",
    "    for language in languages_base:\n",
    "        answer.append(bool(language & letters) + 0)\n",
    "    return answer"
   ]
  },
  {
   "cell_type": "code",
   "execution_count": 173,
   "id": "d79264e3",
   "metadata": {},
   "outputs": [],
   "source": [
    "languages_base = [\n",
    "    latin,\n",
    "    cyrillic,\n",
    "    unknown_1,\n",
    "    unknown_2,\n",
    "    unknown_3\n",
    "]\n",
    "\n",
    "languages_base_names = [\n",
    "    'latin',\n",
    "    'cyrillic',\n",
    "    'unknown_1',\n",
    "    'unknown_2',\n",
    "    'unknown_3'\n",
    "]"
   ]
  },
  {
   "cell_type": "code",
   "execution_count": 174,
   "id": "56e98c14",
   "metadata": {},
   "outputs": [
    {
     "name": "stdout",
     "output_type": "stream",
     "text": [
      "Iko Industries Ltd.\n"
     ]
    },
    {
     "data": {
      "text/plain": [
       "[1, 0, 0, 0, 0]"
      ]
     },
     "execution_count": 174,
     "metadata": {},
     "output_type": "execute_result"
    }
   ],
   "source": [
    "print(df['name_1'].iloc[0])\n",
    "classify_language(df['name_1'].iloc[0], languages_base, trash_symbols)"
   ]
  },
  {
   "cell_type": "code",
   "execution_count": 205,
   "id": "87461741",
   "metadata": {},
   "outputs": [],
   "source": [
    "df_copy = df.copy()"
   ]
  },
  {
   "cell_type": "code",
   "execution_count": 249,
   "id": "01091744",
   "metadata": {},
   "outputs": [],
   "source": [
    "u = df_copy[['name_1', 'name_2']].apply(\n",
    "    lambda row: classify_language(\n",
    "        set(row['name_1']) | set(row['name_2']),\n",
    "        languages_base,\n",
    "        trash_symbols\n",
    "    ) ,\n",
    "    axis=1)"
   ]
  },
  {
   "cell_type": "code",
   "execution_count": 250,
   "id": "75f0f3fb",
   "metadata": {},
   "outputs": [
    {
     "data": {
      "text/plain": [
       "pair_id\n",
       "1    [1, 0, 0, 0, 0]\n",
       "2    [1, 0, 0, 0, 0]\n",
       "3    [1, 0, 0, 0, 0]\n",
       "dtype: object"
      ]
     },
     "execution_count": 250,
     "metadata": {},
     "output_type": "execute_result"
    }
   ],
   "source": [
    "u.head(3)"
   ]
  },
  {
   "cell_type": "code",
   "execution_count": 208,
   "id": "fbc1bf9a",
   "metadata": {},
   "outputs": [],
   "source": [
    "u2t = pd.DataFrame(u.tolist(), index=u.index, columns=languages_base_names)"
   ]
  },
  {
   "cell_type": "code",
   "execution_count": 209,
   "id": "8fa03447",
   "metadata": {},
   "outputs": [
    {
     "data": {
      "text/html": [
       "<div>\n",
       "<style scoped>\n",
       "    .dataframe tbody tr th:only-of-type {\n",
       "        vertical-align: middle;\n",
       "    }\n",
       "\n",
       "    .dataframe tbody tr th {\n",
       "        vertical-align: top;\n",
       "    }\n",
       "\n",
       "    .dataframe thead th {\n",
       "        text-align: right;\n",
       "    }\n",
       "</style>\n",
       "<table border=\"1\" class=\"dataframe\">\n",
       "  <thead>\n",
       "    <tr style=\"text-align: right;\">\n",
       "      <th></th>\n",
       "      <th>latin</th>\n",
       "      <th>cyrillic</th>\n",
       "      <th>unknown_1</th>\n",
       "      <th>unknown_2</th>\n",
       "      <th>unknown_3</th>\n",
       "    </tr>\n",
       "    <tr>\n",
       "      <th>pair_id</th>\n",
       "      <th></th>\n",
       "      <th></th>\n",
       "      <th></th>\n",
       "      <th></th>\n",
       "      <th></th>\n",
       "    </tr>\n",
       "  </thead>\n",
       "  <tbody>\n",
       "    <tr>\n",
       "      <th>1</th>\n",
       "      <td>1</td>\n",
       "      <td>0</td>\n",
       "      <td>0</td>\n",
       "      <td>0</td>\n",
       "      <td>0</td>\n",
       "    </tr>\n",
       "    <tr>\n",
       "      <th>2</th>\n",
       "      <td>1</td>\n",
       "      <td>0</td>\n",
       "      <td>0</td>\n",
       "      <td>0</td>\n",
       "      <td>0</td>\n",
       "    </tr>\n",
       "    <tr>\n",
       "      <th>3</th>\n",
       "      <td>1</td>\n",
       "      <td>0</td>\n",
       "      <td>0</td>\n",
       "      <td>0</td>\n",
       "      <td>0</td>\n",
       "    </tr>\n",
       "  </tbody>\n",
       "</table>\n",
       "</div>"
      ],
      "text/plain": [
       "         latin  cyrillic  unknown_1  unknown_2  unknown_3\n",
       "pair_id                                                  \n",
       "1            1         0          0          0          0\n",
       "2            1         0          0          0          0\n",
       "3            1         0          0          0          0"
      ]
     },
     "execution_count": 209,
     "metadata": {},
     "output_type": "execute_result"
    }
   ],
   "source": [
    "u2t.head(3)"
   ]
  },
  {
   "cell_type": "code",
   "execution_count": 210,
   "id": "c701cb22",
   "metadata": {},
   "outputs": [],
   "source": [
    "df_copy[languages_base_names] = u2t[languages_base_names]"
   ]
  },
  {
   "cell_type": "code",
   "execution_count": 212,
   "id": "dfd24cf4",
   "metadata": {},
   "outputs": [
    {
     "data": {
      "text/html": [
       "<div>\n",
       "<style scoped>\n",
       "    .dataframe tbody tr th:only-of-type {\n",
       "        vertical-align: middle;\n",
       "    }\n",
       "\n",
       "    .dataframe tbody tr th {\n",
       "        vertical-align: top;\n",
       "    }\n",
       "\n",
       "    .dataframe thead th {\n",
       "        text-align: right;\n",
       "    }\n",
       "</style>\n",
       "<table border=\"1\" class=\"dataframe\">\n",
       "  <thead>\n",
       "    <tr style=\"text-align: right;\">\n",
       "      <th></th>\n",
       "      <th>name_1</th>\n",
       "      <th>name_2</th>\n",
       "      <th>is_duplicate</th>\n",
       "      <th>latin</th>\n",
       "      <th>cyrillic</th>\n",
       "      <th>unknown_1</th>\n",
       "      <th>unknown_2</th>\n",
       "      <th>unknown_3</th>\n",
       "    </tr>\n",
       "    <tr>\n",
       "      <th>pair_id</th>\n",
       "      <th></th>\n",
       "      <th></th>\n",
       "      <th></th>\n",
       "      <th></th>\n",
       "      <th></th>\n",
       "      <th></th>\n",
       "      <th></th>\n",
       "      <th></th>\n",
       "    </tr>\n",
       "  </thead>\n",
       "  <tbody>\n",
       "    <tr>\n",
       "      <th>1</th>\n",
       "      <td>Iko Industries Ltd.</td>\n",
       "      <td>Enormous Industrial Trade Pvt., Ltd.</td>\n",
       "      <td>0</td>\n",
       "      <td>1</td>\n",
       "      <td>0</td>\n",
       "      <td>0</td>\n",
       "      <td>0</td>\n",
       "      <td>0</td>\n",
       "    </tr>\n",
       "    <tr>\n",
       "      <th>2</th>\n",
       "      <td>Apcotex Industries Ltd.</td>\n",
       "      <td>Technocraft Industries (India) Ltd.</td>\n",
       "      <td>0</td>\n",
       "      <td>1</td>\n",
       "      <td>0</td>\n",
       "      <td>0</td>\n",
       "      <td>0</td>\n",
       "      <td>0</td>\n",
       "    </tr>\n",
       "    <tr>\n",
       "      <th>3</th>\n",
       "      <td>Rishichem Distributors Pvt., Ltd.</td>\n",
       "      <td>Dsa</td>\n",
       "      <td>0</td>\n",
       "      <td>1</td>\n",
       "      <td>0</td>\n",
       "      <td>0</td>\n",
       "      <td>0</td>\n",
       "      <td>0</td>\n",
       "    </tr>\n",
       "  </tbody>\n",
       "</table>\n",
       "</div>"
      ],
      "text/plain": [
       "                                    name_1  \\\n",
       "pair_id                                      \n",
       "1                      Iko Industries Ltd.   \n",
       "2                  Apcotex Industries Ltd.   \n",
       "3        Rishichem Distributors Pvt., Ltd.   \n",
       "\n",
       "                                       name_2  is_duplicate  latin  cyrillic  \\\n",
       "pair_id                                                                        \n",
       "1        Enormous Industrial Trade Pvt., Ltd.             0      1         0   \n",
       "2         Technocraft Industries (India) Ltd.             0      1         0   \n",
       "3                                         Dsa             0      1         0   \n",
       "\n",
       "         unknown_1  unknown_2  unknown_3  \n",
       "pair_id                                   \n",
       "1                0          0          0  \n",
       "2                0          0          0  \n",
       "3                0          0          0  "
      ]
     },
     "execution_count": 212,
     "metadata": {},
     "output_type": "execute_result"
    }
   ],
   "source": [
    "df_copy.head(3)"
   ]
  },
  {
   "cell_type": "markdown",
   "id": "a83460ab",
   "metadata": {},
   "source": [
    "Частота языков:"
   ]
  },
  {
   "cell_type": "code",
   "execution_count": 214,
   "id": "255e842c",
   "metadata": {},
   "outputs": [
    {
     "data": {
      "text/html": [
       "<div>\n",
       "<style scoped>\n",
       "    .dataframe tbody tr th:only-of-type {\n",
       "        vertical-align: middle;\n",
       "    }\n",
       "\n",
       "    .dataframe tbody tr th {\n",
       "        vertical-align: top;\n",
       "    }\n",
       "\n",
       "    .dataframe thead th {\n",
       "        text-align: right;\n",
       "    }\n",
       "</style>\n",
       "<table border=\"1\" class=\"dataframe\">\n",
       "  <thead>\n",
       "    <tr style=\"text-align: right;\">\n",
       "      <th></th>\n",
       "      <th>latin</th>\n",
       "      <th>cyrillic</th>\n",
       "      <th>unknown_1</th>\n",
       "      <th>unknown_2</th>\n",
       "      <th>unknown_3</th>\n",
       "    </tr>\n",
       "    <tr>\n",
       "      <th>is_duplicate</th>\n",
       "      <th></th>\n",
       "      <th></th>\n",
       "      <th></th>\n",
       "      <th></th>\n",
       "      <th></th>\n",
       "    </tr>\n",
       "  </thead>\n",
       "  <tbody>\n",
       "    <tr>\n",
       "      <th>0</th>\n",
       "      <td>494140</td>\n",
       "      <td>2305</td>\n",
       "      <td>5037</td>\n",
       "      <td>120</td>\n",
       "      <td>226</td>\n",
       "    </tr>\n",
       "    <tr>\n",
       "      <th>1</th>\n",
       "      <td>3621</td>\n",
       "      <td>149</td>\n",
       "      <td>41</td>\n",
       "      <td>1</td>\n",
       "      <td>2</td>\n",
       "    </tr>\n",
       "  </tbody>\n",
       "</table>\n",
       "</div>"
      ],
      "text/plain": [
       "               latin  cyrillic  unknown_1  unknown_2  unknown_3\n",
       "is_duplicate                                                   \n",
       "0             494140      2305       5037        120        226\n",
       "1               3621       149         41          1          2"
      ]
     },
     "execution_count": 214,
     "metadata": {},
     "output_type": "execute_result"
    }
   ],
   "source": [
    "# В целом\n",
    "df_copy.groupby('is_duplicate')[languages_base_names].sum()"
   ]
  },
  {
   "cell_type": "code",
   "execution_count": 222,
   "id": "55ce9051",
   "metadata": {},
   "outputs": [
    {
     "data": {
      "text/html": [
       "<div>\n",
       "<style scoped>\n",
       "    .dataframe tbody tr th:only-of-type {\n",
       "        vertical-align: middle;\n",
       "    }\n",
       "\n",
       "    .dataframe tbody tr th {\n",
       "        vertical-align: top;\n",
       "    }\n",
       "\n",
       "    .dataframe thead th {\n",
       "        text-align: right;\n",
       "    }\n",
       "</style>\n",
       "<table border=\"1\" class=\"dataframe\">\n",
       "  <thead>\n",
       "    <tr style=\"text-align: right;\">\n",
       "      <th></th>\n",
       "      <th>latin</th>\n",
       "      <th>cyrillic</th>\n",
       "      <th>unknown_1</th>\n",
       "      <th>unknown_2</th>\n",
       "      <th>unknown_3</th>\n",
       "    </tr>\n",
       "    <tr>\n",
       "      <th>is_duplicate</th>\n",
       "      <th></th>\n",
       "      <th></th>\n",
       "      <th></th>\n",
       "      <th></th>\n",
       "      <th></th>\n",
       "    </tr>\n",
       "  </thead>\n",
       "  <tbody>\n",
       "    <tr>\n",
       "      <th>0</th>\n",
       "      <td>486646</td>\n",
       "      <td>21</td>\n",
       "      <td>0</td>\n",
       "      <td>0</td>\n",
       "      <td>0</td>\n",
       "    </tr>\n",
       "    <tr>\n",
       "      <th>1</th>\n",
       "      <td>3465</td>\n",
       "      <td>37</td>\n",
       "      <td>0</td>\n",
       "      <td>0</td>\n",
       "      <td>0</td>\n",
       "    </tr>\n",
       "  </tbody>\n",
       "</table>\n",
       "</div>"
      ],
      "text/plain": [
       "               latin  cyrillic  unknown_1  unknown_2  unknown_3\n",
       "is_duplicate                                                   \n",
       "0             486646        21          0          0          0\n",
       "1               3465        37          0          0          0"
      ]
     },
     "execution_count": 222,
     "metadata": {},
     "output_type": "execute_result"
    }
   ],
   "source": [
    "# Пары с одним языком\n",
    "one_language_df = df_copy[df_copy[languages_base_names].sum(axis=1) == 1]\n",
    "one_language_df.groupby('is_duplicate')[languages_base_names].sum()"
   ]
  },
  {
   "cell_type": "code",
   "execution_count": 229,
   "id": "c35b2f2e",
   "metadata": {},
   "outputs": [
    {
     "data": {
      "text/html": [
       "<div>\n",
       "<style scoped>\n",
       "    .dataframe tbody tr th:only-of-type {\n",
       "        vertical-align: middle;\n",
       "    }\n",
       "\n",
       "    .dataframe tbody tr th {\n",
       "        vertical-align: top;\n",
       "    }\n",
       "\n",
       "    .dataframe thead th {\n",
       "        text-align: right;\n",
       "    }\n",
       "</style>\n",
       "<table border=\"1\" class=\"dataframe\">\n",
       "  <thead>\n",
       "    <tr style=\"text-align: right;\">\n",
       "      <th></th>\n",
       "      <th>name_1</th>\n",
       "      <th>name_2</th>\n",
       "    </tr>\n",
       "    <tr>\n",
       "      <th>is_duplicate</th>\n",
       "      <th></th>\n",
       "      <th></th>\n",
       "    </tr>\n",
       "  </thead>\n",
       "  <tbody>\n",
       "    <tr>\n",
       "      <th>0</th>\n",
       "      <td>494161</td>\n",
       "      <td>494161</td>\n",
       "    </tr>\n",
       "    <tr>\n",
       "      <th>1</th>\n",
       "      <td>3658</td>\n",
       "      <td>3658</td>\n",
       "    </tr>\n",
       "  </tbody>\n",
       "</table>\n",
       "</div>"
      ],
      "text/plain": [
       "              name_1  name_2\n",
       "is_duplicate                \n",
       "0             494161  494161\n",
       "1               3658    3658"
      ]
     },
     "execution_count": 229,
     "metadata": {},
     "output_type": "execute_result"
    }
   ],
   "source": [
    "# Исходное число пар\n",
    "df.groupby('is_duplicate').count()"
   ]
  },
  {
   "cell_type": "markdown",
   "id": "a8e84d0f",
   "metadata": {},
   "source": [
    "В целом можно заключить, что взяв пары только с латинскими символами, мы не сильно потеряем от общей выборки. Учитывая то, насколько потенциально обременительно может быть тащить за собой все языки, это скорее правильное решение."
   ]
  },
  {
   "cell_type": "code",
   "execution_count": 224,
   "id": "eb85b93d",
   "metadata": {},
   "outputs": [
    {
     "name": "stdout",
     "output_type": "stream",
     "text": [
      "(7650, 8)\n"
     ]
    },
    {
     "data": {
      "text/html": [
       "<div>\n",
       "<style scoped>\n",
       "    .dataframe tbody tr th:only-of-type {\n",
       "        vertical-align: middle;\n",
       "    }\n",
       "\n",
       "    .dataframe tbody tr th {\n",
       "        vertical-align: top;\n",
       "    }\n",
       "\n",
       "    .dataframe thead th {\n",
       "        text-align: right;\n",
       "    }\n",
       "</style>\n",
       "<table border=\"1\" class=\"dataframe\">\n",
       "  <thead>\n",
       "    <tr style=\"text-align: right;\">\n",
       "      <th></th>\n",
       "      <th>latin</th>\n",
       "      <th>cyrillic</th>\n",
       "      <th>unknown_1</th>\n",
       "      <th>unknown_2</th>\n",
       "      <th>unknown_3</th>\n",
       "    </tr>\n",
       "    <tr>\n",
       "      <th>is_duplicate</th>\n",
       "      <th></th>\n",
       "      <th></th>\n",
       "      <th></th>\n",
       "      <th></th>\n",
       "      <th></th>\n",
       "    </tr>\n",
       "  </thead>\n",
       "  <tbody>\n",
       "    <tr>\n",
       "      <th>0</th>\n",
       "      <td>7494</td>\n",
       "      <td>2284</td>\n",
       "      <td>5037</td>\n",
       "      <td>120</td>\n",
       "      <td>226</td>\n",
       "    </tr>\n",
       "    <tr>\n",
       "      <th>1</th>\n",
       "      <td>156</td>\n",
       "      <td>112</td>\n",
       "      <td>41</td>\n",
       "      <td>1</td>\n",
       "      <td>2</td>\n",
       "    </tr>\n",
       "  </tbody>\n",
       "</table>\n",
       "</div>"
      ],
      "text/plain": [
       "              latin  cyrillic  unknown_1  unknown_2  unknown_3\n",
       "is_duplicate                                                  \n",
       "0              7494      2284       5037        120        226\n",
       "1               156       112         41          1          2"
      ]
     },
     "execution_count": 224,
     "metadata": {},
     "output_type": "execute_result"
    }
   ],
   "source": [
    "# Пары с различными языками\n",
    "multi_language_df = df_copy[df_copy[languages_base_names].sum(axis=1) > 1]\n",
    "print(multi_language_df.shape)\n",
    "multi_language_df.groupby('is_duplicate')[languages_base_names].sum()"
   ]
  },
  {
   "cell_type": "code",
   "execution_count": 231,
   "id": "bed1342c",
   "metadata": {},
   "outputs": [
    {
     "data": {
      "text/plain": [
       "False"
      ]
     },
     "execution_count": 231,
     "metadata": {},
     "output_type": "execute_result"
    }
   ],
   "source": [
    "df[['name_1', 'name_2']].duplicated().any()"
   ]
  },
  {
   "cell_type": "markdown",
   "id": "2336ce41",
   "metadata": {},
   "source": [
    "# Очистка выборки"
   ]
  },
  {
   "cell_type": "code",
   "execution_count": 246,
   "id": "446cf838",
   "metadata": {},
   "outputs": [],
   "source": [
    "# Возьмем фразы только на латинском языке\n",
    "target_columns = ['name_1', 'name_2', 'is_duplicate']\n",
    "latin_df = one_language_df[one_language_df['latin'] == 1][target_columns]"
   ]
  },
  {
   "cell_type": "code",
   "execution_count": 277,
   "id": "3079ec9c",
   "metadata": {},
   "outputs": [],
   "source": [
    "def clear_string_from_symbols(string: str, symbols: set) -> str:\n",
    "    res = ''.join(\n",
    "        filter(\n",
    "            lambda symb: symb not in symbols,\n",
    "            list(string)\n",
    "        )\n",
    "    )\n",
    "    return res"
   ]
  },
  {
   "cell_type": "code",
   "execution_count": 291,
   "id": "b3c708fb",
   "metadata": {},
   "outputs": [
    {
     "name": "stdout",
     "output_type": "stream",
     "text": [
      "S.R. International\n",
      "SR International\n"
     ]
    }
   ],
   "source": [
    "print(latin_df.iloc[25]['name_1'])\n",
    "r = clear_string_from_symbols(latin_df.iloc[25]['name_1'], trash_symbols)\n",
    "print(r)"
   ]
  },
  {
   "cell_type": "code",
   "execution_count": 279,
   "id": "1dec97fe",
   "metadata": {},
   "outputs": [],
   "source": [
    "latin_df_copy = latin_df.copy()"
   ]
  },
  {
   "cell_type": "code",
   "execution_count": 280,
   "id": "43be549a",
   "metadata": {},
   "outputs": [],
   "source": [
    "# Уберем мусорные символы\n",
    "for col in ['name_1', 'name_2']:\n",
    "    latin_df_copy[col] = latin_df_copy[col].apply(\n",
    "        lambda val: clear_string_from_symbols(val, trash_symbols)\n",
    "    )"
   ]
  },
  {
   "cell_type": "code",
   "execution_count": 282,
   "id": "094deb26",
   "metadata": {
    "scrolled": true
   },
   "outputs": [
    {
     "data": {
      "text/html": [
       "<div>\n",
       "<style scoped>\n",
       "    .dataframe tbody tr th:only-of-type {\n",
       "        vertical-align: middle;\n",
       "    }\n",
       "\n",
       "    .dataframe tbody tr th {\n",
       "        vertical-align: top;\n",
       "    }\n",
       "\n",
       "    .dataframe thead th {\n",
       "        text-align: right;\n",
       "    }\n",
       "</style>\n",
       "<table border=\"1\" class=\"dataframe\">\n",
       "  <thead>\n",
       "    <tr style=\"text-align: right;\">\n",
       "      <th></th>\n",
       "      <th>name_1</th>\n",
       "      <th>name_2</th>\n",
       "      <th>is_duplicate</th>\n",
       "    </tr>\n",
       "    <tr>\n",
       "      <th>pair_id</th>\n",
       "      <th></th>\n",
       "      <th></th>\n",
       "      <th></th>\n",
       "    </tr>\n",
       "  </thead>\n",
       "  <tbody>\n",
       "    <tr>\n",
       "      <th>1</th>\n",
       "      <td>Iko Industries Ltd.</td>\n",
       "      <td>Enormous Industrial Trade Pvt., Ltd.</td>\n",
       "      <td>0</td>\n",
       "    </tr>\n",
       "    <tr>\n",
       "      <th>2</th>\n",
       "      <td>Apcotex Industries Ltd.</td>\n",
       "      <td>Technocraft Industries (India) Ltd.</td>\n",
       "      <td>0</td>\n",
       "    </tr>\n",
       "    <tr>\n",
       "      <th>3</th>\n",
       "      <td>Rishichem Distributors Pvt., Ltd.</td>\n",
       "      <td>Dsa</td>\n",
       "      <td>0</td>\n",
       "    </tr>\n",
       "    <tr>\n",
       "      <th>4</th>\n",
       "      <td>Powermax Rubber Factory</td>\n",
       "      <td>Co. One</td>\n",
       "      <td>0</td>\n",
       "    </tr>\n",
       "    <tr>\n",
       "      <th>5</th>\n",
       "      <td>Tress A/S</td>\n",
       "      <td>Longyou Industries Park Zhejiang</td>\n",
       "      <td>0</td>\n",
       "    </tr>\n",
       "  </tbody>\n",
       "</table>\n",
       "</div>"
      ],
      "text/plain": [
       "                                    name_1  \\\n",
       "pair_id                                      \n",
       "1                      Iko Industries Ltd.   \n",
       "2                  Apcotex Industries Ltd.   \n",
       "3        Rishichem Distributors Pvt., Ltd.   \n",
       "4                  Powermax Rubber Factory   \n",
       "5                                Tress A/S   \n",
       "\n",
       "                                       name_2  is_duplicate  \n",
       "pair_id                                                      \n",
       "1        Enormous Industrial Trade Pvt., Ltd.             0  \n",
       "2         Technocraft Industries (India) Ltd.             0  \n",
       "3                                         Dsa             0  \n",
       "4                                     Co. One             0  \n",
       "5            Longyou Industries Park Zhejiang             0  "
      ]
     },
     "execution_count": 282,
     "metadata": {},
     "output_type": "execute_result"
    }
   ],
   "source": [
    "latin_df.head()"
   ]
  },
  {
   "cell_type": "code",
   "execution_count": 281,
   "id": "0bf26880",
   "metadata": {},
   "outputs": [
    {
     "data": {
      "text/html": [
       "<div>\n",
       "<style scoped>\n",
       "    .dataframe tbody tr th:only-of-type {\n",
       "        vertical-align: middle;\n",
       "    }\n",
       "\n",
       "    .dataframe tbody tr th {\n",
       "        vertical-align: top;\n",
       "    }\n",
       "\n",
       "    .dataframe thead th {\n",
       "        text-align: right;\n",
       "    }\n",
       "</style>\n",
       "<table border=\"1\" class=\"dataframe\">\n",
       "  <thead>\n",
       "    <tr style=\"text-align: right;\">\n",
       "      <th></th>\n",
       "      <th>name_1</th>\n",
       "      <th>name_2</th>\n",
       "      <th>is_duplicate</th>\n",
       "    </tr>\n",
       "    <tr>\n",
       "      <th>pair_id</th>\n",
       "      <th></th>\n",
       "      <th></th>\n",
       "      <th></th>\n",
       "    </tr>\n",
       "  </thead>\n",
       "  <tbody>\n",
       "    <tr>\n",
       "      <th>1</th>\n",
       "      <td>Iko Industries Ltd</td>\n",
       "      <td>Enormous Industrial Trade Pvt Ltd</td>\n",
       "      <td>0</td>\n",
       "    </tr>\n",
       "    <tr>\n",
       "      <th>2</th>\n",
       "      <td>Apcotex Industries Ltd</td>\n",
       "      <td>Technocraft Industries India Ltd</td>\n",
       "      <td>0</td>\n",
       "    </tr>\n",
       "    <tr>\n",
       "      <th>3</th>\n",
       "      <td>Rishichem Distributors Pvt Ltd</td>\n",
       "      <td>Dsa</td>\n",
       "      <td>0</td>\n",
       "    </tr>\n",
       "    <tr>\n",
       "      <th>4</th>\n",
       "      <td>Powermax Rubber Factory</td>\n",
       "      <td>Co One</td>\n",
       "      <td>0</td>\n",
       "    </tr>\n",
       "    <tr>\n",
       "      <th>5</th>\n",
       "      <td>Tress AS</td>\n",
       "      <td>Longyou Industries Park Zhejiang</td>\n",
       "      <td>0</td>\n",
       "    </tr>\n",
       "  </tbody>\n",
       "</table>\n",
       "</div>"
      ],
      "text/plain": [
       "                                 name_1                             name_2  \\\n",
       "pair_id                                                                      \n",
       "1                    Iko Industries Ltd  Enormous Industrial Trade Pvt Ltd   \n",
       "2                Apcotex Industries Ltd   Technocraft Industries India Ltd   \n",
       "3        Rishichem Distributors Pvt Ltd                                Dsa   \n",
       "4               Powermax Rubber Factory                             Co One   \n",
       "5                              Tress AS   Longyou Industries Park Zhejiang   \n",
       "\n",
       "         is_duplicate  \n",
       "pair_id                \n",
       "1                   0  \n",
       "2                   0  \n",
       "3                   0  \n",
       "4                   0  \n",
       "5                   0  "
      ]
     },
     "execution_count": 281,
     "metadata": {},
     "output_type": "execute_result"
    }
   ],
   "source": [
    "latin_df_copy.head()"
   ]
  },
  {
   "cell_type": "code",
   "execution_count": 283,
   "id": "0509bd42",
   "metadata": {},
   "outputs": [
    {
     "data": {
      "text/plain": [
       "(490111, 3)"
      ]
     },
     "execution_count": 283,
     "metadata": {},
     "output_type": "execute_result"
    }
   ],
   "source": [
    "latin_df_copy.shape"
   ]
  },
  {
   "cell_type": "code",
   "execution_count": 284,
   "id": "b9f97a75",
   "metadata": {},
   "outputs": [
    {
     "data": {
      "text/html": [
       "<div>\n",
       "<style scoped>\n",
       "    .dataframe tbody tr th:only-of-type {\n",
       "        vertical-align: middle;\n",
       "    }\n",
       "\n",
       "    .dataframe tbody tr th {\n",
       "        vertical-align: top;\n",
       "    }\n",
       "\n",
       "    .dataframe thead th {\n",
       "        text-align: right;\n",
       "    }\n",
       "</style>\n",
       "<table border=\"1\" class=\"dataframe\">\n",
       "  <thead>\n",
       "    <tr style=\"text-align: right;\">\n",
       "      <th></th>\n",
       "      <th>name_1</th>\n",
       "      <th>name_2</th>\n",
       "    </tr>\n",
       "    <tr>\n",
       "      <th>is_duplicate</th>\n",
       "      <th></th>\n",
       "      <th></th>\n",
       "    </tr>\n",
       "  </thead>\n",
       "  <tbody>\n",
       "    <tr>\n",
       "      <th>0</th>\n",
       "      <td>486646</td>\n",
       "      <td>486646</td>\n",
       "    </tr>\n",
       "    <tr>\n",
       "      <th>1</th>\n",
       "      <td>3465</td>\n",
       "      <td>3465</td>\n",
       "    </tr>\n",
       "  </tbody>\n",
       "</table>\n",
       "</div>"
      ],
      "text/plain": [
       "              name_1  name_2\n",
       "is_duplicate                \n",
       "0             486646  486646\n",
       "1               3465    3465"
      ]
     },
     "execution_count": 284,
     "metadata": {},
     "output_type": "execute_result"
    }
   ],
   "source": [
    "latin_df_copy.groupby('is_duplicate').count()"
   ]
  },
  {
   "cell_type": "code",
   "execution_count": 286,
   "id": "8078139f",
   "metadata": {},
   "outputs": [
    {
     "data": {
      "text/plain": [
       "name_1          False\n",
       "name_2          False\n",
       "is_duplicate    False\n",
       "dtype: bool"
      ]
     },
     "execution_count": 286,
     "metadata": {},
     "output_type": "execute_result"
    }
   ],
   "source": [
    "latin_df_copy.isna().any()"
   ]
  },
  {
   "cell_type": "code",
   "execution_count": 292,
   "id": "3808b9af",
   "metadata": {},
   "outputs": [
    {
     "data": {
      "text/html": [
       "<div>\n",
       "<style scoped>\n",
       "    .dataframe tbody tr th:only-of-type {\n",
       "        vertical-align: middle;\n",
       "    }\n",
       "\n",
       "    .dataframe tbody tr th {\n",
       "        vertical-align: top;\n",
       "    }\n",
       "\n",
       "    .dataframe thead th {\n",
       "        text-align: right;\n",
       "    }\n",
       "</style>\n",
       "<table border=\"1\" class=\"dataframe\">\n",
       "  <thead>\n",
       "    <tr style=\"text-align: right;\">\n",
       "      <th></th>\n",
       "      <th>name_1</th>\n",
       "      <th>name_2</th>\n",
       "      <th>is_duplicate</th>\n",
       "    </tr>\n",
       "    <tr>\n",
       "      <th>pair_id</th>\n",
       "      <th></th>\n",
       "      <th></th>\n",
       "      <th></th>\n",
       "    </tr>\n",
       "  </thead>\n",
       "  <tbody>\n",
       "    <tr>\n",
       "      <th>1</th>\n",
       "      <td>Iko Industries Ltd</td>\n",
       "      <td>Enormous Industrial Trade Pvt Ltd</td>\n",
       "      <td>0</td>\n",
       "    </tr>\n",
       "    <tr>\n",
       "      <th>2</th>\n",
       "      <td>Apcotex Industries Ltd</td>\n",
       "      <td>Technocraft Industries India Ltd</td>\n",
       "      <td>0</td>\n",
       "    </tr>\n",
       "    <tr>\n",
       "      <th>3</th>\n",
       "      <td>Rishichem Distributors Pvt Ltd</td>\n",
       "      <td>Dsa</td>\n",
       "      <td>0</td>\n",
       "    </tr>\n",
       "  </tbody>\n",
       "</table>\n",
       "</div>"
      ],
      "text/plain": [
       "                                 name_1                             name_2  \\\n",
       "pair_id                                                                      \n",
       "1                    Iko Industries Ltd  Enormous Industrial Trade Pvt Ltd   \n",
       "2                Apcotex Industries Ltd   Technocraft Industries India Ltd   \n",
       "3        Rishichem Distributors Pvt Ltd                                Dsa   \n",
       "\n",
       "         is_duplicate  \n",
       "pair_id                \n",
       "1                   0  \n",
       "2                   0  \n",
       "3                   0  "
      ]
     },
     "execution_count": 292,
     "metadata": {},
     "output_type": "execute_result"
    }
   ],
   "source": [
    "latin_df_copy.head(3)"
   ]
  },
  {
   "cell_type": "code",
   "execution_count": 293,
   "id": "7464d157",
   "metadata": {},
   "outputs": [],
   "source": [
    "latin_df_copy.to_csv('clear_latin_data.csv', index=False)"
   ]
  },
  {
   "cell_type": "markdown",
   "id": "46fe79d3",
   "metadata": {},
   "source": [
    "# Разбиение данных на обучение и тест"
   ]
  },
  {
   "cell_type": "markdown",
   "id": "a53c4717",
   "metadata": {},
   "source": [
    "Разделим выюорку на train и test сохранив процентное соотношение классов. Для теста выделим $10\\%$ всей выборки."
   ]
  },
  {
   "cell_type": "code",
   "execution_count": 294,
   "id": "6eabdae0",
   "metadata": {},
   "outputs": [],
   "source": [
    "ds_path = '../data/clear_latin_data.csv'\n",
    "df_clear = pd.read_csv(ds_path)"
   ]
  },
  {
   "cell_type": "code",
   "execution_count": 295,
   "id": "c90d5d22",
   "metadata": {},
   "outputs": [
    {
     "data": {
      "text/html": [
       "<div>\n",
       "<style scoped>\n",
       "    .dataframe tbody tr th:only-of-type {\n",
       "        vertical-align: middle;\n",
       "    }\n",
       "\n",
       "    .dataframe tbody tr th {\n",
       "        vertical-align: top;\n",
       "    }\n",
       "\n",
       "    .dataframe thead th {\n",
       "        text-align: right;\n",
       "    }\n",
       "</style>\n",
       "<table border=\"1\" class=\"dataframe\">\n",
       "  <thead>\n",
       "    <tr style=\"text-align: right;\">\n",
       "      <th></th>\n",
       "      <th>name_1</th>\n",
       "      <th>name_2</th>\n",
       "      <th>is_duplicate</th>\n",
       "    </tr>\n",
       "  </thead>\n",
       "  <tbody>\n",
       "    <tr>\n",
       "      <th>0</th>\n",
       "      <td>Iko Industries Ltd</td>\n",
       "      <td>Enormous Industrial Trade Pvt Ltd</td>\n",
       "      <td>0</td>\n",
       "    </tr>\n",
       "    <tr>\n",
       "      <th>1</th>\n",
       "      <td>Apcotex Industries Ltd</td>\n",
       "      <td>Technocraft Industries India Ltd</td>\n",
       "      <td>0</td>\n",
       "    </tr>\n",
       "    <tr>\n",
       "      <th>2</th>\n",
       "      <td>Rishichem Distributors Pvt Ltd</td>\n",
       "      <td>Dsa</td>\n",
       "      <td>0</td>\n",
       "    </tr>\n",
       "  </tbody>\n",
       "</table>\n",
       "</div>"
      ],
      "text/plain": [
       "                           name_1                             name_2  \\\n",
       "0              Iko Industries Ltd  Enormous Industrial Trade Pvt Ltd   \n",
       "1          Apcotex Industries Ltd   Technocraft Industries India Ltd   \n",
       "2  Rishichem Distributors Pvt Ltd                                Dsa   \n",
       "\n",
       "   is_duplicate  \n",
       "0             0  \n",
       "1             0  \n",
       "2             0  "
      ]
     },
     "execution_count": 295,
     "metadata": {},
     "output_type": "execute_result"
    }
   ],
   "source": [
    "df_clear.head(3)"
   ]
  },
  {
   "cell_type": "code",
   "execution_count": 296,
   "id": "7d5dcfc8",
   "metadata": {},
   "outputs": [],
   "source": [
    "X, y = df_clear[['name_1', 'name_2']].values, df_clear[['is_duplicate']].values"
   ]
  },
  {
   "cell_type": "code",
   "execution_count": 297,
   "id": "f51b8d93",
   "metadata": {},
   "outputs": [],
   "source": [
    "X_train, X_test, y_train, y_test = train_test_split(\n",
    "    X, y, stratify=y, shuffle=True, test_size=0.1, random_state=681)"
   ]
  },
  {
   "cell_type": "code",
   "execution_count": 298,
   "id": "8971173f",
   "metadata": {},
   "outputs": [
    {
     "name": "stdout",
     "output_type": "stream",
     "text": [
      "X_train: (441099, 2)\n",
      "X_test: (49012, 2)\n",
      "\n",
      "y_train: (441099, 1)\n",
      "y_test: (49012, 1)\n"
     ]
    }
   ],
   "source": [
    "print(f'X_train: {X_train.shape}')\n",
    "print(f'X_test: {X_test.shape}')\n",
    "print()\n",
    "print(f'y_train: {y_train.shape}')\n",
    "print(f'y_test: {y_test.shape}')"
   ]
  },
  {
   "cell_type": "code",
   "execution_count": 299,
   "id": "d1eb1ca3",
   "metadata": {},
   "outputs": [
    {
     "name": "stdout",
     "output_type": "stream",
     "text": [
      "y_train: 0.0071\n",
      "y_test: 0.0071\n"
     ]
    }
   ],
   "source": [
    "y_train_coeff = round(\n",
    "    y_train.sum() / (y_train.shape[0] - y_train.sum()), 4)\n",
    "print(f'y_train: {y_train_coeff}')\n",
    "\n",
    "y_test_coeff = round(\n",
    "    y_test.sum() / (y_test.shape[0] - y_test.sum()), 4)\n",
    "print(f'y_test: {y_test_coeff}')"
   ]
  },
  {
   "cell_type": "markdown",
   "id": "6a4156f6",
   "metadata": {},
   "source": [
    "Сохраним данные"
   ]
  },
  {
   "cell_type": "code",
   "execution_count": 300,
   "id": "d1714571",
   "metadata": {},
   "outputs": [],
   "source": [
    "df_train_data = pd.DataFrame(X_train, columns=['name_1', 'name_2'])\n",
    "df_train_data['is_duplicate'] = y_train\n",
    "\n",
    "df_test_data = pd.DataFrame(X_test, columns=['name_1', 'name_2'])\n",
    "df_test_data['is_duplicate'] = y_test"
   ]
  },
  {
   "cell_type": "code",
   "execution_count": 301,
   "id": "9cfc820e",
   "metadata": {},
   "outputs": [],
   "source": [
    "df_train_data.to_csv('train_data.csv', index=False)"
   ]
  },
  {
   "cell_type": "code",
   "execution_count": 302,
   "id": "d5e51827",
   "metadata": {},
   "outputs": [],
   "source": [
    "df_test_data.to_csv('test_data.csv', index=False)"
   ]
  },
  {
   "cell_type": "markdown",
   "id": "2986abbf",
   "metadata": {},
   "source": [
    "# Проверка данных"
   ]
  },
  {
   "cell_type": "code",
   "execution_count": 307,
   "id": "74522fa7",
   "metadata": {},
   "outputs": [],
   "source": [
    "train_data_path = '../data/train_data.csv'\n",
    "test_data_path = '../data/test_data.csv'"
   ]
  },
  {
   "cell_type": "code",
   "execution_count": 308,
   "id": "f3078fad",
   "metadata": {},
   "outputs": [],
   "source": [
    "train_data = pd.read_csv(train_data_path)\n",
    "test_data = pd.read_csv(test_data_path)"
   ]
  },
  {
   "cell_type": "code",
   "execution_count": 309,
   "id": "a2aaf515",
   "metadata": {},
   "outputs": [
    {
     "name": "stdout",
     "output_type": "stream",
     "text": [
      "(441099, 3)\n"
     ]
    },
    {
     "data": {
      "text/plain": [
       "0.0071"
      ]
     },
     "execution_count": 309,
     "metadata": {},
     "output_type": "execute_result"
    }
   ],
   "source": [
    "print(train_data.shape)\n",
    "train_s = train_data['is_duplicate'].sum()\n",
    "round(train_s / (train_data['is_duplicate'].shape[0] - train_s), 4)"
   ]
  },
  {
   "cell_type": "code",
   "execution_count": 310,
   "id": "6fa847d3",
   "metadata": {},
   "outputs": [
    {
     "name": "stdout",
     "output_type": "stream",
     "text": [
      "(49012, 3)\n"
     ]
    },
    {
     "data": {
      "text/plain": [
       "0.0071"
      ]
     },
     "execution_count": 310,
     "metadata": {},
     "output_type": "execute_result"
    }
   ],
   "source": [
    "print(test_data.shape)\n",
    "test_s = test_data['is_duplicate'].sum()\n",
    "round(test_s / (test_data['is_duplicate'].shape[0] - test_s), 4)"
   ]
  }
 ],
 "metadata": {
  "kernelspec": {
   "display_name": "Python 3 (ipykernel)",
   "language": "python",
   "name": "python3"
  },
  "language_info": {
   "codemirror_mode": {
    "name": "ipython",
    "version": 3
   },
   "file_extension": ".py",
   "mimetype": "text/x-python",
   "name": "python",
   "nbconvert_exporter": "python",
   "pygments_lexer": "ipython3",
   "version": "3.9.13"
  }
 },
 "nbformat": 4,
 "nbformat_minor": 5
}
