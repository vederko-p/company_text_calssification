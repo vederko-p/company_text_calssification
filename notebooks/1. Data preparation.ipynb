{
 "cells": [
  {
   "cell_type": "code",
   "execution_count": 25,
   "id": "d14a0c1e",
   "metadata": {},
   "outputs": [],
   "source": [
    "import numpy as np\n",
    "import pandas as pd\n",
    "from sklearn.model_selection import train_test_split"
   ]
  },
  {
   "cell_type": "markdown",
   "id": "e1ae63ab",
   "metadata": {},
   "source": [
    "# Первичный анализ данных"
   ]
  },
  {
   "cell_type": "code",
   "execution_count": 2,
   "id": "8ab0265e",
   "metadata": {},
   "outputs": [],
   "source": [
    "data_path = '../data/full_data.csv'"
   ]
  },
  {
   "cell_type": "code",
   "execution_count": 3,
   "id": "250b42ae",
   "metadata": {},
   "outputs": [],
   "source": [
    "df = pd.read_csv(data_path, index_col=0)"
   ]
  },
  {
   "cell_type": "code",
   "execution_count": 4,
   "id": "daaf45c5",
   "metadata": {},
   "outputs": [
    {
     "data": {
      "text/html": [
       "<div>\n",
       "<style scoped>\n",
       "    .dataframe tbody tr th:only-of-type {\n",
       "        vertical-align: middle;\n",
       "    }\n",
       "\n",
       "    .dataframe tbody tr th {\n",
       "        vertical-align: top;\n",
       "    }\n",
       "\n",
       "    .dataframe thead th {\n",
       "        text-align: right;\n",
       "    }\n",
       "</style>\n",
       "<table border=\"1\" class=\"dataframe\">\n",
       "  <thead>\n",
       "    <tr style=\"text-align: right;\">\n",
       "      <th></th>\n",
       "      <th>name_1</th>\n",
       "      <th>name_2</th>\n",
       "      <th>is_duplicate</th>\n",
       "    </tr>\n",
       "    <tr>\n",
       "      <th>pair_id</th>\n",
       "      <th></th>\n",
       "      <th></th>\n",
       "      <th></th>\n",
       "    </tr>\n",
       "  </thead>\n",
       "  <tbody>\n",
       "    <tr>\n",
       "      <th>1</th>\n",
       "      <td>Iko Industries Ltd.</td>\n",
       "      <td>Enormous Industrial Trade Pvt., Ltd.</td>\n",
       "      <td>0</td>\n",
       "    </tr>\n",
       "    <tr>\n",
       "      <th>2</th>\n",
       "      <td>Apcotex Industries Ltd.</td>\n",
       "      <td>Technocraft Industries (India) Ltd.</td>\n",
       "      <td>0</td>\n",
       "    </tr>\n",
       "    <tr>\n",
       "      <th>3</th>\n",
       "      <td>Rishichem Distributors Pvt., Ltd.</td>\n",
       "      <td>Dsa</td>\n",
       "      <td>0</td>\n",
       "    </tr>\n",
       "    <tr>\n",
       "      <th>4</th>\n",
       "      <td>Powermax Rubber Factory</td>\n",
       "      <td>Co. One</td>\n",
       "      <td>0</td>\n",
       "    </tr>\n",
       "    <tr>\n",
       "      <th>5</th>\n",
       "      <td>Tress A/S</td>\n",
       "      <td>Longyou Industries Park Zhejiang</td>\n",
       "      <td>0</td>\n",
       "    </tr>\n",
       "  </tbody>\n",
       "</table>\n",
       "</div>"
      ],
      "text/plain": [
       "                                    name_1  \\\n",
       "pair_id                                      \n",
       "1                      Iko Industries Ltd.   \n",
       "2                  Apcotex Industries Ltd.   \n",
       "3        Rishichem Distributors Pvt., Ltd.   \n",
       "4                  Powermax Rubber Factory   \n",
       "5                                Tress A/S   \n",
       "\n",
       "                                       name_2  is_duplicate  \n",
       "pair_id                                                      \n",
       "1        Enormous Industrial Trade Pvt., Ltd.             0  \n",
       "2         Technocraft Industries (India) Ltd.             0  \n",
       "3                                         Dsa             0  \n",
       "4                                     Co. One             0  \n",
       "5            Longyou Industries Park Zhejiang             0  "
      ]
     },
     "execution_count": 4,
     "metadata": {},
     "output_type": "execute_result"
    }
   ],
   "source": [
    "df.head()"
   ]
  },
  {
   "cell_type": "code",
   "execution_count": 6,
   "id": "0fcc3198",
   "metadata": {},
   "outputs": [
    {
     "data": {
      "text/html": [
       "<div>\n",
       "<style scoped>\n",
       "    .dataframe tbody tr th:only-of-type {\n",
       "        vertical-align: middle;\n",
       "    }\n",
       "\n",
       "    .dataframe tbody tr th {\n",
       "        vertical-align: top;\n",
       "    }\n",
       "\n",
       "    .dataframe thead th {\n",
       "        text-align: right;\n",
       "    }\n",
       "</style>\n",
       "<table border=\"1\" class=\"dataframe\">\n",
       "  <thead>\n",
       "    <tr style=\"text-align: right;\">\n",
       "      <th></th>\n",
       "      <th>name_1</th>\n",
       "      <th>name_2</th>\n",
       "    </tr>\n",
       "    <tr>\n",
       "      <th>is_duplicate</th>\n",
       "      <th></th>\n",
       "      <th></th>\n",
       "    </tr>\n",
       "  </thead>\n",
       "  <tbody>\n",
       "    <tr>\n",
       "      <th>0</th>\n",
       "      <td>494161</td>\n",
       "      <td>494161</td>\n",
       "    </tr>\n",
       "    <tr>\n",
       "      <th>1</th>\n",
       "      <td>3658</td>\n",
       "      <td>3658</td>\n",
       "    </tr>\n",
       "  </tbody>\n",
       "</table>\n",
       "</div>"
      ],
      "text/plain": [
       "              name_1  name_2\n",
       "is_duplicate                \n",
       "0             494161  494161\n",
       "1               3658    3658"
      ]
     },
     "execution_count": 6,
     "metadata": {},
     "output_type": "execute_result"
    }
   ],
   "source": [
    "df.groupby('is_duplicate').count()"
   ]
  },
  {
   "cell_type": "markdown",
   "id": "47622cdc",
   "metadata": {},
   "source": [
    "Выборка сильно несбалансирована. Разделим ее на train и test сохранив процентное соотношение классов. Для теста выделим $10\\%$ всей выборки."
   ]
  },
  {
   "cell_type": "code",
   "execution_count": 32,
   "id": "ac48808c",
   "metadata": {},
   "outputs": [],
   "source": [
    "X, y = df[['name_1', 'name_2']].values, df[['is_duplicate']].values"
   ]
  },
  {
   "cell_type": "code",
   "execution_count": 66,
   "id": "f944052f",
   "metadata": {},
   "outputs": [],
   "source": [
    "X_train, X_test, y_train, y_test = train_test_split(\n",
    "    X, y, stratify=y, shuffle=True, test_size=0.1, random_state=681)"
   ]
  },
  {
   "cell_type": "code",
   "execution_count": 67,
   "id": "abc9be37",
   "metadata": {},
   "outputs": [
    {
     "name": "stdout",
     "output_type": "stream",
     "text": [
      "X_train: (448037, 2)\n",
      "X_test: (49782, 2)\n",
      "\n",
      "y_train: (448037, 1)\n",
      "y_test: (49782, 1)\n"
     ]
    }
   ],
   "source": [
    "print(f'X_train: {X_train.shape}')\n",
    "print(f'X_test: {X_test.shape}')\n",
    "print()\n",
    "print(f'y_train: {y_train.shape}')\n",
    "print(f'y_test: {y_test.shape}')"
   ]
  },
  {
   "cell_type": "code",
   "execution_count": 68,
   "id": "f89d69bc",
   "metadata": {},
   "outputs": [
    {
     "name": "stdout",
     "output_type": "stream",
     "text": [
      "y_train: 0.0074\n",
      "y_test: 0.0074\n"
     ]
    }
   ],
   "source": [
    "y_train_coeff = round(\n",
    "    y_train.sum() / (y_train.shape[0] - y_train.sum()), 4)\n",
    "print(f'y_train: {y_train_coeff}')\n",
    "\n",
    "y_test_coeff = round(\n",
    "    y_test.sum() / (y_test.shape[0] - y_test.sum()), 4)\n",
    "print(f'y_test: {y_test_coeff}')"
   ]
  },
  {
   "cell_type": "markdown",
   "id": "5699ed05",
   "metadata": {},
   "source": [
    "Сохраним данные"
   ]
  },
  {
   "cell_type": "code",
   "execution_count": 69,
   "id": "efcc533c",
   "metadata": {},
   "outputs": [],
   "source": [
    "df_train_data = pd.DataFrame(X_train, columns=['name_1', 'name_2'])\n",
    "df_train_data['is_duplicate'] = y_train\n",
    "\n",
    "df_test_data = pd.DataFrame(X_test, columns=['name_1', 'name_2'])\n",
    "df_test_data['is_duplicate'] = y_test"
   ]
  },
  {
   "cell_type": "code",
   "execution_count": 70,
   "id": "58b58a2f",
   "metadata": {},
   "outputs": [],
   "source": [
    "df_train_data.to_csv('train_data.csv', index=False)"
   ]
  },
  {
   "cell_type": "code",
   "execution_count": 71,
   "id": "9c7d7e24",
   "metadata": {},
   "outputs": [],
   "source": [
    "df_test_data.to_csv('test_data.csv', index=False)"
   ]
  },
  {
   "cell_type": "markdown",
   "id": "30e9f048",
   "metadata": {},
   "source": [
    "# Проверка данных"
   ]
  },
  {
   "cell_type": "code",
   "execution_count": 72,
   "id": "b5fa3429",
   "metadata": {},
   "outputs": [],
   "source": [
    "train_data_path = '../data/train_data.csv'\n",
    "test_data_path = '../data/test_data.csv'"
   ]
  },
  {
   "cell_type": "code",
   "execution_count": 73,
   "id": "4e28b396",
   "metadata": {},
   "outputs": [],
   "source": [
    "train_data = pd.read_csv(train_data_path)\n",
    "test_data = pd.read_csv(test_data_path)"
   ]
  },
  {
   "cell_type": "code",
   "execution_count": 82,
   "id": "b62f70b8",
   "metadata": {},
   "outputs": [
    {
     "name": "stdout",
     "output_type": "stream",
     "text": [
      "(448037, 3)\n"
     ]
    },
    {
     "data": {
      "text/plain": [
       "0.0074"
      ]
     },
     "execution_count": 82,
     "metadata": {},
     "output_type": "execute_result"
    }
   ],
   "source": [
    "print(train_data.shape)\n",
    "train_s = train_data['is_duplicate'].sum()\n",
    "round(train_s / (train_data['is_duplicate'].shape[0] - train_s), 4)"
   ]
  },
  {
   "cell_type": "code",
   "execution_count": 83,
   "id": "71212fc8",
   "metadata": {},
   "outputs": [
    {
     "name": "stdout",
     "output_type": "stream",
     "text": [
      "(49782, 3)\n"
     ]
    },
    {
     "data": {
      "text/plain": [
       "0.0074"
      ]
     },
     "execution_count": 83,
     "metadata": {},
     "output_type": "execute_result"
    }
   ],
   "source": [
    "print(test_data.shape)\n",
    "test_s = test_data['is_duplicate'].sum()\n",
    "round(test_s / (test_data['is_duplicate'].shape[0] - test_s), 4)"
   ]
  },
  {
   "cell_type": "code",
   "execution_count": null,
   "id": "89a4ed36",
   "metadata": {},
   "outputs": [],
   "source": []
  }
 ],
 "metadata": {
  "kernelspec": {
   "display_name": "Python 3 (ipykernel)",
   "language": "python",
   "name": "python3"
  },
  "language_info": {
   "codemirror_mode": {
    "name": "ipython",
    "version": 3
   },
   "file_extension": ".py",
   "mimetype": "text/x-python",
   "name": "python",
   "nbconvert_exporter": "python",
   "pygments_lexer": "ipython3",
   "version": "3.9.13"
  }
 },
 "nbformat": 4,
 "nbformat_minor": 5
}
