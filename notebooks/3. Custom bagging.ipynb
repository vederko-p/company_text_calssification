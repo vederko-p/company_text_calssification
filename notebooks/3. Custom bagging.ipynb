{
 "cells": [
  {
   "cell_type": "code",
   "execution_count": 1,
   "id": "3c183bb0",
   "metadata": {},
   "outputs": [],
   "source": [
    "import numpy as np\n",
    "import pandas as pd"
   ]
  },
  {
   "cell_type": "code",
   "execution_count": 2,
   "id": "d393ac48",
   "metadata": {},
   "outputs": [],
   "source": [
    "train_data_path = '../data/train_data.csv'\n",
    "test_data_path = '../data/test_data.csv'"
   ]
  },
  {
   "cell_type": "code",
   "execution_count": 3,
   "id": "53d39af4",
   "metadata": {},
   "outputs": [],
   "source": [
    "train_data = pd.read_csv(train_data_path)\n",
    "test_data = pd.read_csv(test_data_path)"
   ]
  },
  {
   "cell_type": "markdown",
   "id": "6e12122a",
   "metadata": {},
   "source": [
    "# Вариант бэггинга"
   ]
  },
  {
   "cell_type": "code",
   "execution_count": 4,
   "id": "527209f7",
   "metadata": {},
   "outputs": [
    {
     "data": {
      "text/plain": [
       "(441099, 3)"
      ]
     },
     "execution_count": 4,
     "metadata": {},
     "output_type": "execute_result"
    }
   ],
   "source": [
    "train_data.shape"
   ]
  },
  {
   "cell_type": "code",
   "execution_count": 7,
   "id": "61f0f5e7",
   "metadata": {},
   "outputs": [
    {
     "data": {
      "text/html": [
       "<div>\n",
       "<style scoped>\n",
       "    .dataframe tbody tr th:only-of-type {\n",
       "        vertical-align: middle;\n",
       "    }\n",
       "\n",
       "    .dataframe tbody tr th {\n",
       "        vertical-align: top;\n",
       "    }\n",
       "\n",
       "    .dataframe thead th {\n",
       "        text-align: right;\n",
       "    }\n",
       "</style>\n",
       "<table border=\"1\" class=\"dataframe\">\n",
       "  <thead>\n",
       "    <tr style=\"text-align: right;\">\n",
       "      <th></th>\n",
       "      <th>name_1</th>\n",
       "      <th>name_2</th>\n",
       "      <th>is_duplicate</th>\n",
       "    </tr>\n",
       "  </thead>\n",
       "  <tbody>\n",
       "    <tr>\n",
       "      <th>0</th>\n",
       "      <td>Texxon Chemicals Inc</td>\n",
       "      <td>AL</td>\n",
       "      <td>0</td>\n",
       "    </tr>\n",
       "    <tr>\n",
       "      <th>1</th>\n",
       "      <td>Morgan Polimer Seals S De Rl De Cv</td>\n",
       "      <td>Usa</td>\n",
       "      <td>0</td>\n",
       "    </tr>\n",
       "    <tr>\n",
       "      <th>2</th>\n",
       "      <td>Weiler</td>\n",
       "      <td>Shanghai Jixiang Automobile Roof Trimming Co Ltd</td>\n",
       "      <td>0</td>\n",
       "    </tr>\n",
       "  </tbody>\n",
       "</table>\n",
       "</div>"
      ],
      "text/plain": [
       "                               name_1  \\\n",
       "0                Texxon Chemicals Inc   \n",
       "1  Morgan Polimer Seals S De Rl De Cv   \n",
       "2                              Weiler   \n",
       "\n",
       "                                             name_2  is_duplicate  \n",
       "0                                                AL             0  \n",
       "1                                               Usa             0  \n",
       "2  Shanghai Jixiang Automobile Roof Trimming Co Ltd             0  "
      ]
     },
     "execution_count": 7,
     "metadata": {},
     "output_type": "execute_result"
    }
   ],
   "source": [
    "train_data.head(3)"
   ]
  },
  {
   "cell_type": "code",
   "execution_count": 10,
   "id": "60b9849e",
   "metadata": {},
   "outputs": [
    {
     "data": {
      "text/html": [
       "<div>\n",
       "<style scoped>\n",
       "    .dataframe tbody tr th:only-of-type {\n",
       "        vertical-align: middle;\n",
       "    }\n",
       "\n",
       "    .dataframe tbody tr th {\n",
       "        vertical-align: top;\n",
       "    }\n",
       "\n",
       "    .dataframe thead th {\n",
       "        text-align: right;\n",
       "    }\n",
       "</style>\n",
       "<table border=\"1\" class=\"dataframe\">\n",
       "  <thead>\n",
       "    <tr style=\"text-align: right;\">\n",
       "      <th></th>\n",
       "      <th>name_1</th>\n",
       "      <th>name_2</th>\n",
       "    </tr>\n",
       "    <tr>\n",
       "      <th>is_duplicate</th>\n",
       "      <th></th>\n",
       "      <th></th>\n",
       "    </tr>\n",
       "  </thead>\n",
       "  <tbody>\n",
       "    <tr>\n",
       "      <th>0</th>\n",
       "      <td>437981</td>\n",
       "      <td>437981</td>\n",
       "    </tr>\n",
       "    <tr>\n",
       "      <th>1</th>\n",
       "      <td>3118</td>\n",
       "      <td>3118</td>\n",
       "    </tr>\n",
       "  </tbody>\n",
       "</table>\n",
       "</div>"
      ],
      "text/plain": [
       "              name_1  name_2\n",
       "is_duplicate                \n",
       "0             437981  437981\n",
       "1               3118    3118"
      ]
     },
     "execution_count": 10,
     "metadata": {},
     "output_type": "execute_result"
    }
   ],
   "source": [
    "count_classes_df = train_data.groupby('is_duplicate').count()\n",
    "count_classes_df"
   ]
  },
  {
   "cell_type": "code",
   "execution_count": 15,
   "id": "07c5bbe8",
   "metadata": {},
   "outputs": [],
   "source": [
    "positive_n = count_classes_df.loc[1, 'name_1']\n",
    "negative_n = count_classes_df.loc[0, 'name_1']"
   ]
  },
  {
   "cell_type": "code",
   "execution_count": 17,
   "id": "464b969b",
   "metadata": {},
   "outputs": [
    {
     "data": {
      "text/plain": [
       "140"
      ]
     },
     "execution_count": 17,
     "metadata": {},
     "output_type": "execute_result"
    }
   ],
   "source": [
    "negative_n // positive_n"
   ]
  },
  {
   "cell_type": "code",
   "execution_count": 27,
   "id": "adfa0d0f",
   "metadata": {},
   "outputs": [
    {
     "data": {
      "text/plain": [
       "4677"
      ]
     },
     "execution_count": 27,
     "metadata": {},
     "output_type": "execute_result"
    }
   ],
   "source": [
    "bag_size = int(positive_n*1.5)\n",
    "bag_size"
   ]
  },
  {
   "cell_type": "code",
   "execution_count": 25,
   "id": "eed81a69",
   "metadata": {},
   "outputs": [],
   "source": [
    "negative_pairs_df = train_data[train_data['is_duplicate'] == 0]"
   ]
  },
  {
   "cell_type": "code",
   "execution_count": 35,
   "id": "6abe4496",
   "metadata": {},
   "outputs": [],
   "source": [
    "bags = 10\n",
    "np.seed = 456\n",
    "bags_indexes = np.random.randint(0, negative_n, (bag_size, bags))"
   ]
  },
  {
   "cell_type": "code",
   "execution_count": 36,
   "id": "42d6dd7d",
   "metadata": {},
   "outputs": [
    {
     "data": {
      "text/plain": [
       "(4677, 10)"
      ]
     },
     "execution_count": 36,
     "metadata": {},
     "output_type": "execute_result"
    }
   ],
   "source": [
    "bags_indexes.shape"
   ]
  },
  {
   "cell_type": "code",
   "execution_count": null,
   "id": "8bb6f22f",
   "metadata": {},
   "outputs": [],
   "source": []
  }
 ],
 "metadata": {
  "kernelspec": {
   "display_name": "Python 3 (ipykernel)",
   "language": "python",
   "name": "python3"
  },
  "language_info": {
   "codemirror_mode": {
    "name": "ipython",
    "version": 3
   },
   "file_extension": ".py",
   "mimetype": "text/x-python",
   "name": "python",
   "nbconvert_exporter": "python",
   "pygments_lexer": "ipython3",
   "version": "3.9.13"
  }
 },
 "nbformat": 4,
 "nbformat_minor": 5
}
